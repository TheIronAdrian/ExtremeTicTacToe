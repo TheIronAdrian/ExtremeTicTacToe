{
  "nbformat": 4,
  "nbformat_minor": 0,
  "metadata": {
    "colab": {
      "provenance": [],
      "machine_shape": "hm",
      "gpuType": "L4",
      "include_colab_link": true
    },
    "kernelspec": {
      "name": "python3",
      "display_name": "Python 3"
    },
    "language_info": {
      "name": "python"
    },
    "accelerator": "GPU",
    "widgets": {
      "application/vnd.jupyter.widget-state+json": {
        "89b4cb4398f144378991abea2da775ff": {
          "model_module": "@jupyter-widgets/controls",
          "model_name": "HBoxModel",
          "model_module_version": "1.5.0",
          "state": {
            "_dom_classes": [],
            "_model_module": "@jupyter-widgets/controls",
            "_model_module_version": "1.5.0",
            "_model_name": "HBoxModel",
            "_view_count": null,
            "_view_module": "@jupyter-widgets/controls",
            "_view_module_version": "1.5.0",
            "_view_name": "HBoxView",
            "box_style": "",
            "children": [
              "IPY_MODEL_87e19db05dce48b9be8aa66605cae5c3",
              "IPY_MODEL_b80b847487104fcc84e71831407f402a",
              "IPY_MODEL_7e1db200a07d43beb81c8c5d4dc3a688"
            ],
            "layout": "IPY_MODEL_d204083ebb2c4bb58126a8e9e442b3e8"
          }
        },
        "87e19db05dce48b9be8aa66605cae5c3": {
          "model_module": "@jupyter-widgets/controls",
          "model_name": "HTMLModel",
          "model_module_version": "1.5.0",
          "state": {
            "_dom_classes": [],
            "_model_module": "@jupyter-widgets/controls",
            "_model_module_version": "1.5.0",
            "_model_name": "HTMLModel",
            "_view_count": null,
            "_view_module": "@jupyter-widgets/controls",
            "_view_module_version": "1.5.0",
            "_view_name": "HTMLView",
            "description": "",
            "description_tooltip": null,
            "layout": "IPY_MODEL_20c69ba8d45e44cbadb2f42159829c5b",
            "placeholder": "​",
            "style": "IPY_MODEL_b8498a8dabb149569fc6e5a7bd0c602d",
            "value": "Map: 100%"
          }
        },
        "b80b847487104fcc84e71831407f402a": {
          "model_module": "@jupyter-widgets/controls",
          "model_name": "FloatProgressModel",
          "model_module_version": "1.5.0",
          "state": {
            "_dom_classes": [],
            "_model_module": "@jupyter-widgets/controls",
            "_model_module_version": "1.5.0",
            "_model_name": "FloatProgressModel",
            "_view_count": null,
            "_view_module": "@jupyter-widgets/controls",
            "_view_module_version": "1.5.0",
            "_view_name": "ProgressView",
            "bar_style": "success",
            "description": "",
            "description_tooltip": null,
            "layout": "IPY_MODEL_bf989de6a9aa4c83af406a6beb2680bf",
            "max": 1524,
            "min": 0,
            "orientation": "horizontal",
            "style": "IPY_MODEL_de1d2a7cca054ef68a18f68d9b51eeb9",
            "value": 1524
          }
        },
        "7e1db200a07d43beb81c8c5d4dc3a688": {
          "model_module": "@jupyter-widgets/controls",
          "model_name": "HTMLModel",
          "model_module_version": "1.5.0",
          "state": {
            "_dom_classes": [],
            "_model_module": "@jupyter-widgets/controls",
            "_model_module_version": "1.5.0",
            "_model_name": "HTMLModel",
            "_view_count": null,
            "_view_module": "@jupyter-widgets/controls",
            "_view_module_version": "1.5.0",
            "_view_name": "HTMLView",
            "description": "",
            "description_tooltip": null,
            "layout": "IPY_MODEL_098492a813a04fe3b57daa0a9f2124d6",
            "placeholder": "​",
            "style": "IPY_MODEL_8d19abec4290483e8f357f3562c100cd",
            "value": " 1524/1524 [00:00&lt;00:00, 17353.38 examples/s]"
          }
        },
        "d204083ebb2c4bb58126a8e9e442b3e8": {
          "model_module": "@jupyter-widgets/base",
          "model_name": "LayoutModel",
          "model_module_version": "1.2.0",
          "state": {
            "_model_module": "@jupyter-widgets/base",
            "_model_module_version": "1.2.0",
            "_model_name": "LayoutModel",
            "_view_count": null,
            "_view_module": "@jupyter-widgets/base",
            "_view_module_version": "1.2.0",
            "_view_name": "LayoutView",
            "align_content": null,
            "align_items": null,
            "align_self": null,
            "border": null,
            "bottom": null,
            "display": null,
            "flex": null,
            "flex_flow": null,
            "grid_area": null,
            "grid_auto_columns": null,
            "grid_auto_flow": null,
            "grid_auto_rows": null,
            "grid_column": null,
            "grid_gap": null,
            "grid_row": null,
            "grid_template_areas": null,
            "grid_template_columns": null,
            "grid_template_rows": null,
            "height": null,
            "justify_content": null,
            "justify_items": null,
            "left": null,
            "margin": null,
            "max_height": null,
            "max_width": null,
            "min_height": null,
            "min_width": null,
            "object_fit": null,
            "object_position": null,
            "order": null,
            "overflow": null,
            "overflow_x": null,
            "overflow_y": null,
            "padding": null,
            "right": null,
            "top": null,
            "visibility": null,
            "width": null
          }
        },
        "20c69ba8d45e44cbadb2f42159829c5b": {
          "model_module": "@jupyter-widgets/base",
          "model_name": "LayoutModel",
          "model_module_version": "1.2.0",
          "state": {
            "_model_module": "@jupyter-widgets/base",
            "_model_module_version": "1.2.0",
            "_model_name": "LayoutModel",
            "_view_count": null,
            "_view_module": "@jupyter-widgets/base",
            "_view_module_version": "1.2.0",
            "_view_name": "LayoutView",
            "align_content": null,
            "align_items": null,
            "align_self": null,
            "border": null,
            "bottom": null,
            "display": null,
            "flex": null,
            "flex_flow": null,
            "grid_area": null,
            "grid_auto_columns": null,
            "grid_auto_flow": null,
            "grid_auto_rows": null,
            "grid_column": null,
            "grid_gap": null,
            "grid_row": null,
            "grid_template_areas": null,
            "grid_template_columns": null,
            "grid_template_rows": null,
            "height": null,
            "justify_content": null,
            "justify_items": null,
            "left": null,
            "margin": null,
            "max_height": null,
            "max_width": null,
            "min_height": null,
            "min_width": null,
            "object_fit": null,
            "object_position": null,
            "order": null,
            "overflow": null,
            "overflow_x": null,
            "overflow_y": null,
            "padding": null,
            "right": null,
            "top": null,
            "visibility": null,
            "width": null
          }
        },
        "b8498a8dabb149569fc6e5a7bd0c602d": {
          "model_module": "@jupyter-widgets/controls",
          "model_name": "DescriptionStyleModel",
          "model_module_version": "1.5.0",
          "state": {
            "_model_module": "@jupyter-widgets/controls",
            "_model_module_version": "1.5.0",
            "_model_name": "DescriptionStyleModel",
            "_view_count": null,
            "_view_module": "@jupyter-widgets/base",
            "_view_module_version": "1.2.0",
            "_view_name": "StyleView",
            "description_width": ""
          }
        },
        "bf989de6a9aa4c83af406a6beb2680bf": {
          "model_module": "@jupyter-widgets/base",
          "model_name": "LayoutModel",
          "model_module_version": "1.2.0",
          "state": {
            "_model_module": "@jupyter-widgets/base",
            "_model_module_version": "1.2.0",
            "_model_name": "LayoutModel",
            "_view_count": null,
            "_view_module": "@jupyter-widgets/base",
            "_view_module_version": "1.2.0",
            "_view_name": "LayoutView",
            "align_content": null,
            "align_items": null,
            "align_self": null,
            "border": null,
            "bottom": null,
            "display": null,
            "flex": null,
            "flex_flow": null,
            "grid_area": null,
            "grid_auto_columns": null,
            "grid_auto_flow": null,
            "grid_auto_rows": null,
            "grid_column": null,
            "grid_gap": null,
            "grid_row": null,
            "grid_template_areas": null,
            "grid_template_columns": null,
            "grid_template_rows": null,
            "height": null,
            "justify_content": null,
            "justify_items": null,
            "left": null,
            "margin": null,
            "max_height": null,
            "max_width": null,
            "min_height": null,
            "min_width": null,
            "object_fit": null,
            "object_position": null,
            "order": null,
            "overflow": null,
            "overflow_x": null,
            "overflow_y": null,
            "padding": null,
            "right": null,
            "top": null,
            "visibility": null,
            "width": null
          }
        },
        "de1d2a7cca054ef68a18f68d9b51eeb9": {
          "model_module": "@jupyter-widgets/controls",
          "model_name": "ProgressStyleModel",
          "model_module_version": "1.5.0",
          "state": {
            "_model_module": "@jupyter-widgets/controls",
            "_model_module_version": "1.5.0",
            "_model_name": "ProgressStyleModel",
            "_view_count": null,
            "_view_module": "@jupyter-widgets/base",
            "_view_module_version": "1.2.0",
            "_view_name": "StyleView",
            "bar_color": null,
            "description_width": ""
          }
        },
        "098492a813a04fe3b57daa0a9f2124d6": {
          "model_module": "@jupyter-widgets/base",
          "model_name": "LayoutModel",
          "model_module_version": "1.2.0",
          "state": {
            "_model_module": "@jupyter-widgets/base",
            "_model_module_version": "1.2.0",
            "_model_name": "LayoutModel",
            "_view_count": null,
            "_view_module": "@jupyter-widgets/base",
            "_view_module_version": "1.2.0",
            "_view_name": "LayoutView",
            "align_content": null,
            "align_items": null,
            "align_self": null,
            "border": null,
            "bottom": null,
            "display": null,
            "flex": null,
            "flex_flow": null,
            "grid_area": null,
            "grid_auto_columns": null,
            "grid_auto_flow": null,
            "grid_auto_rows": null,
            "grid_column": null,
            "grid_gap": null,
            "grid_row": null,
            "grid_template_areas": null,
            "grid_template_columns": null,
            "grid_template_rows": null,
            "height": null,
            "justify_content": null,
            "justify_items": null,
            "left": null,
            "margin": null,
            "max_height": null,
            "max_width": null,
            "min_height": null,
            "min_width": null,
            "object_fit": null,
            "object_position": null,
            "order": null,
            "overflow": null,
            "overflow_x": null,
            "overflow_y": null,
            "padding": null,
            "right": null,
            "top": null,
            "visibility": null,
            "width": null
          }
        },
        "8d19abec4290483e8f357f3562c100cd": {
          "model_module": "@jupyter-widgets/controls",
          "model_name": "DescriptionStyleModel",
          "model_module_version": "1.5.0",
          "state": {
            "_model_module": "@jupyter-widgets/controls",
            "_model_module_version": "1.5.0",
            "_model_name": "DescriptionStyleModel",
            "_view_count": null,
            "_view_module": "@jupyter-widgets/base",
            "_view_module_version": "1.2.0",
            "_view_name": "StyleView",
            "description_width": ""
          }
        },
        "5dab8884544a4c0b8ea87518bb425703": {
          "model_module": "@jupyter-widgets/controls",
          "model_name": "HBoxModel",
          "model_module_version": "1.5.0",
          "state": {
            "_dom_classes": [],
            "_model_module": "@jupyter-widgets/controls",
            "_model_module_version": "1.5.0",
            "_model_name": "HBoxModel",
            "_view_count": null,
            "_view_module": "@jupyter-widgets/controls",
            "_view_module_version": "1.5.0",
            "_view_name": "HBoxView",
            "box_style": "",
            "children": [
              "IPY_MODEL_630f79a6b3f44bc981284210c9ff4755",
              "IPY_MODEL_8762326ab383476ebea1b6d7bbc1ae3d",
              "IPY_MODEL_538b83ba7fac490eb5e186d70ac91791"
            ],
            "layout": "IPY_MODEL_dd5cb32ac06b4596a5fd51df49ad0809"
          }
        },
        "630f79a6b3f44bc981284210c9ff4755": {
          "model_module": "@jupyter-widgets/controls",
          "model_name": "HTMLModel",
          "model_module_version": "1.5.0",
          "state": {
            "_dom_classes": [],
            "_model_module": "@jupyter-widgets/controls",
            "_model_module_version": "1.5.0",
            "_model_name": "HTMLModel",
            "_view_count": null,
            "_view_module": "@jupyter-widgets/controls",
            "_view_module_version": "1.5.0",
            "_view_name": "HTMLView",
            "description": "",
            "description_tooltip": null,
            "layout": "IPY_MODEL_74a331112c0540718a9acf65ecbd1540",
            "placeholder": "​",
            "style": "IPY_MODEL_ba07e3c674334b30a267c91747967843",
            "value": "Map: 100%"
          }
        },
        "8762326ab383476ebea1b6d7bbc1ae3d": {
          "model_module": "@jupyter-widgets/controls",
          "model_name": "FloatProgressModel",
          "model_module_version": "1.5.0",
          "state": {
            "_dom_classes": [],
            "_model_module": "@jupyter-widgets/controls",
            "_model_module_version": "1.5.0",
            "_model_name": "FloatProgressModel",
            "_view_count": null,
            "_view_module": "@jupyter-widgets/controls",
            "_view_module_version": "1.5.0",
            "_view_name": "ProgressView",
            "bar_style": "success",
            "description": "",
            "description_tooltip": null,
            "layout": "IPY_MODEL_dd780ae92d394f09bbb44e1a093262f4",
            "max": 218,
            "min": 0,
            "orientation": "horizontal",
            "style": "IPY_MODEL_133e1043ca904e7eb948e0af2d473fcd",
            "value": 218
          }
        },
        "538b83ba7fac490eb5e186d70ac91791": {
          "model_module": "@jupyter-widgets/controls",
          "model_name": "HTMLModel",
          "model_module_version": "1.5.0",
          "state": {
            "_dom_classes": [],
            "_model_module": "@jupyter-widgets/controls",
            "_model_module_version": "1.5.0",
            "_model_name": "HTMLModel",
            "_view_count": null,
            "_view_module": "@jupyter-widgets/controls",
            "_view_module_version": "1.5.0",
            "_view_name": "HTMLView",
            "description": "",
            "description_tooltip": null,
            "layout": "IPY_MODEL_9e9b95469b06475db862ee6235185ae8",
            "placeholder": "​",
            "style": "IPY_MODEL_d8b1b420306f47ebbda3373baa08f60e",
            "value": " 218/218 [00:00&lt;00:00, 7777.73 examples/s]"
          }
        },
        "dd5cb32ac06b4596a5fd51df49ad0809": {
          "model_module": "@jupyter-widgets/base",
          "model_name": "LayoutModel",
          "model_module_version": "1.2.0",
          "state": {
            "_model_module": "@jupyter-widgets/base",
            "_model_module_version": "1.2.0",
            "_model_name": "LayoutModel",
            "_view_count": null,
            "_view_module": "@jupyter-widgets/base",
            "_view_module_version": "1.2.0",
            "_view_name": "LayoutView",
            "align_content": null,
            "align_items": null,
            "align_self": null,
            "border": null,
            "bottom": null,
            "display": null,
            "flex": null,
            "flex_flow": null,
            "grid_area": null,
            "grid_auto_columns": null,
            "grid_auto_flow": null,
            "grid_auto_rows": null,
            "grid_column": null,
            "grid_gap": null,
            "grid_row": null,
            "grid_template_areas": null,
            "grid_template_columns": null,
            "grid_template_rows": null,
            "height": null,
            "justify_content": null,
            "justify_items": null,
            "left": null,
            "margin": null,
            "max_height": null,
            "max_width": null,
            "min_height": null,
            "min_width": null,
            "object_fit": null,
            "object_position": null,
            "order": null,
            "overflow": null,
            "overflow_x": null,
            "overflow_y": null,
            "padding": null,
            "right": null,
            "top": null,
            "visibility": null,
            "width": null
          }
        },
        "74a331112c0540718a9acf65ecbd1540": {
          "model_module": "@jupyter-widgets/base",
          "model_name": "LayoutModel",
          "model_module_version": "1.2.0",
          "state": {
            "_model_module": "@jupyter-widgets/base",
            "_model_module_version": "1.2.0",
            "_model_name": "LayoutModel",
            "_view_count": null,
            "_view_module": "@jupyter-widgets/base",
            "_view_module_version": "1.2.0",
            "_view_name": "LayoutView",
            "align_content": null,
            "align_items": null,
            "align_self": null,
            "border": null,
            "bottom": null,
            "display": null,
            "flex": null,
            "flex_flow": null,
            "grid_area": null,
            "grid_auto_columns": null,
            "grid_auto_flow": null,
            "grid_auto_rows": null,
            "grid_column": null,
            "grid_gap": null,
            "grid_row": null,
            "grid_template_areas": null,
            "grid_template_columns": null,
            "grid_template_rows": null,
            "height": null,
            "justify_content": null,
            "justify_items": null,
            "left": null,
            "margin": null,
            "max_height": null,
            "max_width": null,
            "min_height": null,
            "min_width": null,
            "object_fit": null,
            "object_position": null,
            "order": null,
            "overflow": null,
            "overflow_x": null,
            "overflow_y": null,
            "padding": null,
            "right": null,
            "top": null,
            "visibility": null,
            "width": null
          }
        },
        "ba07e3c674334b30a267c91747967843": {
          "model_module": "@jupyter-widgets/controls",
          "model_name": "DescriptionStyleModel",
          "model_module_version": "1.5.0",
          "state": {
            "_model_module": "@jupyter-widgets/controls",
            "_model_module_version": "1.5.0",
            "_model_name": "DescriptionStyleModel",
            "_view_count": null,
            "_view_module": "@jupyter-widgets/base",
            "_view_module_version": "1.2.0",
            "_view_name": "StyleView",
            "description_width": ""
          }
        },
        "dd780ae92d394f09bbb44e1a093262f4": {
          "model_module": "@jupyter-widgets/base",
          "model_name": "LayoutModel",
          "model_module_version": "1.2.0",
          "state": {
            "_model_module": "@jupyter-widgets/base",
            "_model_module_version": "1.2.0",
            "_model_name": "LayoutModel",
            "_view_count": null,
            "_view_module": "@jupyter-widgets/base",
            "_view_module_version": "1.2.0",
            "_view_name": "LayoutView",
            "align_content": null,
            "align_items": null,
            "align_self": null,
            "border": null,
            "bottom": null,
            "display": null,
            "flex": null,
            "flex_flow": null,
            "grid_area": null,
            "grid_auto_columns": null,
            "grid_auto_flow": null,
            "grid_auto_rows": null,
            "grid_column": null,
            "grid_gap": null,
            "grid_row": null,
            "grid_template_areas": null,
            "grid_template_columns": null,
            "grid_template_rows": null,
            "height": null,
            "justify_content": null,
            "justify_items": null,
            "left": null,
            "margin": null,
            "max_height": null,
            "max_width": null,
            "min_height": null,
            "min_width": null,
            "object_fit": null,
            "object_position": null,
            "order": null,
            "overflow": null,
            "overflow_x": null,
            "overflow_y": null,
            "padding": null,
            "right": null,
            "top": null,
            "visibility": null,
            "width": null
          }
        },
        "133e1043ca904e7eb948e0af2d473fcd": {
          "model_module": "@jupyter-widgets/controls",
          "model_name": "ProgressStyleModel",
          "model_module_version": "1.5.0",
          "state": {
            "_model_module": "@jupyter-widgets/controls",
            "_model_module_version": "1.5.0",
            "_model_name": "ProgressStyleModel",
            "_view_count": null,
            "_view_module": "@jupyter-widgets/base",
            "_view_module_version": "1.2.0",
            "_view_name": "StyleView",
            "bar_color": null,
            "description_width": ""
          }
        },
        "9e9b95469b06475db862ee6235185ae8": {
          "model_module": "@jupyter-widgets/base",
          "model_name": "LayoutModel",
          "model_module_version": "1.2.0",
          "state": {
            "_model_module": "@jupyter-widgets/base",
            "_model_module_version": "1.2.0",
            "_model_name": "LayoutModel",
            "_view_count": null,
            "_view_module": "@jupyter-widgets/base",
            "_view_module_version": "1.2.0",
            "_view_name": "LayoutView",
            "align_content": null,
            "align_items": null,
            "align_self": null,
            "border": null,
            "bottom": null,
            "display": null,
            "flex": null,
            "flex_flow": null,
            "grid_area": null,
            "grid_auto_columns": null,
            "grid_auto_flow": null,
            "grid_auto_rows": null,
            "grid_column": null,
            "grid_gap": null,
            "grid_row": null,
            "grid_template_areas": null,
            "grid_template_columns": null,
            "grid_template_rows": null,
            "height": null,
            "justify_content": null,
            "justify_items": null,
            "left": null,
            "margin": null,
            "max_height": null,
            "max_width": null,
            "min_height": null,
            "min_width": null,
            "object_fit": null,
            "object_position": null,
            "order": null,
            "overflow": null,
            "overflow_x": null,
            "overflow_y": null,
            "padding": null,
            "right": null,
            "top": null,
            "visibility": null,
            "width": null
          }
        },
        "d8b1b420306f47ebbda3373baa08f60e": {
          "model_module": "@jupyter-widgets/controls",
          "model_name": "DescriptionStyleModel",
          "model_module_version": "1.5.0",
          "state": {
            "_model_module": "@jupyter-widgets/controls",
            "_model_module_version": "1.5.0",
            "_model_name": "DescriptionStyleModel",
            "_view_count": null,
            "_view_module": "@jupyter-widgets/base",
            "_view_module_version": "1.2.0",
            "_view_name": "StyleView",
            "description_width": ""
          }
        }
      }
    }
  },
  "cells": [
    {
      "cell_type": "markdown",
      "metadata": {
        "id": "view-in-github",
        "colab_type": "text"
      },
      "source": [
        "<a href=\"https://colab.research.google.com/github/TheIronAdrian/ExtremeTicTacToe/blob/main/IOAI_2024_NLP_Problem_Mocanu_Mihai.ipynb\" target=\"_parent\"><img src=\"https://colab.research.google.com/assets/colab-badge.svg\" alt=\"Open In Colab\"/></a>"
      ]
    },
    {
      "cell_type": "markdown",
      "source": [
        "# Help BOBAI: Classify an unknown language"
      ],
      "metadata": {
        "id": "bqAFpqJlnt77"
      }
    },
    {
      "cell_type": "markdown",
      "source": [
        "<img src=\"https://drive.google.com/uc?id=1Hvgrrah-T7yFTzDP002XuRodhyfY1Hju\" width=\"750\">\n",
        "\n",
        "## Background\n",
        "Bob's AI start-up, Bobai, builds AI solutions for other companies which have to process large volumes of text in their daily tasks. Bobai serve companies from all over the world, and they pride themselves on their ability to handle a variety of languages, from English, through Arabic to Mandarin. The secret to Bobai's success is that all of their products are based on a strong multilingual language encoder, mBERT. Bobai's infrastructure is actually highly optimized for this specific language encoder, which makes their products super fast and efficient, i.e. very attractive to clients.\n",
        "\n",
        "## Task\n",
        "\n",
        "But mBERT is trained on just 101 languages. So what happens when one of Bobai's biggest clients, Amoira, requests support for a new language X that is not among those 101 languages? Bob and his team have to find a way to meet this request, as they cannot risk losing the client.\n",
        "\n",
        "The data Amoira has provided consists of a small labeled dataset for text classification and a larger corpus or raw text in the language.\n",
        "\n",
        "To make things even more complicated, Amoira has encrypted the data, as they don't want to risk competitors finding out which new market they are targetting.\n",
        "\n",
        "Bob has found out that at this time his team has no bandwidth to develop this product, so he is asking for your help. He has shared the baseline solution he uses for languages that mBERT already has support for, so you can start by checking how well this solution does and modify it to obtain better results. You should not waste any efforts on trying to decrypt the data - this will not help you build a better classifier and it will get you in trouble with Bob!\n",
        "\n",
        "Your task is to build the best text classifier for language X that you can, while operating within the constraints of Bobai:\n",
        "\n",
        "*   The classifier has to be based on mBERT (and cannot use any additional pre-trained language encoder).\n",
        "*   The classifier has to train in under 8 hours using an L4 GPU as the compute resources of the company are limited.\n",
        "*   The classifier has to perform inference on any random 500 data samples in under 5 minutes (Bobai will then apply their optimization tricks to bring this time even further down).\n",
        "\n",
        "## Deliverables\n",
        "\n",
        "You need to submit:\n",
        "\n",
        "\n",
        "*   Your model predictions on the test inputs that we will provide 48 hours before the deadline.\n",
        "  * saved as a text file in the format shown at the bottom of the notebook\n",
        "*   Your best trained model.\n",
        "  * as a link to the Huggingface Hub (read up on `push_to_hub` [here](push_to_hub)).\n",
        "*   Working code that can be used to reproduce your best trained model.\n",
        "  * In this Colab notebook.\n"
      ],
      "metadata": {
        "id": "vu6E-5QWIjlv"
      }
    },
    {
      "cell_type": "markdown",
      "source": [
        "## Prerequisites\n"
      ],
      "metadata": {
        "id": "J6BNTewtA-Ku"
      }
    },
    {
      "cell_type": "markdown",
      "source": [
        "### HuggingFace configuration\n",
        "\n",
        "The steps below need to be completed by the team leader:\n",
        "\n",
        "1. Create a team account on [HuggingFace](https://huggingface.co/) using the Gmail account provided by the IOAI organizers.\n",
        "\n",
        "2. Go to the [IOAI HuggingFace repo](https://huggingface.co/InternationalOlympiadAI) and request access to all datasets.\n",
        "\n",
        "3. In settings, create two Access Tokens, one with read rights, one with write rights, and store those in [Colab Secrets](https://www.youtube.com/watch?v=q87i2LZbbPc) as `hf_read` and `hf_write`, respectively."
      ],
      "metadata": {
        "id": "0Tg2sPb2ELb9"
      }
    },
    {
      "cell_type": "code",
      "source": [
        "from google.colab import userdata\n",
        "\n",
        "read_access_token = userdata.get('hf_read')\n",
        "write_access_token = userdata.get('hf_write')"
      ],
      "metadata": {
        "id": "sV85hgL0yxn0"
      },
      "execution_count": null,
      "outputs": []
    },
    {
      "cell_type": "markdown",
      "source": [
        "### Dependencies"
      ],
      "metadata": {
        "id": "SyLH6A-YEJG3"
      }
    },
    {
      "cell_type": "code",
      "source": [
        "import importlib\n",
        "import torch, transformers\n",
        "\n",
        "if '2.3.0' not in torch.__version__:\n",
        "  !pip install torch==2.3.0\n",
        "if transformers.__version__!='4.41.2':\n",
        "  !pip install transformers==4.41.2\n",
        "\n",
        "if importlib.util.find_spec('datasets') is None:\n",
        "  !pip install datasets==2.18.0s\n",
        "  !pip install evaluate==0.4.2\n",
        "  !pip install accelerate -U\n"
      ],
      "metadata": {
        "id": "8VH0WJYuM_4Z",
        "collapsed": true
      },
      "execution_count": null,
      "outputs": []
    },
    {
      "cell_type": "markdown",
      "source": [
        "If you've just installed `accelerate`, execute `Runtime > Restart session and run all` in the Colab UI menu above."
      ],
      "metadata": {
        "id": "zridt_PWpd9d"
      }
    },
    {
      "cell_type": "markdown",
      "source": [
        "# Data"
      ],
      "metadata": {
        "id": "EFTIQ9tDMqsE"
      }
    },
    {
      "cell_type": "code",
      "source": [
        "# load the data\n",
        "\n",
        "from datasets import load_dataset, Dataset, DatasetDict\n",
        "\n",
        "classification_dataset = load_dataset('InternationalOlympiadAI/NLP_problem', token=read_access_token)\n",
        "raw_text = load_dataset('InternationalOlympiadAI/NLP_problem_raw', token=read_access_token)"
      ],
      "metadata": {
        "id": "CpgcmI2NMLyF"
      },
      "execution_count": null,
      "outputs": []
    },
    {
      "cell_type": "markdown",
      "source": [
        "# Baseline"
      ],
      "metadata": {
        "id": "cv9MBElmMs6G"
      }
    },
    {
      "cell_type": "code",
      "source": [
        "unique_list = []\n",
        "\n",
        "for line in classification_dataset['train'][:]['text']:\n",
        "  splitText = line.split()\n",
        "  for chr in splitText:\n",
        "    if(chr not in unique_list):\n",
        "      if chr != ' ':\n",
        "        unique_list.append(chr)\n",
        "\n",
        "print(unique_list)"
      ],
      "metadata": {
        "id": "5Zs_BDwST1jn",
        "outputId": "dbd3715d-78c2-4523-ad96-70a1354b82bc",
        "colab": {
          "base_uri": "https://localhost:8080/"
        }
      },
      "execution_count": null,
      "outputs": [
        {
          "output_type": "stream",
          "name": "stdout",
          "text": [
            "['झ𑁣झच𑀪𑀢𑀟', '𑀣च', '𑀠न𑀞𑁦', 'ण𑀢', '𑀟च', '𑀫चझ𑁣', '𑀠च𑀟', '𑀲𑁦पन𑀪', 'च', 'ब𑁣𑀠ढ𑁦', 'ढचनत𑀫𑀢', 'ष', 'ब𑀱च𑀠𑀟च', '𑀢𑀟न𑀱च', 'णच𑀫चणच', 'णच𑀣𑀣च', '𑀞णच𑀟𑀣च', '𑀞𑁦', 'ढच𑀪च𑀤च𑀟च', '𑀣न𑀟𑀢णच', 'ढचढच𑀟ब𑀢𑀣च', 'चल𑀢णन𑀕', '𑀙णच𑀟', '𑀟च𑀘𑁦𑀪𑀢णच', '𑀞𑁦𑀱च𑀪', '𑀳𑀫𑁦𑀞च𑀪न', '𑀭𑁢', '𑀠नल𑀞𑀢𑀟', 'ध𑀣ध', 'त𑁣𑀪𑁣𑀟चख𑀢𑀪न𑀳𑀕', 'तनपच𑀪', 'पच', '𑀫च𑀟च', '𑀠च𑀪च𑀳च', 'लच𑀲𑀢णच', '𑀠𑀢ल𑀢णच𑀟', 'ठ', '𑀤न𑀱च', 'च𑀳𑀢ढ𑀢प𑀢', '𑀟𑀢ब𑁦𑀪𑀢च', '𑀠𑁦त𑁦', 'त𑁦', '𑀞णच𑀟𑀣च𑀪', 'ढ𑀢𑀪𑀢𑀦', '𑀞न𑀠च', '𑀠𑁦', '𑀘च𑀱𑁣', 'पच𑀡', 'च𑀠न𑀪𑀞च', '𑀤च', '𑀘च𑀟ण𑁦', '𑀳𑁣𑀘च', '𑀭𑀦𑀧𑀧𑀧', '𑀣चबच', '𑀳ण𑀪𑀢च', '𑀳चढ𑁣𑀣च', 'पन𑀪𑀞𑀢णणच', 'चढ𑀢𑀟', 'णच', '𑀞च𑀠चपच', '𑀞न', '𑀳च𑀟𑀢', '𑀞च𑀟', '𑀱च𑀳च𑀟', 'त𑀪𑁣चप𑀢च', 'ढ𑀪च𑀤𑀢ल', '𑀳च', 'च𑀲𑀢𑀪𑀞च', 'णच𑀠𑀠च', 'ढन𑀞चपच𑀪', '𑀞न𑀣𑀢𑀟', 'ढच𑀢', '𑀣चणच', 'तच𑀪ल𑁣𑀳', 'प𑁦ख𑁦𑀤', '𑀳च𑀟च𑀪', 'ण𑀢𑀟', '𑀪𑀢पचणच', 'पच𑀞च', 'ल𑁦𑀣च', '𑀳𑀫च𑀪𑀢𑀙च𑀪', 'ढन𑀫च𑀪𑀢', 'चप𑀢𑀞न𑀕', 'च𑀟', '𑀞च𑀢', '𑀱च', '𑀳𑀫च𑀢𑀣न𑀟', 'चप𑀢𑀞न', '𑀙𑀫च𑀪𑀢𑀙', 'चढन', 'ढ𑀢णच𑀪', '𑀳चढ𑁣𑀟', '𑀪च𑀫𑁣प𑁣𑀟', '𑀫चन𑀫च𑀱च𑀪', '𑀲च𑀪च𑀳𑀫𑀢', '𑀞न𑀟𑀳च', 'ढ𑀢𑀟𑀣𑀢बच', '𑀫चलच𑀞च', '𑀳𑀢णच𑀳च', 'णच𑀟𑀞𑀢𑀟', 'झचढ𑀢लच𑀪', '𑀢बढ𑁣', '𑀢𑀲𑁦च𑀟ण𑀢', '𑁣𑀞𑁣𑀱च𑀕', '𑀤चढ𑀢', 'ब𑀱च𑀠𑀟च𑀟', '𑀣𑁦लपच', '𑀠चप𑀳चण𑀢𑀟', '𑀠चपच𑀢𑀠च𑀞𑀢𑀟', 'ञच𑀟', 'पच𑀞च𑀪च𑀪', '𑀳𑀫नबचढच𑀟', 'झच𑀳च', '𑀞चलल𑀢', 'ढ𑀢𑀣𑀢ण𑁣𑀟', '𑀘च𑀪𑀢𑀪𑀢णच𑀪', 'पच𑀲𑀢', '𑀙𑀞च𑀟𑀞च𑀟पच𑀙', '𑀤चढ𑁦𑀟', 'ठ𑀧ठ𑀰𑀕', 'गणचभणच𑀟', 'ब𑀱च𑀠𑀟𑁣𑀟𑀢', '𑀱च𑀳न', '𑀠च𑀟णच𑀟', 'गणच𑀟', '𑀲च𑀲नप𑀢𑀞च𑀪', 'बच𑀣च𑀪', '𑀢णचण𑁦𑀟𑀳न', 'ल𑀢𑀞𑀢प𑁣त𑀢', 'ण𑁣लच', '𑀳न𑀞च', '𑀪चढच', 'पचब𑀱चण𑁦', 'च𑀞च', '𑀫च𑀢𑀲च', '𑀫च𑀟पच', 'ञचणच', '𑀪न𑀲𑁦', 'बच𑀪न𑀪न𑀱च', '𑀢पचल𑀢णच', 'ढ𑀢𑀪𑀢', 'ञचन𑀞𑀢', '𑀫𑁣प𑁣𑀟', '𑀳𑁦ल𑀲𑀢𑁦', '𑀱चणच𑀪', '𑀱च𑀟𑀢', '𑀠नपन𑀠', '𑁥चपच', '𑀞नप𑀳𑁦', '𑀠𑀢𑀟𑀢𑀳पच𑀪', 'ल𑁦𑀞𑁦𑀟', 'च𑀳𑀢𑀪𑀢', '𑀞न𑀣न', 'ढचण𑁦𑀪𑀟', '𑀠न𑀟𑀢त𑀫', 'ध𑀳ब', '𑀳न', '𑀢णच', '𑀠न𑀪𑀟च𑀪', 'लच𑀳𑀫𑁦', 'ल𑀢ब', '𑀣𑀢𑀟𑀳न', 'ब𑀢𑀣च', '𑀱च𑀟𑀟च𑀟', '𑀠च𑀞𑁣𑀟', 'त𑀫च𑀠ध𑀢𑁣𑀟𑀳', 'ल𑁦चबन𑁦𑀕', 'ल𑀢ख𑁦𑀪ध𑁣𑁣ल', 'ख𑀢ललच𑀪𑁦चल', 'च𑀟𑀲𑀢𑁦ल𑀣', '𑀠न𑀳ल𑀢𑀠', 'ध𑀪𑁣𑀕', 'बच𑀳𑀞𑁦', 'च𑀟च', 'ल𑁦झ𑁦𑀟', 'च𑀳𑀢𑀪𑀢𑀟', '𑀠न𑀳नल𑀠𑀢𑀟', 'च𑀠𑀲च𑀟𑀢', '𑀠च𑀟𑀫च𑀘च𑀪𑀡', '𑀲चत𑁦ढ𑁣𑁣𑀞𑀦', 'ब𑁣𑁣बल𑁦𑀦', 'चधधल𑁦', 'च𑀠च𑀤𑁣𑀟', 'ढचणणच𑀟च', 'बचढच𑀟', '𑀠च𑀘चल𑀢𑀳च𑀪', '𑀙𑀪च𑀳𑀫𑀢𑀟', 'प𑀳च𑀲पच𑀪', 'ढच𑀞𑀢', '𑀟𑁦', '𑀫च𑀢𑀲च𑀪', '𑀟𑁣𑀠च', '𑀠च𑀢', '𑀞𑀢𑀳च𑀟', 'णच𑀪च𑀙', 'लन𑀞च𑀞न', '𑀞च𑀠𑀠चलच', '𑀞𑁣𑀠च𑀱च', '𑀢𑀟प𑁦𑀪', '𑀠𑀢लच𑀟', '𑀣𑁣𑀠𑀢𑀟', 'ढनबच', '𑀱च𑀳च𑀟𑀟𑀢𑀟', 'च𑀪𑁣', 'न𑀟𑀢प𑁦𑀣', 'प𑀳च𑀱च𑀢पच', '𑀞𑀱च𑀟प𑀢𑀪चब𑀢𑀟', '𑀪च𑀳𑀫𑀲𑁣𑀪𑀣𑀦', '𑀘नख𑁦', '𑀳𑁣𑀟', '𑀞च𑀪𑁥च𑀪', 'लन𑀢𑀤', 'ढचणच𑀪', '𑀞𑁦च𑀟', '𑀤𑀢𑀟च𑀪𑀢णच𑀕', '𑀘𑀢𑀘𑀘𑀢बच', 'लचलचपच', '𑀘𑀢𑀘𑀢ण𑁣ण𑀢𑀟', '𑀘𑀢𑀞𑀢𑀟', '𑀠चत𑁦', '𑀪𑀢त𑀫च𑀪ल𑀢𑀳𑁣𑀟', '𑀤च𑀢', '𑀘𑀢𑀟णच', 'ढचणच𑀟', '𑀪चन𑀟𑀢𑀟', '𑀘𑀢', '𑀱च𑀳च', '𑀜चपच𑀪', '𑀳𑀫नबचढच𑀟𑀟𑀢𑀟', '𑀞च𑀠𑀲च𑀟𑁣𑀟𑀢𑀟', '𑀳न𑀟', '𑀳𑀫च', 'पच𑀠ढचण𑁣ण𑀢', '𑀞चनत𑁦𑀱च', '𑀳𑀫𑀢बच', '𑀣च𑀠न𑀱च', 'पचढ𑀢𑀟', '𑀫च𑀟𑀞चल𑀢', 'ढचझ𑁣𑀟𑀠न', '𑀠च𑀞𑁣𑀕', '𑀟𑁦धन', 'ग𑀟𑁦𑀫न𑀟त𑀢भ', 'त𑀢𑀞𑀢𑀟', '𑀳𑀫𑁦𑀞च𑀪च', '𑀬𑀧𑀕', '𑀢𑀟च', '𑀞𑀱च𑀟च', 'ब𑀱चब𑀱च𑀪𑀠चणच𑀡', 'चल𑁦𑀩च𑀟𑀣𑁦𑀪षच𑀪𑀟𑁣ल𑀣', 'ढच', '𑀢𑀟ब𑀢लच', '𑀞च𑀪च𑀱च', '𑀘च𑀠न𑀳', 'न𑀠च𑀪𑀟𑀢𑀟', '𑀞𑀱चत𑁦', '𑀘𑀢𑀪ब𑀢𑀟', '𑀞च𑀳च𑀪', '𑀢𑀪च𑀟', '𑀞च𑀢षप𑀳चण𑁦𑀕', '𑀳च𑀞च𑀠च𑀞𑁣𑀟', '𑀤च𑁥𑁦𑀟', '𑀘𑀢𑀫च𑀪', '𑁦𑀣𑁣', 'चधत𑀕', '𑀘च𑀠𑀙𑀢णणच𑀪', 'चढ𑀣नललच𑀫𑀢', 'च𑀣च𑀠न', 'चल𑀫च𑀞𑀢𑀟', '𑀠चप𑀳चल𑁣ल𑀢𑀟', '𑀠चपच𑀳𑀫𑀢𑀟', 'प𑀢𑀞प𑁣𑀞', '𑀣𑁣𑀟', 'पचपपचन𑀟च', 'ढचपन𑀟', 'लच𑀲𑀢णच𑀪', 'झ𑀱चझ𑀱चल𑀱च', 'णच𑀪𑁣', '𑀣च𑀟', '𑀭𑀖', '𑀞𑁦𑀪च', 'ढचढन𑀪', '𑀫च𑀳𑀞𑁦𑀟', '𑀪च𑀟च', 'च𑀠𑀢𑀟त𑁦', '𑀣चन𑀞𑀢', 'ल𑀢𑀳च𑀟𑀣𑀪𑁣', '𑀠च𑀪प𑀢𑀟𑁦𑀤', 'च𑀘च𑀩', '𑀠न𑀟च𑀟च', 'पच𑀪𑀢𑀫𑀢𑀟', '𑀲च𑀪च', 'पच𑀞न𑀟𑀞न𑀠𑀢', '𑀳च𑀟चपच', '𑀤च𑀠च', 'चधत', 'ठ𑀧ठठ𑀕', '𑀠𑀛𑁦𑀳𑀳𑀢', 'त𑀢', '𑀞𑀱चलल𑁣', 'च𑀪ब𑁦𑀟प𑀢𑀟च', '𑀜नच𑀪प𑁦𑀪', '𑀲𑀢𑀟चल𑀳', '𑀟न𑀟च', '𑀲च𑀪बचढच', '𑀠च𑀳न', '𑀤चढ𑁦', '𑀳चणच𑀪', '𑀙णच𑀟त𑀢𑀟𑀳न', '𑀞च𑀠च', '𑀞च𑀠𑀲च𑀟𑀢𑀟', 'त𑀪णधप𑁣', '𑀲प𑀩', 'झच𑀳च𑀪', 'ढच𑀫च𑀠च𑀳', '𑀟च𑀘𑁦𑀪𑀢णच𑀕', 'प𑀳च𑀣च𑀪', '𑀞चणच𑀟', '𑀠च𑀳च𑀪न𑀲𑀢', '𑀠न', '𑀞𑁣', '𑀪चब𑁦', 'णच𑀱च𑀟𑀳न𑀡', 'त𑀫𑁦ल𑀳𑁦च', 'बचढ', '𑀳चण𑁦𑀟', '𑀣𑁦', '𑀘𑁣𑀟ब𑀦', '𑀫𑁦𑀪𑀟च𑀟𑀣𑁦𑀤', '𑀣च𑀱𑁣𑀱च', '𑀪𑁣𑀟चल𑀣𑁣', '𑀠च𑀲𑀢', 'पच𑀳𑀢𑀪𑀢', 'प𑀳च𑀞च𑀟𑀢𑀟', '𑀞𑀱चलल𑁣𑀟', '𑀞च𑀲च', '𑀢𑀟𑀳पचब𑀪च𑀠', 'ढढत', '𑀞च𑀣𑀣च𑀠च𑀪', '𑀳𑀫𑀢𑀪𑀢', '𑀟च𑀞च𑀳च', '𑀳𑀫𑀢𑀪𑀢𑀟', '𑀞𑁣षपचष𑀞𑀱च𑀟च', '𑁦ढ𑁣लच', '𑀪𑀛𑁦चल', 'ढ𑁦लल𑀢𑀟ब𑀫च𑀠𑀦', '𑀘नख𑁦𑀟पन𑀳', '𑀣चन𑀞𑁣', 'त𑁣𑀟प𑁦𑀦', '𑀳चख𑀢त', 'ढच𑀳प𑁣𑀟𑀢', '𑀟न𑀟𑁦𑀤', '𑀳च𑀟च𑀣𑀢𑀟', '𑀠च𑀞𑀢', '𑀲नल𑀫च𑀠', 'ध𑀪𑁦𑀠𑀢𑁦𑀪', 'ढ𑁦𑀟𑀤𑁦𑀠च', 'बच𑀳च𑀪', '𑀞𑁣𑀲𑀢𑀟', 'च𑀠𑀳𑁣𑀳𑀫𑀢𑀟', 'पच𑀞च𑀪𑀣न𑀕', '𑀠𑀢𑀟𑀳𑀫च𑀪𑀢', '𑀠चबच𑀟𑀢𑀟𑀳च', '𑀫नञन', '𑀣चलच', '𑀫चन𑀪च', '𑀟𑁢𑀧𑀧', '𑀫चल𑀢𑀟', '𑀲च𑀠च', 'लच𑀪न𑀪च𑀪', 'त𑀢𑀱𑁣𑀟', '𑀳नबच', '𑀳न𑀞𑁦', 'च𑀛𑀟णच', 'पचललच𑀲𑀢', '𑀞च𑀢𑀱च', 'बच', '𑁦प𑀫𑀢𑁣ध𑀢च', '𑀞न𑀱च𑀡', '𑀞च𑀳न𑀱च𑀪', '𑀞𑀱चलल𑁣𑀕', '𑀠च𑀞𑁣𑀠च𑀪', '𑀫चचलच𑀟𑀣𑀦', 'च𑀟त𑁦ल𑁣पप𑀢𑀦', '𑀪𑁣𑀟चल𑀣', '𑀞𑁣𑁦𑀠च𑀟𑀦', 'त𑀫च𑀪लण', '𑀠न𑀳𑁣𑀟𑀣च𑀦', '𑀪𑁦𑁦त𑁦', '𑀘च𑀠𑁦𑀳', '𑀠चपच𑀪', '𑀠चपच', '𑀣च𑀢𑀟च', '𑀫𑁣प𑁣𑀟𑀳न', '𑀞𑀱च𑀳𑀞𑀱च𑀪𑀢𑀠च', '𑀳𑀟चधत𑀫चप', 'च𑀛𑀪ब𑁦𑀟प𑀢𑀟च', '𑀘𑁦', '𑀰𑀖', '𑀘𑁦𑀪𑁦', '𑀣𑁣𑀞𑁦', '𑀢णचण𑁦𑀟', 'छचछच𑀟𑀳न', 'णच𑀱𑁣𑀟', 'बच𑀟𑀢𑀟', '𑀞च𑀲𑀢𑀟', '𑀠च𑀞च𑀟त𑁦', '𑀣𑀢𑀪𑁦ढ𑁣ढ𑀢', 'ढन𑀞चत𑀢', '𑀱च𑀢𑀱चण𑁦', '𑀠नपच𑀟𑁦𑀟', 'बन𑀣न𑀟𑀠च𑀱च𑀪', '𑀘𑀢𑀟𑀢', '𑀱चञच𑀟𑀣च', '𑀣चत𑁦', 'बच𑀟𑁦', '𑀠𑀢𑀟𑀢', '𑀫च𑀟णच𑀕', 'ब𑀢𑀪𑀠च𑀟', '𑀠चप𑀳चलच𑀪', '𑀳𑀫𑀢ब𑁣', '𑀞चणचणणच𑀞𑀢𑀟', '𑀢𑀟बच𑀟त𑀢', '𑀞𑁣𑀪𑁣𑀟च𑀕', 'प𑀪न𑀠ध', '𑀫च𑀟𑀟न', 'पचललच𑀲𑀢𑀟', '𑀞𑁣𑀪𑁣𑀟च', 'घथ𑀧𑀧ढ𑀟', '𑀙णच𑀪', 'ढ𑀢𑀟𑀣𑀢बच𑀪', 'च𑀞र𑀬', '𑀞च𑀪𑁦', '𑀢णचण𑁦𑀟पच', '𑀞न𑀱च𑀢प', '𑀠च𑀞च𑀠च𑀟', 'णच𑀞𑀢', 'घ𑀭𑀯रठ𑀖', 'ढ𑀟', '𑀱चण𑁦', 'च𑀠𑀲च𑀟च', '𑀪चणन𑀱च𑀪', '𑀢पच𑀡', 'पन𑀪𑀞𑀠𑁦𑀟𑀢𑀳पच𑀟', '𑀫च𑀪च𑀠पच', '𑀞चल𑀠च𑀪', '𑀙त𑁣𑀪𑁣𑀟चख𑀢𑀪न𑀳𑀙', '𑀟𑁣पप𑀢𑀟ब𑀫च𑀠दपच', 'पचणच', 'ल𑀢𑀟बच𑀪𑀣', '𑀠𑁣𑀫च𑀠𑁦𑀣', '𑁦ल𑀟𑁦𑀟ण', 'बचढच', 'च𑀪𑀳𑁦𑀟चल', '𑀞च𑀞च', '𑀪न𑀲पच', '𑀫चझच𑀪', '𑀠चभच𑀣𑀢𑀟च𑀢', 'बन𑀢𑀟𑁦च', 'लचतच𑀤𑁦पप𑁦', 'ढच𑀪', '𑀟च𑀟', 'झच𑀪𑀳𑀫𑁦𑀟', '𑀱चपच𑀟', 'णन𑀟𑀢', '𑀫च𑀟ण𑁣ण𑀢', 'न𑀞न', 'ढच𑀠ढच𑀟त𑁦', '𑀠चल𑁦𑀪𑀢णच', 'ब𑀛𑀢𑀪𑁣न𑀣', 'प𑀳न𑀲च', '𑀲च𑀪च𑀟𑀳च', 'पचन𑀪च𑀪𑀢𑀟', '𑀞चढ𑀢लच𑀪', '𑀠चच𑀳च𑀢', '𑀘च', '𑀫च𑀟𑀞चल𑀢𑀟', '𑀲𑀢𑀟चष𑀲𑀢𑀟च𑀟', 'ढ𑁣ललण𑀱𑁣𑁣𑀣', '𑀞न𑀟', '𑀳च𑀟', 'त𑁦𑀱च', 'ढचष𑀫चणच𑀪𑀞न', '𑀞च', '𑀢𑀪𑀢𑀟', 'झ𑁣𑀳𑀫𑀢𑀟', 'लच𑀲𑀢णच𑀪𑀞न𑀡', 'ण𑀛च𑀣𑀣च', 'चल𑀙न𑀠𑀠च𑀪', '𑀘𑀢बच𑀱च', 'च𑀠ढचल𑀢णच', 'ञच𑀢ञच𑀢पच', '𑀞𑁣𑀞च𑀱च', 'त𑀢𑀞𑀢', '𑀣च𑀟𑀣च𑀤𑁣𑀟', '𑀠नपच𑀟𑁦', '𑀞न𑀳न𑀲𑀢𑀟', '𑀤𑁣ढ𑁦𑀟', '𑀱नपच', '𑁣𑀳च𑀳न𑀟च', '𑀭ष𑀰', '𑀪𑁦चल', '𑀠च𑀣𑀪𑀢𑀣𑀕', '𑀠च𑀣𑀪𑀢𑀣', '𑀞न𑀳च', 'त𑀢𑀟', 'लच', 'ल𑀢बच', '𑀞च𑀞च𑀪', 'च𑀛𑀟', '𑀣च𑀞चपच𑀪', 'ल𑁦𑀱च𑀟𑀣𑁣𑀱𑀳𑀞𑀢', 'ढच𑀠ढच𑀟त𑀢𑀟', 'त𑁣𑀪𑁣𑀟चख𑀢𑀪न𑀳', '𑀠न𑀪च', 'ढ𑀢𑀟त𑀢𑀞𑁦𑀟', '𑀲च𑀳च', '𑀞चलल𑁣', '𑀠च𑀫𑀣𑀢', 'चल𑀢णन', 'बन𑀳चन𑀕', '𑀣𑁣𑀞𑁣𑀞𑀢𑀟', '𑀤च𑀠𑀲च𑀪च', 'प𑀳𑀢ब𑁦', '𑀞च𑀳च𑀳𑀫𑁦𑀟', '𑀞𑀢', 'णच𑀪𑀣च', '𑀳चनणच', 'त𑀲च', '𑁦त𑁣', 'ढ𑀛𑀪च𑀤𑀢ल', '𑀞𑁣𑀪𑀢णच', '𑀳𑀢𑀪𑀪𑀢𑀟', 'छचछच𑀟', '𑀞च𑀟𑀞च𑀟च', '𑁥च𑀱𑁣𑀟पच', '𑀠चभचन𑀪चपच', '𑀞च𑀪च𑀟त𑀢𑀟', '𑀣𑁣ब𑁣𑀟', 'ढन𑀪𑀢𑀟पच', 'ठ𑀧ठ𑀧', '𑀞च𑀳𑀫𑁦', 'ढ𑀢लण𑁣ण𑀢𑀟', '𑀟च𑀢𑀪च', '𑀱च𑀘𑁦𑀟', '𑀟𑁦𑀠च𑀟', '𑀢ल𑀢𑀠𑀢', 'पन𑀪च𑀢', '𑀱चपच𑀟𑀟𑀢', 'झ𑀱चत𑁦', '𑀠नल𑀞𑀢', '𑀫च𑀟𑀟न𑀟', 'च𑀫𑀠𑁦𑀣', '𑀠च𑀞च𑀪𑀲𑀢', 'पच𑀪𑀢𑀟', '𑀟च𑀱च', '𑀳𑀫च𑀞च', '𑀫च𑀪ढन𑀡', '𑀠न𑀟', '𑀟𑁦𑀠𑀢', 'च𑀲न𑀱च𑀪', 'पचढढच𑀳', 'ढ𑀢णच', 'ढनझचपन𑀟𑀳न', 'च𑀢𑀳𑀫च', '𑀳धचत𑁦𑀩𑀕', '𑀳𑀫𑀢𑀟', '𑀳च𑀠च𑀪', '𑀟च𑀠च', '𑀳च𑀪च𑀪𑀢𑀟', '𑀳च𑀠च𑀟𑀢णच𑀡', '𑀘𑁣𑁦', 'ढ𑀢𑀣𑁦𑀟', '𑀕', 'पच𑀢𑀠च𑀞च𑀱च', 'झच𑀳च𑀳𑀫𑁦', '𑀠चपचलचनपच', '𑀪𑀢बच𑀞च𑀲𑀢𑀟', '𑀱𑀛चपच', 'झन𑀟ब𑀢णच𑀪', '𑀞𑀢𑀪𑀢𑀳प𑁣त𑀢', '𑀠नढचणच𑀙च', 'प𑀢𑀟नढन', '𑀳𑀫𑁦पप𑀢𑀠च', '𑀱𑀛च𑀳च', '𑀣न𑀟𑀢णच𑀡', 'ध𑁣𑀪पनबचल', 'ब𑀫च𑀟च', 'पच𑀪𑀢𑀫𑀢', '𑀠चपच𑀞𑀢', '𑀠न𑀙च𑀠नलच', 'णच𑀪च', 'झच𑀟च𑀟च', '𑀣च𑀠ढ𑁦𑀟', '𑀪च𑀠च𑀣च𑀟', '𑀲च𑀟𑀳च', 'च𑀱𑀢ल𑁣', '𑀳𑀫च𑀲𑀢𑀟', 'प𑀱𑀢पप𑁦𑀪', '𑀤च𑀪ब𑀢', '𑀳𑀫𑀢𑀪बच', 'झच𑀪णच', 'णच𑀱च𑀟', 'ञचन𑀞च𑀪', '𑀘च𑀪𑀢𑀪𑀢', '𑀳चढच', '𑀫च𑀟𑀟न𑀡', 'चन𑀪𑁦𑀟', '𑀤न𑀠न𑀟त𑀢', 'तनपनपपन𑀞च', '𑀠𑀢𑀞च', '𑀠च𑀘चल𑀢𑀳च', '𑀳न𑀟च𑀟', '𑀲𑀢𑀪𑀳', '𑀲च𑀲चपच', 'ल𑁦खच𑀟प𑁦', '𑀪च𑀟च𑀪', 'चल𑀫च𑀠𑀢𑀳', '𑀲𑀢पच𑀪', '𑀢ध𑀫𑁣𑀟𑁦', '𑀭र', '𑀱𑀫𑁣', '𑀞𑀢णचण𑀢', 'लचढच𑀪न𑀟', '𑀞च𑀪णच', '𑀞चणचणणच𑀞𑀢', 'पच𑀳𑀫𑀢𑀟', 'ब𑀱चन𑀪𑁣𑀟', '𑀘च𑀢धन𑀪𑀕', 'प𑀳च𑀱च', '𑀳न𑀟च', '𑀫𑁣प𑁣', '𑀢𑀟𑀣𑀢णच', '𑀠च𑀞च𑀪च𑀟पच𑀪', 'च𑀞𑁦', '𑀞𑁣णच𑀪', '𑀢ल𑀢𑀠𑀢𑀟', '𑀲च𑀳च𑀫च𑀪', '𑀤च𑀠च𑀟𑀢', '𑀫च𑀪𑀳𑀫𑁦𑀟', '𑀫चन𑀳च', '𑀞च𑀟𑁣', 'प𑀢णचपच', '𑀞𑀱च𑀞𑀱चल𑀱च', 'पच𑀟च', '𑀞च𑀣च', 'ब𑁣ब𑁦', '𑀳𑀫चबन𑀟च𑀟', '𑀞च𑀳न𑀱च𑀟त𑀢𑀟', 'ढच𑀪𑀢', '𑀠च𑀟पच', 'झच𑀳च𑀳𑀫𑁦𑀟𑀳न', 'च𑀳चल𑀢', '𑀞𑀢त𑀢ढ𑀢𑀳', '𑀫𑁣पन𑀟च𑀟', 'ढचप𑀳च', '𑀢𑀟पच𑀟𑁦प', 'ढच𑀟', '𑀳𑀫𑀢𑀪णच', 'ढचष', '𑀠𑁦𑀳𑀳𑀢', '𑀳च𑀠न𑀟', 'लचढच𑀪च𑀢', '𑀘च𑀪𑀢𑀪च𑀢𑀕', '𑀘च𑀪𑀢𑀪च𑀢', 'पचन𑀳च', 'त𑁦पच𑀪', '𑀪चणन𑀱च𑀪𑀳न', '𑀳𑀢णच𑀳च𑀪', '𑀣𑁦ल𑀢ब𑁦प', '𑀞नञ𑀢', '𑀞च𑀟𑁣𑀕', 'बच𑀟𑀣न𑀘𑁦', 'चलढच𑀳𑀫𑀢𑀟', '𑀠च𑀙च𑀢𑀞चपच𑀟', 'ब𑀱च𑀠𑀟चप𑀢', 'पच𑀞न𑀟𑀞न𑀠𑀢𑀟', '𑀞च𑀪𑀢णच', 'णच𑀣न𑀱च𑀪', '𑀞𑀱चण𑁣ण𑀢𑀟', 'तनपच𑀡', '𑀠च𑀟त𑀫𑁦𑀳प𑁦𑀪', '𑀞न𑀟ब𑀢णच𑀪', 'ढच𑀟च', 'त𑀫𑀢𑀟च𑀕', '𑀞च𑀳च', '𑀞न𑀣𑀢', '𑀳𑁣𑀳च𑀢', 'ढचढढच𑀪', 'ढच𑀳न𑀳𑀳न𑀞च𑀡', 'ढ𑁦ढचण𑁦', '𑀣न𑀟𑀢णच𑀕', '𑀙𑀣चल𑀢लच𑀟', '𑀫च𑀢𑀲𑀢', 'ढ𑁦ढचण𑁦𑀙', '𑀣च𑀟ब𑁣प𑁦', 'ढनच𑀕', '𑀳च𑀳च𑀟पच', '𑀞नञ𑀢𑀟', 'ढ𑀢णन', 'णच𑀞𑀢𑀟', 'न𑀞𑀪च𑀢𑀟𑁦𑀕', '𑀪च𑀳𑀫च', '𑀘𑀢𑀟', '𑀪च𑀣च𑀣𑀢𑀟', 'पच𑀞न𑀟𑀞न𑀠च𑀟', 'पचपपचल𑀢𑀟', 'च𑀪𑀤𑀢𑀞𑀢𑀟', '𑀳च𑀞च', 'झच𑀳च𑀪𑀳न', 'ब𑀱च𑀘𑀢𑀟', 'चन𑀪𑁦', '𑀲𑀢', '𑀙𑀙ध𑀪𑁦', '𑀱𑁦𑀣𑀣𑀢𑀟ब', 'ध𑀢तपन𑀪𑁦𑀙𑀙', '𑀠न𑀫𑀢𑀠𑀠च𑀟त𑀢', '𑀟𑀢प𑀣च𑀕', '𑀱𑀫चप𑀳चधध', 'ढचणच𑀟च𑀢', '𑀢ललच𑀪', 'खध𑀟', '𑀞च𑀳𑀫𑀢𑀲न', 'झ𑀱चलल𑁣𑀕', 'त𑁣नप𑀢𑀟𑀫𑁣𑀦', 'प𑀪च𑁣𑀪𑁦𑀦', 'धन𑀢ब𑀦', '𑀱𑀢𑀪प𑀤𑀦', '𑀣𑀢', '𑀠च𑀪𑀢च', '𑀲च𑀣च', '𑀪न𑀣च𑀟𑀢', '𑀠च𑀳लच𑀫च', '𑀠चपच𑀳च', '𑀳𑀫चब𑁣𑀟', '𑀢𑀟𑀣च', '𑀱च𑀘𑁦', 'ढ𑀢णचप', 'प𑀳च𑀪𑀢𑀟', 'न𑀳𑀳𑀣𑀕', '𑀠𑁦𑀟𑁦', 'न𑀳𑀳𑀣𑀦', 'ढच𑀟𑀞न𑀟च', 'तच𑀘𑀢', 'च𑀞च𑀟𑀳च𑀡', 'प𑀢𑀞प𑁣𑀞𑀕', 'त𑀢𑀪𑁦', '𑀱चपच', '𑀠च𑀟𑀫च𑀘च𑀪', '𑀤ण𑀟𑀟', '𑀪न𑀠ढन𑀟', 'ब𑁣𑁣बल𑁦𑀙𑀳', 'धलचण', 'ठ𑀧ठठ', '𑀘च𑀣च𑀱चल𑀢', '𑀲च𑀟', '𑀬𑀧', 'तच𑀳𑁦𑀠𑀢𑀪𑁣', 'धच𑀪𑀢𑀳', '𑀳पषब𑁦𑀪𑀠च𑀢𑀟', '𑀟च𑀣च', 'लन𑀢𑀳', 'तच𑀠ध𑁣𑀳', '𑀣च𑀪च𑀞पच𑀟', '𑀳चनण𑀢𑀟', 'णच𑀟चण𑀢𑀕', 'त𑀫𑀢𑀟च', '𑀳𑀫च𑀠𑀠चत𑀢', 'ढचनत𑀫𑀢𑀕', 'झच𑀪𑀲𑀢𑀟', 'णच𑀞नढन', '𑀣𑁣बच𑀪च', 'ड', 'झचन𑀪च𑀟', 'पच𑀠ढचण𑁣ण𑀢𑀟𑀞न', 'लचढच𑀪च𑀟', 'ढ𑁣ब𑀢', '𑀣चल𑀢ल𑀢𑀟', '𑀣𑁣𑀞च𑀪', '𑀫च𑀪च𑀘𑀢𑀟', 'लचप𑀢𑀪𑁣𑀟𑀢', '𑁥चत𑀢𑀟', '𑀪च𑀟', '𑀢ध𑀠च𑀟𑀕', '𑀱च𑀫चलच𑀪', '𑀳च𑀞𑁦', '𑀞न𑀟𑀟𑁣', '𑀞𑀢ललचत𑁦', '𑀞च𑀟𑀳च', '𑀳प', 'ब𑁦𑀪𑀠च𑀢𑀟', '𑀫नब𑁣', '𑁦𑀞𑀢प𑀢𑀞𑁦', '𑀪𑁦𑀢𑀠𑀳', 'झ𑀢𑀪झ𑀢𑀪𑀢', '𑀳च𑀪𑀪च𑀲च', '𑀞च𑀳𑀫𑀢', '𑀠चबच𑀟त𑁦', '𑀠न𑀫चलल𑀢', '𑀠च𑀫च𑀣𑀢', '𑀟𑀢', 'झ𑀢', '𑀣चब𑁦', 'त𑀢पण', '𑀲च𑀲चपच𑀱च', 'ध𑀳ख', 'छच𑀟', 'ढच𑀳𑀫𑀢𑀟', 'ढ𑀢𑀟', '𑀤च𑀟', 'लच𑀱च𑀟', 'पच𑀞च𑀪चपच', '𑀠चत𑀫𑀢𑀟च', '𑀟चभन𑀪च𑀪', '𑀟च𑀳च', 'च𑀢𑀞𑁣', '𑀳चझ𑁣𑀟', '𑀠न𑀪णच𑀪', '𑀳चनप𑀢𑀟', '𑀣न𑀟𑀢णच𑀪', '𑀠च𑀪𑀳', 'ध𑁣पप𑁦𑀪', '𑀟च𑀳च𑀪च', '𑀲च𑀪𑀞𑁣', '𑀳पच𑀠𑀲𑁣𑀪𑀣', 'ढ𑀪𑀢𑀣ब𑁦', 'च𑀟णच', '𑀳𑀫नबचढच', '𑀳च𑀟णच', '𑀤चढ𑁦𑀡', '𑀣च𑀪च𑀘च𑀪', 'पच𑀳𑀫𑀢', '𑀳चन𑀞च𑀪', '𑀲चत𑁦ढ𑁣𑁣𑀞', '𑀳च𑀞𑁣𑀟𑀟𑀢𑀟', '𑀞च𑀳च𑀳𑀫𑁦', 'ढ𑁦लल𑁣', '𑀠चपच𑀱चलल𑁦𑀕', '𑀞𑁣𑀠च', 'चधत𑀦', 'चढ𑀣नल𑀙च𑀤𑀢𑀤', 'णच𑀪𑀢', '𑀠नपन𑀠𑀢𑀟', '𑀟𑁣𑀟𑁣', '𑀲𑀢प𑁣𑀱च', '𑀞च𑀪ढ𑀢', 'प𑀢𑀪𑀢ल𑀢णच𑀟', 'पचढच', '𑀞चणचपच𑀪', '𑀞च𑀠च𑀪', 'ठ𑀧ठठष', '𑀢𑀟𑀲च𑀟प𑀢𑀟𑁣', '𑀠चप𑀳चण𑀢𑀟𑀞न', '𑀟च𑀘𑁦𑀪𑀢णच𑀡', 'च𑀣च𑀣𑀢𑀟', '𑀠नपन', '𑀭𑀧', '𑀟त𑀣त', '𑀱च𑀞𑀢लच𑀟', 'न𑀞𑀪च𑀢𑀟𑁦', 'बचबबच𑀱च', '𑀙च𑀠𑀲च𑀟𑀢', '𑀳चढढ𑀢𑀟', '𑀟च𑀙न𑀪𑁣𑀪𑀢𑀟', '𑀢𑀟बच𑀟पच', '𑀳𑀢𑀟च𑀣च𑀪𑀢𑀟', 'न𑀪च𑀟𑀢न𑀠𑀙', '𑀫चणच𑀪', '𑀞चणच', '𑀙𑀳च𑀟𑀙', 'ढचढन', 'च𑀣चलत𑀢', '𑀤च𑀪ब𑀢𑀟', '𑀘च𑀟', '𑀤च𑁥𑁦', 'बच𑀪ढच', '𑀳𑀫𑁦𑀫न', '𑀠च𑀙च𑀟च𑀪', 'त𑀢𑀟𑀢𑀞𑀢𑀟', '𑀳च𑀳𑀳च𑀟', 'च𑀣च𑀠𑀦', 'पच𑀳𑀢𑀪𑀢𑀟𑀳च', '𑀫चञच𑀪𑀢𑀟𑀳च', '𑀞च𑀪णच𑀱च', 'चल𑀠𑁦𑀪𑀢च', '𑀠ढचधध𑁦', '𑀘𑁦𑀪𑁦𑀡', 'ढन𑀳𑀜न𑁦प𑀳', 'ढच𑀫चब𑁣𑀟', 'चल𑀢', '𑀞च𑀱𑁣𑀘𑀢', 'ब𑀫चल𑀢', 'च𑀪𑀤𑀢झ𑀢𑀕', '𑀠चपच𑀞च𑀟', 'ढ𑀢', '𑀱न𑀪𑀢𑀟', 'त𑁦प𑁣', 'च𑀪𑀤𑀢झ𑀢𑀟', '𑀠च𑀳च𑀳𑀳च𑀪च', 'प𑀠ब', 'बच𑀪बचञ𑀢', '𑀪𑀢𑀞𑁦', '𑀠न𑀞च𑀠च𑀟', '𑀣न𑀞𑀢णच𑀪', 'चल𑀙न𑀠𑀠च', 'णचझ𑀢𑀟ष𑀤च𑁥𑁦', 'पन𑀪ढच𑀪', '𑀣चन𑀞च𑀪', '𑀲𑀪च𑀟𑀞𑀢𑁦', '𑀘𑁣𑀟ब', 'चढ𑀣नलच𑀤𑀢𑀤', '𑀙णच', 'ब𑀢𑀟च', '𑀪𑀢𑀘𑀢णच𑀪', 'ढ𑀢𑀪प𑀳चप𑀳च𑀢', '𑀰ठ𑀖𑀙', 'ब𑁣ण𑀢', '𑀢𑀣च𑀟', 'पचष𑀤च𑀪त𑁦', '𑀓𑀳𑀫𑁦𑀞च𑀪चन', '𑀳च𑀠न', 'पच𑀞च𑀪𑀣च𑀪', '𑀟त𑁦', '𑀘च𑀪𑀢', 'ढ𑁣लच', '𑀘𑀛च𑀠𑀙𑀢णणन𑀟', '𑀘न𑀟च', '𑀫च𑀪𑀢', '𑀠चब𑁣णच', 'ढचणच𑀟𑀳न', '𑀠चपच𑀞च𑀢', 'ढच𑀞𑀱च𑀢', '𑀳चन𑀪𑀢𑀟', '𑀳𑀫नबचढच𑀟त𑀢𑀟', '𑀘च𑀠𑀙𑀢णणच', '𑀙च𑀟', 'पच𑀱चबच𑀪', 'चढनढच𑀞च𑀪', '𑀠च𑀢𑀣नबन𑀪𑀢𑀙', '𑀪𑀢𑀞𑀢त𑀢𑀟', 'ध𑀣ध𑀕', '𑀞𑁣पन', '𑀣च𑀠च𑀪', 'बन𑀣च𑀟च𑀪', 'पच𑀪𑁣𑀟', 'चढ𑀢𑀟त𑀢', 'झच𑀳च𑀳𑀫𑁦𑀟', '𑀟न𑀞𑀢ल𑀢णच𑀕', '𑀫न𑀞न𑀠च𑀪', '𑀢च𑁦च', 'बच𑀟च', 'ढच𑀪𑀟च𑀪', 'णच𑀟𑀤न', '𑀲च𑀣𑀢𑀟', 'ब𑀬', '𑀢णच𑀞च𑀟त𑁦', '𑀲च𑀪च𑀳𑀫𑀢𑀟', '𑁦𑀟𑀣𑀳च𑀪𑀳𑀕', '𑀤च𑀟बचष𑀤च𑀟बच𑀪', '𑁦𑀟𑀣𑀳च𑀪𑀳', '𑀳𑀫च𑀲𑀢', '𑀫च𑀱च', '𑀠𑁣पच𑀪', 'पच𑀳𑀢', '𑀳च𑀠च𑀡', '𑀘𑀢𑀟𑀢𑀟पच', 'बचबच𑀪𑀢', '𑀫𑀢ख', 'पच𑀪𑁦', '𑀳च𑀠ढ𑀢𑀳च', 'चलष𑀠न𑀳पचध𑀫च', '𑀠चललच𑀞च𑀪', '𑀟न𑀟𑁣', '𑀠𑁦𑀟𑀣𑁦𑀳', '𑀳ध𑁣𑀪प𑀢𑀟ब', 'चढनढन𑀱च𑀟', 'ब𑀱च𑀠𑀟𑁣𑀟𑀢𑀟', 'पच𑀪न𑀞च𑀟', '𑀣चढच𑀟ष𑀣चढच𑀟', 'बठ𑀧', '𑀳𑀫नबचढच𑀟𑀟𑀢𑀟पच', 'पचपपचन𑀟च𑀱च𑀡', 'ढच𑀪त𑁦ल𑁣𑀟च', 'प𑀢𑀞𑀢प𑀢𑀟', 'त𑁣𑀟𑀲𑁦𑀪𑁦𑀟त𑁦', 'ल𑁦चबन𑁦', '𑀟𑀢ब𑁦𑀪𑀢च𑀕', '𑀙𑀙णच𑀟', '𑀞न𑀳च𑀟', 'र𑀧', '𑀪च𑀳च', 'च𑀢𑀞𑀢𑀟', '𑀞𑁣𑀪𑁣𑀟च𑀙', '𑀫नपन', 'ढचणच', 'झन𑀪च', 'झन𑀣न𑀪𑁣𑀪𑀢', '𑁦न𑀪𑁣धच', 'णचणच', 'पच𑁥च𑀪𑁥च𑀪𑁦𑀱च𑀪', 'त𑀫𑀢𑀟च𑀡', 'बच𑀠𑁦', '𑀠𑁣पच', '𑀳च𑀠च', '𑀙तनपच𑀪', 'लच𑀞च', 'त𑀢𑀠𑀠च', 'ढन𑀪𑀢𑀟च', 'ढच𑀙', '𑀫चढच𑀢त𑀢', '𑀣च𑀟𑀣चल𑀢𑀟', 'च𑀞धचढ𑀢𑁣', '𑀘𑁦𑀪𑀢𑀟', '𑀢𑀟𑁦त', '𑀙ब𑀱च𑀠𑀟चप𑀢', 'ठ𑀧', '𑀞च𑀳च𑀲𑀢𑀟', 'ठ𑀧𑀭थ𑀙', '𑀳चलच𑀫', '𑀙ण𑀛च𑀣𑀣च', '𑀠चप𑀳𑀢𑀟', 'च𑀪𑀤𑀢𑀞𑀢', '𑀞च𑀠न', '𑀣च𑀠न𑀱च𑀙', '𑀣नढच', '𑀣चत𑁦𑀱च', 'ल𑁣𑀞चत𑀢𑀟', 'ढच𑀪त𑀢', '𑀰𑀭', '𑀫चलच𑀪त𑀢', '𑀞च𑀳न𑀱च𑀟त𑀢', '𑀳चन𑀣𑀢णणच', 'ब𑁣𑁣बल𑁦', '𑁣नपचब𑁦𑀕', '𑀠च𑀟𑀫च𑀘𑁣𑀘𑀢𑀟', 'ब𑀠च𑀢ल', 'ण𑁣नपनढ𑁦', 'च𑀢𑀞𑀢', 'ल𑁣𑀞चत𑀢', '𑀲च𑀪न', '𑀘च𑀠𑀙𑀢णणन', 'णच𑀪𑀘𑁦𑀘𑁦𑀟𑀢णच𑀪', '𑀤च𑀠च𑀟', 'ठ𑀧ठ𑀰𑀡', 'प𑁣न𑀪𑁦', '𑀘चब𑁣𑀪च𑀟त𑀢𑀟', '𑀱𑀢बच𑀟𑀦', '𑀘𑀢𑀞च𑀞𑀞𑀢णच', '𑀲𑁦𑀪𑀟च𑀟𑀣𑁦𑀳', '𑀪च𑀙चण𑀢', '𑀪𑀢बच𑀕', '𑀱च𑀟𑁦', '𑁥च𑀟बच𑀪𑁦', 'पच𑀞च𑀢त𑀢𑀟', 'पत𑀫𑁣नच𑀠𑁦𑀟𑀢𑀦', '𑀫𑁣𑀪च𑀪', '𑀣नढ𑀪चख𑀞च', '𑀟𑁦𑀱तच𑀳पल𑁦', 'पच𑀞च𑀪𑀣न𑀟𑀞न', '𑀭𑁢ट𑀧रटठ𑀧ठ𑀭𑀕', '𑀫𑁦ल𑀢𑀞𑀱च𑀲पच𑀟', 'च𑀢𑀞च', 'च𑀢𑀞𑀢𑀡', 'ब𑀛च𑀪बच𑀣च𑀪', '𑀩चख𑀢', '𑀲न𑀳𑀞च𑀟पच', '𑁦लषतलच𑀳𑀢त𑁣', '𑀘च𑀠𑀢𑀙च𑀟', 'प𑀳च𑀪𑁣', 'पच𑀪𑀱चप𑀳च', '𑀞च𑀪𑀢𑀟', '𑁦ख𑁦𑀪प𑁣𑀟𑀕', '𑀲चढ𑀢च𑀟', '𑀣𑁦लध𑀫𑀦', 'त𑁦𑀟𑀞', 'प𑁣𑀳न𑀟', 'बणल𑀲𑀢', '𑀳𑀢बन𑀪𑀣𑀳𑀳𑁣𑀟', 'प𑀳चणच𑀪', '𑀘𑀢𑀫𑁣𑀫𑀢𑀟', '𑀟न𑀲𑀢', '𑀞चत𑀢णच𑀪', '𑀠चपच𑀡', '𑀳चढन𑀱च𑀪', 'णचञच', 'च𑀲ब𑀫च𑀟𑀢𑀳पच𑀟', 'च𑀳न𑀳न𑀟', '𑀢𑀠𑀲', '𑁦ल𑁣𑀟', '𑀠न𑀳𑀞𑀕', 'पचण𑀢𑀟', '𑀞चत𑁣𑀞च𑀟', '𑁢𑀖', '𑀘च𑀱चढ𑀢𑀟𑀳च', 'च𑀳प𑁣𑀟', 'ख𑀢ललच', '𑀙𑀤च', '𑀣चन𑀞𑀢𑀙', 'ध𑁣त𑀫𑁦पप𑀢𑀟𑁣', '𑀠चण𑁦', 'बन𑀪ढ𑀢𑀟', 'ब𑁦𑀪𑀪च𑀪𑀣', 'ब𑀛𑀫च𑀟च', '𑀞च𑀪च', '𑀲च𑀟तचल𑁦𑀟', 'त𑀫च𑀟', 'प𑁣𑀞ण𑁣', '𑁣लण𑀠ध𑀢त𑀳𑀕', '𑀞𑀢𑀠𑀢णच', '𑀠𑁣प𑀳च', '𑀘𑀢𑀞𑀢', 'ब𑀱च𑀪च𑀤च', '𑀠च𑀟𑀢', 'णचझ𑀢', '𑀲च𑀳𑀫𑀢', 'च𑀫𑀠च𑀣', 'ब𑀱च𑀟𑀢', 'पच𑀞च𑀪च', 'प𑀢𑀟नढन𑀦', '𑁣𑀳𑀢𑀟ढच𑀘𑁣', 'च𑀪𑀤𑀢𑀞𑀢𑀟पच', 'झ𑀱चझ𑀱चल𑀱च𑀪', '𑀠चपचपपन𑀡', '𑀢ल𑁦ल𑁦', '𑀳न𑀠च𑀪', '𑀠न𑀳च', '𑀠च𑀪चढच𑀪', '𑀟णच𑀟णच', '𑀠च𑀪त𑀢𑀟𑀢च𑀞𑀦', 'लच𑀲च𑀪𑀢𑀟', 'ढन𑀳च', '𑀲च𑀪च𑀟𑀳च𑀡', '𑀪चध𑀫𑀢𑀟𑀫च', '𑁦ल', 'तलच𑀳𑀢त𑁣', 'चढनढच𑀞च𑀪𑀕', 'प𑀳चणच', 'ठ𑀧ठ𑀰', '𑀠𑀛चपच', '𑀪च𑀲ल𑀢', 'त𑁣𑀳पच', '𑀪𑀢तच', '𑀫च𑀪𑀢𑀟', '𑀲𑀢𑀪ब𑀢पच', '𑀪𑀛च𑀳𑀫च', '𑀘𑁦𑀲च', '𑀫चञच𑀪𑀢𑀦', '𑀢𑀟', 'पच𑀪चणणच𑀪', 'त𑀢ढ𑀢णच𑀪', '𑀠च𑀞च𑀠च𑀳𑀫𑀢𑀟', '𑀟न𑀞𑀢ल𑀢णच𑀪', 'ब𑀢𑀪𑀠च', '𑀞𑀱च𑀟𑀞𑀱च𑀳𑁣', '𑀠च𑀟च', '𑀳𑀫𑁦𑀞च𑀪चन', '𑀘च𑀘च𑀟पच', '𑀘𑁣𑀟चप𑀫च𑀟', 'ध𑁦प𑁦𑀪', '𑁣ढ𑀢', '𑀠चपच𑀳च𑀟', 'बचलचपच𑀳च𑀪चण', '𑀤च𑀱च𑀪त𑀢𑀟', '𑀪𑁣𑀟चल𑀣𑁣𑀦', '𑀞च𑀟प𑁦', '𑀲न𑀳𑀞च𑀟पच𑀪', '𑀪च𑀳𑀫𑀢𑀟', 'ढच𑀳न', 'नप𑀣𑀦', 'ल𑀢𑀟𑀣𑀳प𑀪𑁣𑀠', '𑀪न𑀟बन𑀠𑀢', '𑀳च𑀟च𑀙च𑀪', 'णच𑀘𑀢𑀟', 'च𑀳नन', 'ग𑀠चप𑀳𑀢𑀟', '𑀪चणन𑀱च', 'पन𑀪𑀳च𑀳च', '𑀳च𑀞𑀢𑀟', 'न𑀱च𑀪ब𑀢𑀣चपच', '𑀳चन𑀞𑀢𑀟', '𑀣च𑀱च𑀢𑀟𑀢णचभ', '𑀲𑀢त𑁦𑀱च', 'ञचन𑀞𑀢षञ𑁣𑀪च', '𑀪चढ𑀢न', 'झच𑀣𑀣च𑀠च𑀪', 'चपल𑁦प𑀢त𑁣', '𑀠चललच𑀞𑀢', 'ब𑀪𑀢𑁦𑀤𑀠च𑀟𑀟', 'च𑀪𑀫च', '𑀳च𑀣𑀢𑁣', '𑀠च𑀟𑁦𑀕', '𑀳चण𑀢', 'श𑀰𑀖𑀠', 'ढ𑀪𑀢प𑀟𑁦ण', '𑀳ध𑁦च𑀪𑀳𑀕', '𑀪नञच𑀟𑀢𑀟', '𑀠𑀢झच', '𑀪चबच𑀠च𑀪', '𑀪चणन𑀱च𑀪पच', '𑀠च𑀫च𑀢𑀲𑀢𑀟पच', '𑀪च𑀟𑀢', '𑀟च𑀘𑁦𑀪𑀢च', '𑀣चलच𑀪', '𑀞𑁣𑀞च𑀪𑀢𑀟', '𑀣न𑀪𑀞न𑀳च𑀪', '𑀠च𑀳च𑀟च𑀙च𑀟पन', '𑀲𑁦𑀟𑁦𑀪ढच𑀫त𑁦', '𑀳𑁣𑀞𑁦', 'प𑀳च𑀞च𑀟𑀢𑀟पच', '𑁣𑀤𑀢ल', '𑀞च𑀳𑀫𑀢𑀠', '𑀳𑀫𑁦पप𑀢𑀠च𑀡', '𑀞न𑀟ब𑀢ण𑁣ण𑀢', '𑀪नढनढ𑀢𑀟', 'ढ𑁦लल𑀢𑀟ब𑀫च𑀠', '𑀣चल𑀢लच𑀟', '𑀠च𑀟णच', '𑀲𑀢प𑀳च𑀪𑀢𑀟', '𑀞𑀱च𑀟त𑁦', '𑀭𑀭ट𑀧𑁢टठ𑀧ठठ𑀕', '𑀣चल𑀢ब𑁦प𑀦', 'च𑀢𑀞𑀢𑀟𑀳च𑀡', 'च𑀛न𑀳प𑀪चल𑀢च', '𑀤चबचण𑁦', '𑀞च𑀪𑁣𑀟', 'बच𑀪𑀢𑀟', 'ढनललच', 'प𑀳𑁣𑀫𑁣𑀟', 'चत', '𑀠𑀢𑀫च𑀘ल𑁣ख𑀢त', '𑀳𑀫𑀢', '𑀙णच𑀟त𑀢𑀟𑀳च', '𑀲च𑀳𑀫𑀢𑀟', '𑀞च𑀪𑀢𑀟ष𑀞न𑀠चलल𑁣', '𑀞𑀢𑀳च𑀡', '𑀞च𑀲च𑀕', '𑀞च𑀟प𑁦𑀦', '𑀣𑁦𑀠ढ𑁦ल𑁦𑀦', '𑀣णढचलच𑀦', '𑀠च𑀪𑀢च𑀦', 'बचललचब𑀫𑁦𑀪𑀦', 'ध𑁦𑀪𑀢𑀳𑀢त𑀦', 'बन𑀟𑀣𑁣बच𑀟', '𑀠च𑀟𑁣𑀠च', '𑀞𑁣𑀱च', '𑀘𑀢𑀠चभ𑀢', 'ढ𑀢𑀟त𑀢𑀞𑁦', 'ढन𑀣𑁦', 'च𑀳𑀢ढ𑀢प𑀢𑀟', '𑀞णचनपच', '𑀳𑀢𑀞𑀢लच', 'णच𑀟𑀞न𑀟च𑀟', '𑀙𑀠चप𑀳𑀢𑀟', '𑀘𑀢𑀟𑀞𑀢𑀪पच', 'चन𑀪𑁦𑀙', 'थठ𑀦𑀧𑀧𑀧', 'णच𑀱𑁣', 'पच𑀳𑀫च𑀪', 'ढनललच𑀪', 'तच𑀪ल𑁣', 'च𑀟त𑁦ल𑁣पप𑀢', '𑀫न𑀣न', '𑀣𑁣𑀟चल𑀣', 'प𑀪न𑀠ध𑀕', '𑀳𑀫च𑀲न𑀞च𑀟', '𑀳च𑀣च', '𑀤न𑀠न𑀟पच', '𑀙𑀪न𑀲𑁦', 'ढच𑀞𑀢𑀟𑀙', 'लचब𑁣𑀟', '𑀢𑀳च', 'णनबन𑀣च', '𑀠न𑀫च𑀱च𑀪च', '𑀢लल𑁣ल𑀢𑀟', '𑀳𑀫च𑀟', '𑀳𑀢बच𑀪𑀢', '𑀙𑀛णच𑀟', '𑀠च𑀣चबच𑀳तच𑀪', 'बच𑀟𑁣', '𑀫च𑀱च𑀢𑀟𑀢णच', '𑀙𑀞च𑀟𑀞च𑀟पच', '𑀣न𑀟𑀢णच𑀙', 'ढच𑀪तच', 'च𑀲त𑁣𑀟', '𑀘च𑀣च𑀱चल𑀢𑀟', 'पचलचपच', 'ध𑀟𑁦न𑀠𑁣𑀟𑀢च', 'च𑀞𑀱च𑀢', '𑀘𑀢पन𑀱च', '𑀳च𑀪च𑀞𑀢𑀡', '𑀠न𑀫𑀢𑀠𑀠च𑀟त𑀢𑀟', 'ल𑁦𑀠𑁣𑀟', 'प𑀳च𑀠𑀢', '𑀠च𑀟𑀢ण𑀢', '𑀞𑁣𑀲𑀢', 'ढच𑀟च𑀡', '𑀱च𑀟𑀟𑁦', '𑀞च𑀪ण𑁦𑀱च𑀪', 'त𑁣𑀪𑁣𑀟चख𑀢𑀪न𑀳𑀡', '𑀪𑀢ब𑁦ष', '𑀪𑀢ब𑁦𑀟', 'प𑀢𑁦ल𑁦𑀠च𑀟𑀳𑀦', '𑀳𑁦ख𑀢ललच', 'खचल𑁦𑀟त𑀢च', '𑀠च𑀪प𑀢चल', '𑀤च𑀲पच𑀪𑁦𑀱च𑀪', '𑀫च𑀟ण𑁣ण𑀢𑀟', 'चख𑀪च𑀠', 'ब𑀪च𑀟प', '𑀞𑁣त𑀢𑀟', '𑀤च𑀠ढ𑀢च', 'ढन𑀫च𑀪𑀢𑀕', '𑀙ढन𑀫च𑀪𑀢', 'पच𑀤च𑀪त𑁦', '𑀞𑁦𑀪𑁦', '𑀠च𑀞च𑀠च𑀢', '𑀳𑁦𑀟𑁦बचल', '𑀲च𑀪𑀞𑁣𑀦', '𑀞𑁣𑀪𑀢', '𑁦ख𑁦𑀪प𑁣𑀟', '𑀳चललच𑀠च', 'ब𑁣𑀪𑀣𑁣𑀟', '𑀞च𑀪𑁣', '𑀘च𑀟𑀟चप𑀢𑀟', '𑀣चढ', '𑀣नप𑀳𑁦', '𑀳च𑀠च𑀟𑀢णच', '𑀭ष𑀧', 'न𑀟𑀢प𑁦𑀣𑀕', '𑀞𑁣𑀠चषढचणच', '𑀳𑁣ख𑀢𑁦प', '𑀠𑀢𑀞𑀫च𑀢ल', 'ब𑁣𑀪ढचत𑀫𑁦ख', '𑀪च𑀳न', 'चणणन𑀞च𑀟', '𑀫च𑀞च𑀪', '𑀢णच𑀞च𑀪', '𑀳𑀫च𑀪𑀫𑀢', 'झन𑀳𑁣𑀳𑀫𑀢𑀟', '𑀤न𑀠न𑀟पच𑀪', '𑀠चपचपपच𑀪च𑀪', '𑀳च𑀠च𑀪𑀢', '𑀠चपच𑀟', 'च𑀪𑁦𑀱च', 'पच𑀞च𑀪च𑀪पच', '𑀱𑁣𑀪ल𑀣', 'तनध', 'त𑁦त𑁦ष𑀞नत𑁦', 'चलच𑀱न𑀳', '𑀣𑀢𑀟', 'ञच', '𑀪च𑀢', '𑀠𑀢ब𑀪च𑀢𑀟𑁦', 'ध𑁦𑀟त𑁦', '𑀞च𑀠चलच', 'च𑀟𑀟𑁣ढच𑀪', '𑀫च𑀪च𑀘𑀢', '𑀠न𑀫च𑀱च𑀪च𑀪𑀳न', '𑀲𑀛𑀢𑀲च', '𑀣𑁦𑀟𑀠च𑀪𑀞', '𑀠न𑀟च', 'ढ𑀢𑀪पच𑀟𑀢णच', 'च𑀲𑀪𑀢𑀞च', 'तढ𑀟', 'पचझच𑀢पच', 'त𑀢𑀪𑁦𑀱च', 'ढच𑀟𑀞𑀢', 'ध𑁣𑀳', 'च𑀪𑁦𑀱चत𑀢𑀟', '𑀫𑀢𑀪च', '𑀠चबन𑀟बन𑀟च', 'णच𑀪च𑀟', '𑀳च𑀱च', 'पच𑀪𑀞चत𑁦𑀟', '𑀪𑁣ढ𑁣ढ𑀢𑀟', 'पच𑀲𑀢णच', '𑀘च𑀟ण𑁣', '𑀙𑀳चन𑀪𑀢𑀟', 'प𑀳न𑀲च𑀙𑀡', '𑀱चण𑁦𑀱च', '𑀠च𑀤च', 'ल𑀢𑀞𑀢पच𑀟', '𑀞𑀱च𑀞𑀱चल𑀱च𑀡', '𑀙𑀞𑀛च𑀪ण𑁦𑀱च𑀪', 'बच𑀣च', '𑀟𑀢𑀟𑀟𑀢𑀟𑀞च𑀙', 'ढच𑀟𑀞𑀢𑀟', '𑀟𑀢𑀘च𑀪', '𑁥न𑀟झच𑀳च𑀪', '𑀞चप𑀳𑀢𑀟च', '𑀣𑀢𑀞𑀞𑁣', '𑀪च𑀣𑀣च', 'पच𑀪च𑀪', 'ढ𑀢लल𑀢णच𑀟', 'च𑀟प𑁣𑀟𑀢𑁣', 'बनप𑁦𑀪𑀪𑁦𑀳𑀕', '𑀳च𑀞चपच𑀪𑁦', '𑀘च𑀟च𑀪', '𑀣𑀢𑀟𑀞𑀢𑀟', '𑀤𑀢णच𑀪च𑀪षच𑀢𑀞𑀢', 'प𑀳𑀢𑀪च', 'पन𑀟च𑀟𑀢𑀟', '𑀫𑁣पन𑀟च', '𑁦𑀣𑁣𑀕', '𑀞च𑀱𑁣', 'नढच𑀟ब𑀢𑀣च', '𑀪𑁦त𑁦𑀳𑀳𑀢𑁣𑀟𑀕', 'पच𑀳𑀢𑀪𑀢𑀟', 'ढनढच', 'बचलच𑀣𑀢𑀠च𑀕', '𑀞𑁣𑀪𑁦', '𑀞च𑀲च𑀪', '𑀣च𑀠च', '𑀫च𑀣च', '𑀪न𑀞न𑀟𑀢', '𑁦न𑀪𑁣', 'ठ𑀧ठर', 'ढच𑀟𑀞चञ𑁣', 'झ𑀱चन𑀪𑁣𑀟', 'ढ𑀢णच𑀟', 'च𑀱𑁣𑀟𑀢ण𑀢', 'प𑀳च𑀣च', '𑀟𑁣पप𑀢𑀟ब𑀫च𑀠', '𑀳चणच', 'त𑀪णधप𑁣तन𑀪𑀪𑁦𑀟तण𑀕', '𑀠च𑀞च𑀪च𑀟पच', 'पन𑀪च', '𑀣च𑀟ढ𑀢ल𑀞𑀢', '𑀞𑀱च𑀠च𑀟𑀣च', '𑀞न𑀪𑀞न𑀞न', '𑀱𑁦𑀳प', '𑀫च𑀠', 'पन𑀟पनढ𑀢', '𑀘𑁦𑀳𑀳𑁦', 'च𑀠𑀲च𑀟𑀢𑀟', '𑀣चढ𑀢𑀟𑁣', 'च𑀣च𑀠', 'चढनढन𑀱च', '𑀠च𑀠च𑀞𑀢', 'णच𑀟चण𑀢', 'लचनणच', 'झच𑀪च', '𑀫च𑀪न𑀲𑀲च𑀟', 'लच𑀪चढत𑀢', '𑀰𑀧', '𑀞𑀱च𑀪च𑀪𑀪न', 'त𑀢𑀞च𑀳', '𑀲न𑀪𑀳न𑀟𑁣𑀟𑀢𑀟', 'च𑀲न𑀱च', '𑀞च𑀣च𑀟', '𑀓', '𑀘चणचणणच', 'ढचबन𑀣न', '𑀠न𑀫च𑀠𑀠च𑀣न', '𑀙𑀠न', 'पच𑀙च𑀣𑀣च𑀟त𑀢', '𑀪नप𑀳च', 'च𑀣𑀣न𑀙च𑀙', 'गचढ𑀢𑀟', 'लच𑀟पच𑀪𑀞𑀢', '𑀟च𑀘𑁦𑀪𑀢णचभ', '𑀙𑀟च', '𑀞𑀢𑀪𑀞𑀢𑀪𑀢', '𑀟च𑀙न𑀪च𑀪', '𑀠नपन𑀱च𑀪', 'न𑀱च𑀟च𑀙', 'ढन𑀪𑁣𑀣𑀢', '𑀳𑁣𑀠च', '𑀞चलच𑀠च𑀟', 'पचललच𑀟', '𑀠चबच𑀟𑀢𑀟', 'बच𑀪बच𑀘𑀢णच', '𑀤लचपच𑀟', '𑀢ढ𑀪च𑀫𑀢𑀠𑁣ख𑀢त', '𑀘𑀢𑀟णच𑀪', 'पच𑀞𑀱च𑀳', 'धचनल', 'ध𑁣बढच𑀕', '𑀞न𑀳𑀞न𑀪𑁦', '𑀪न𑀱च', 'तनपच𑀪𑀱च', '𑀲𑀢पच', 'चल𑀙चन𑀪च𑀪पच', 'प𑁣पप𑁦𑀟𑀫च𑀠', '𑀰ष𑀧', 'च𑀪𑀳𑁦𑀟चल𑀕', '𑀳चन𑀪च', '𑀳च𑀳𑀳चनपच', '𑀞च𑀞चढच', 'तनढच', 'ब𑀪𑀢𑁦𑀤𑀠च𑀟𑀟𑀦', '𑀳𑀫च𑀙च𑀱च𑀪', 'बच𑀞ध𑁣𑀦', '𑀱𑁣लख𑁦𑀳', '𑀳𑀫𑀢𑀣च', '𑀙णच𑀙णच𑀟च', 'बच𑀣𑁣𑀟', '𑀞𑁣𑀠च𑀢', 'ढच𑀪𑀢𑀟', '𑀠च𑀲𑀢पच', '𑀣च𑀱𑁣', 'प𑀳चणच𑀱च𑀪', 'च𑀟𑁦𑁦𑀪च', '𑀞चढ𑁦𑁦𑀪𑀕', '𑀟च𑀠𑀢𑀘𑀢', '𑀳𑁣', '𑀞च𑀟पच', 'झणच𑀠च𑀪पच', '𑀣च𑀟𑀟𑁦', '𑀞च𑀟च𑀟च𑀟', '𑀳𑁣𑀘𑁣𑀘𑀢', '𑀫च𑀞𑀞𑀢𑀟𑀳न', 'बच𑀳𑀞𑀢णच', '𑀙णच𑀣𑀣च', '𑀞च𑀪चणच𑀪', '𑀢णचलच𑀢𑀟च', 'पच𑀳𑀞न𑀙', '𑀠चप𑀳च', '𑀠न𑀞न', 'पन𑀟च𑀟𑀢', '𑀤चब𑀢', 'चबच𑀘𑀢', '𑀖𑀧𑀧', '𑀫𑁣𑀪𑁣', '𑀞च𑀟𑀳न', '𑀞𑀱च𑀟च𑀟', 'बच𑀳𑀫𑀢', '𑀫चणच', 'ब𑀢𑀣च𑀘𑁦', 'चढन𑀘च', 'च𑀲𑀪𑀢तच', '𑀢𑀟प𑁦𑀪𑀟𑁦प𑀕', 'ब𑀱च𑀠𑀟चप𑁣त𑀢𑀟', 'प𑁣𑀳𑀫𑁦', '𑀣चल𑀢ब𑁦प', 'बच𑀪𑀢𑀟𑀳न', '𑀳च𑀠𑁣', '𑀳पचल𑀞𑁦𑀪𑀱च𑀪𑁦𑀕', '𑀠च𑀙चन𑀪चपच', '𑀤चढच𑀪', '𑀠चपच𑀢𑀠च𑀞च𑀟', 'चलच𑀞च𑀞च𑀢', '𑀲चढ𑀢𑁣', 'ख𑀢𑁦𑀢𑀪च', '𑀲त', 'ध𑁣𑀪प𑁣', 'ण𑀢𑀱न𑀱च𑀪', '𑀲च𑀣𑁣𑀱च𑀪', '𑀞न𑀠ढ𑁣𑀟', '𑀫च𑀪ढच', '𑀳𑀫च𑀪न𑀣𑀣च𑀟', 'ब𑀢𑀟𑀣चणच', '𑀘च𑀠भ𑀢णणन𑀟', '𑀲𑀢पचपपन𑀟', '𑀞च𑀪𑀳𑀫𑁦𑀟', 'त𑀪𑀢𑀳प𑀢च𑀟𑁣', 'ल𑀢ख𑁦𑀪ध𑁣𑁣ल𑀕', '𑀙ढचढन', 'पचढढच𑀳𑀙', '𑀠च𑀟𑁦', '𑀞ल𑁣धध', '𑀤च𑀠च𑀟𑀳च', 'ब𑁣𑀪नढच', '𑀱न𑀪𑀢', '𑀟𑀢𑀳च', 'ढचलच', '𑀞चन𑀪च', 'ब𑀱च𑀠𑀟च𑀦', 'पच𑀠ढन𑀱चल', '𑀳च𑀟चपच𑀡', '𑀲चपच𑀪', '𑀟च𑀠च𑀟', '𑀞च𑀤च', 'णच𑀟च', 'च𑀠𑀲च𑀟𑀢𑀡', '𑀪च𑀠च𑀣च𑀟𑀕', 'चढ𑀢𑀟त𑀢𑀟', 'च𑀤न𑀠𑀢', '𑀱च𑀟𑀣च', '𑀙ढच', '𑀠च𑀘चल𑀢𑀳न𑀟', '𑀪𑀢बच𑀪ष𑀞च𑀪𑀢णच', 'झचलनढचल𑁦', '𑀲𑀢𑀪च𑀠𑀢𑀟𑀢𑀳पच𑀪', 'प𑀪च𑀣𑁦', '𑁣𑀪बच𑀟𑀢𑀤चप𑀢𑁣𑀟𑀕', '𑀳चनण𑀢', 'त𑀢𑀟𑀢𑀞चणणच', 'पन𑀫न𑀠𑀢', 'प𑁣𑀟𑁦ण', '𑀞𑁦पच', 'तचतच', '𑀞च𑀪णच𑀪', '𑀞णचन𑀕', 'ढच𑀟𑀞च𑀣𑁣', 'ल𑀢𑀞𑀢प𑁣त𑀢𑀟', '𑀠च𑀳च𑀪', '𑀣च𑀟𑀱च𑀳च𑀟', '𑀟𑁦ण𑀠च𑀪', '𑀪𑁣त𑀫च𑀳', '𑀤चढपच𑀪𑁦', '𑀳च𑀟चप𑁣त𑀢𑀟', 'ढनढ𑁣𑀟𑀢त', 'धलचबन𑁦𑀕', 'धलचबन𑁦', '𑀞𑁣न𑀟𑀣𑁦', 'च𑀣च𑀠𑀡', '𑀫चल𑀢𑀠च', '𑀤च𑀱𑀢णच𑀕', '𑀠चपच𑀳𑀫𑀢णच𑀪', '𑀫च𑀪𑀞च𑀪', 'प𑀳च𑀢𑀞𑁣𑀟', '𑀲𑀢𑀣', '𑀳𑀫च𑀞𑀞न', '𑀘न𑀟𑁦', '𑀭ठ𑀕', 'ब𑀱चब𑀱च𑀪𑀠चणच𑀪', '𑀣𑀢𑀠𑁣𑀞𑀪च𑀣𑀢णणच', '𑀟च𑀘𑁦𑀪𑀢णच𑀦', '𑀠च𑀳च𑀟च', 'ल𑀛𑁦𑀱च𑀟𑀣𑁣𑀱𑀳𑀞𑀢', '𑀲न𑀳𑀞च𑀟त𑀢', '𑀳𑁣ल𑁣𑀠𑁣𑀟', '𑀣चलन𑀟ब𑀕', 'ब𑀱च𑀠𑀟चप𑀢𑀟', 'बच𑀤च', 'ग𑀪च𑀠𑀢𑀟', '𑀫च𑀞𑁣𑀪𑀢', '𑀤नत𑀢णचभ', '𑀭ठ', '𑀙पच𑀞च', 'प𑀳च𑀟षप𑀳च𑀟𑀙', '𑀳𑀫च𑀪नञञच𑀟', '𑀠चप𑀳चल𑁣ल𑀢', '𑀣𑀢𑀤𑁦ल', 'च𑀛ढनढन𑀱च𑀟', '𑀙ढन𑀪𑀢𑀟च', 'ब𑀱च𑀠𑀟च𑀙', 'ढच𑀪𑀞𑁦𑀱च𑀪', '𑀞𑀱चलच𑀪च', 'प𑀢लच𑀳पच𑀱च', 'लचढच𑀟𑁣𑀟', '𑀢𑀳', '𑀘च𑀠𑀙𑀢णणन𑀟', 'णचणच𑀟', '𑀲चप𑀢𑀫न', '𑀠न𑀫च𑀠𑀠च𑀣', '𑀲𑀪𑁦𑀟𑀞𑀢𑁦', '𑀠न𑀫𑀢𑀠𑀠च𑀟', '𑀘𑀢णच', '𑀠न𑀳च𑀟पच', 'ढच𑀪च𑀤च𑀪', '𑀳च𑀟𑀳च𑀟𑀢𑀟पच', '𑁣𑀠𑀢त𑀪𑁣𑀟𑀕', '𑀟चन𑀙𑀢𑀟', '𑀠नल𑀞𑀢𑀕', 'बणच𑀪च', '𑀫च𑀟णच', 'चल𑀫च𑀘𑀢', '𑀳नल𑁦', 'लच𑀠𑀢𑀣𑁣', '𑀫च𑀪', '𑀞च𑀠न𑀱च', '𑀞चनत𑁦', 'पचणच𑀪', 'णचन', 'चपपच𑀘𑀢𑀪च𑀟', '𑀙𑀠चपच𑀪', '𑁥च𑀪𑀢𑀟', '𑀳चन', 'ठठ𑀙', 'त𑀫ल𑁣𑀪𑁣𑀜न𑀢𑀟𑁦𑀕', '𑀫न𑀘𑀘च𑀪', '𑀠𑀣𑀣', '𑀳च𑀠च𑀟', '𑀫चप𑀳च𑀪𑀢', 'प𑀢प𑀢𑀟', '𑀙णच𑀙णच𑀟', '𑀞न𑀳𑁣𑀳𑀫𑀢𑀟', '𑀤चढन𑀞च𑀟', '𑀟𑀛च𑀢𑀪च', '𑀲च𑀪𑀲चञ𑁣𑀱च', '𑀞च𑀳न𑀱च', 'ञ𑁣𑀪𑁦', 'पचन𑀪च𑀪𑀢', '𑀙𑀣चढ', 'ढ𑀢𑀟𑀣𑀢बच𑀙', 'ढचढढच𑀟', 'ब𑀱च𑀪च𑀤च𑀟', '𑀭𑀧𑀧𑀕', '𑀘च𑀟𑀟चप𑀢', '𑀱च𑀳च𑀟पच', 'श𑀰र𑀠', '𑀪च𑀫𑁣प𑁣', '𑀠न𑀳च𑀠𑀠च𑀟', '𑀙च𑀟𑀟𑁣ढच𑀪𑀙', '𑀞𑁣𑀣च', 'ण𑁣ढ𑁦', '𑀢खच𑀟', 'ध𑁦𑀪𑀢𑀳𑀢त', 'ढ𑀛च𑀪त𑁦ल𑁣𑀟च', '𑀠चणच𑀪', 'तच𑀠ध', '𑀟𑁣न𑀦', 'ब𑁦𑁣𑀪ब𑁦', '𑀲ल𑁣ण𑀣𑀕', '𑀞चल𑀠𑁣𑀠𑀢', 'णच𑀞𑁦', '𑀠चबन𑀟बन𑀟च𑀟', '𑀘चढन', 'पचललच𑀪', 'चलढच𑀳च', 'प𑀳𑀢𑀪च𑀢त𑀢𑀟', 'खच𑀪𑀣ण', 'न𑀟𑀢प𑁦𑀣𑀦', 'चल𑁣𑀟𑀳𑁣', 'चतच𑀣𑁦𑀠ण', '𑀠च𑀪च𑀞𑀢𑀟', '𑀳चललच𑀫', '𑀗', 'बन𑀪𑀘𑀢', '𑀳𑀫𑁦𑀞च', '𑀞चञच𑀢त𑀢', '𑀣𑀢𑀠𑁣𑀞𑀪च𑀣𑀢णणच𑀪', 'त𑁣ख𑀢𑀣ष𑀭थ𑀕', '𑀱चण𑁣ण𑀢𑀟', '𑀲च𑀣𑀢', '𑀱च𑀪𑀱च𑀳', 'ढच𑀟𑀞𑀱च𑀟च', 'ढन𑀪पच𑀟𑀢णच', 'क𑁢𑀧𑀕', '𑀤नढ', '𑀫च𑀱चण𑁦𑀟च', 'त𑁦त𑀢', 'ञच𑀪न𑀪न𑀱च𑀟', '𑀠चलच𑀠च𑀟', '𑀠च𑀞च𑀪च𑀟पच𑀙', 'चल𑀞𑀫च𑀢𑀪𑀢', '𑀣चढढ𑁣ढ𑀢𑀡', 'ढच𑀘𑁦ष𑀞𑁣ल𑀢𑀟', '𑀳न𑀟चण𑁦', 'ढचणच𑀟च𑀟', 'पच𑀞च𑀪चदच', '𑀠च𑀤चढन', 'पच𑀟पच𑀟त𑁦', '𑀳च𑀫𑀢𑀫च𑀟त𑀢𑀟𑀳न', '𑀳𑀫𑁦𑀢𑀞𑀫', '𑀣च𑀫𑀢𑀪न', 'बच𑀪बच𑀣𑀢', '𑀠च𑀳च𑀪चनपन', '𑀠नझच𑀠च𑀢', '𑀟चञच', '𑀱चण𑁣ण𑀢', '𑀱𑁦𑀳ल𑁦ण', '𑀲𑁣𑀲च𑀟च', '𑀠𑀢ल𑀢ण𑁣ण𑀢𑀟', 'ढचलल𑁣𑀟', '𑀣𑀙𑁣𑀪', '𑀤च𑀠च𑀟पच𑀞𑁦𑀱च𑀕', '𑀲न𑀳𑀫𑀢𑀟', 'बच𑀢𑀪च', '𑀣चल𑀢ल𑀢𑀙', '𑀙𑀞च𑀳𑀫𑀢', '𑀟चनभ𑁣𑀙𑀢𑀟', '𑀱नणच', '𑀟𑁦𑀙', '𑀢𑀳𑀞च𑀪', 'पच𑀞𑁦', '𑀳𑀫चझच', '𑀞नललन𑀠', '𑀟𑀖𑀦𑀧𑀧𑀧', '𑀙चढनढन𑀱च𑀟', '𑀞णच𑀪', 'ढ𑀪𑀢ब𑀫प𑁣𑀟', '𑀠न𑀤च𑀟पच', '𑀳𑀫च𑀱च𑀪𑀱च𑀪𑀢', 'णच𑀟𑀞𑁦', '𑀱𑀛𑁣लख𑁦𑀳', '𑀞𑁣𑀪च', '𑁦𑀳ध𑀢𑀪𑀢प𑁣', '𑀪𑀢बच𑀪', '𑀠च𑀪च𑀣𑁣𑀟च', '𑀲च𑀠', '𑀬𑀯𑀭', 'प𑀳च𑀪𑁣𑀕', 'तच𑀘च', '𑀳च𑀲च𑀪च𑀪', '𑀘च𑀞न𑀟च', '𑀭रट𑀧𑀰टठ𑀧ठ𑀧', '𑀱च𑀢𑀱चण𑁦𑀕', '𑀠च𑀢𑀦', 'ढ𑀢𑀞𑀢', 'ध𑀫𑀢लल𑀢ध𑀳𑀦', 'प𑁦𑀟', '𑀫चब𑀦', 'ध𑁣त𑀫𑁦पप𑀢𑀟𑁣𑀦', 'पनत𑀫𑁦ल𑀦', '𑀪न𑀣𑀢ब𑁦𑀪𑀦', '𑀳च𑀟त𑀫𑁦𑀳', '𑀲चञच', 'त𑀢𑀞च𑀕', 'झ𑁣𑀣च', '𑀠च𑀢𑀠चलच', 'ढन𑀟𑀢', 'ढन𑀟𑀞च𑀳च', '𑀞𑀱च𑀞𑀱च𑀪पच', '𑀣च𑀠ढच𑀪𑀱च', '𑀘च𑀠भ𑀢णणच𑀪', 'च𑀛ढ𑀢𑀟', '𑀙𑀞𑁣', '𑀫नत𑁦', 'ल𑀢बच𑀡', '𑀞चणचणणच𑀞𑀢𑀡', 'णच𑀪𑀢𑀠च𑀟', 'ढच𑀞न𑀪च𑀕', '𑀠चपच𑀱चलल𑁦', '𑀘चब𑁣𑀪च𑀟', 'पच𑀟𑀞𑁣', 'णच𑀞च𑀳च𑀢𑀕', '𑁣ढच𑀳च𑀟𑀘𑁣', '𑀠च𑀲𑀢णच', 'पन𑀫न𑀠च', 'प𑀳𑀢𑀪𑁦', '𑀤𑀢णच𑀪च𑀪𑀳च', 'ढ𑁣𑀪𑀟𑁣', '𑀫चल𑀢पपन𑀟', '𑀲न𑀳𑀞च𑀪𑀞न', '𑀫च𑀣च𑀪𑀢', '𑀣चख𑀢𑀣', 'ब𑁦च𑀕', '𑀣च𑀣𑁦', '𑀪चढ𑁣𑀟', '𑀞𑁣𑀠𑀲नपच𑀪𑀞न', 'णचन𑀳𑀫𑁦𑀡', '𑀣चल𑀢ढच', '𑀘𑀢𑀟𑀢𑀟', 'चल𑀙च𑀣च', '𑁦𑀛𑀪𑀢𑀞𑀳𑁦𑀟', 'तनध𑀕', 'ब𑀢णच', '𑀲𑀢लचण𑁦𑀟', '𑀲𑀢𑀲च', '𑀟𑀛च𑀘𑁦𑀪𑀢णच', '𑀞च𑀪च𑀪', '𑀞नल𑀢णच', '𑀳𑀫चबन𑀟च𑀟𑀳न', '𑀟𑀰𑀧𑀦𑀧𑀧𑀧', '𑀳𑀫च𑀫च𑀪च', '𑀟च𑀘𑁦𑀪𑀢णच𑀙', '𑀣न𑀞𑀞च𑀟', '𑀠चत𑁦ष𑀠चत𑁦𑀟', 'चलच𑀞च', '𑀣𑀪𑀯', 'ब𑀱च𑀪𑀤𑁣', '𑀗𑀧', '𑀳चणच𑀪𑀱च', '𑀞च𑀳न𑀱च𑀟𑀟𑀢𑀟', '𑀢𑀟बच𑀟त𑀢𑀙', '𑀳च𑀠', '𑀞𑁦𑀪𑀪', '𑀞णचनपच𑀪', 'ध𑀲च', 'लच𑀟बणच', '𑀪चबन𑀟च', '𑀘𑀛चधच𑀟', 'णचबच', 'ढच𑀪च𑀞च', '𑀪𑀢ब𑀢𑀠च', 'प𑀳𑀢णचषप𑀳𑀢णच𑀕', '𑀠न𑀟𑀢', 'थ𑀧', '𑀫चब', 'तचततच𑀞𑀢', '𑀲𑀢ल𑀢', 'पन𑀟', 'पच𑀢𑀠च𑀞च', '𑀘𑀢𑀞𑀢𑀟𑀳च', '𑀳𑀫च𑀟ण𑁦', '𑀫च𑀢𑀫न𑀱च', '𑀱च𑀪𑀱च𑀪𑁦', 'ढच𑀡', '𑁦𑀣𑁦𑀟', '𑀫च𑀤च𑀪𑀣', 'ढ𑁦लब𑀢न𑀠', 'पच𑀠चनलच', 'तच𑀟𑀘𑀢𑀕', '𑀱चप𑀳𑀢', '𑀫च𑀟णच𑀪', 'छच𑀪', 'प𑀢𑀟झ𑁦', '𑀞न𑀟च', 'च𑀪𑁦𑀱च𑀡', '𑀞च𑀙𑀢𑀣𑁣𑀘𑀢𑀟', '𑀞𑀢णचण𑁦', '𑀳𑀢𑀪𑀪𑀢', '𑀞𑁣पन𑀟', '𑀞𑁣ल𑀢', 'ढचण𑁦ल𑀳च', '𑀗𑀭ठ', 'च𑀠𑀳च', '𑀞न𑀣न𑀕', 'प𑀳च𑀟च𑀟𑀢𑀟', 'पचलचनत𑀢', '𑀠चपनझच𑀪', 'च𑀪𑀤𑀢झ𑀢', 'चल𑁣𑀟𑀳𑁣𑀦', '𑀞न𑀪𑁦', 'लचल𑀢पच𑀪पच', '𑀠चपच𑀪𑀳च', '𑀠च𑀳च', 'च𑀛𑀠𑀳𑁣𑀳𑀫𑀢𑀟', 'ठ𑁢ट𑀭𑀭टठ𑀧ठठ', '𑁣ढच𑀳𑁦𑀞𑀢𑀕', 'ञ𑀢𑀟𑀞𑁦', '𑁥च𑀪च𑀞च𑀪', 'चधत𑀡', 'त𑁦षत𑁦ष𑀞नषत𑁦', 'चढचत𑀫च𑀡', '𑀞च𑀪ढचष𑀞च𑀪ढच', '𑀞चलल𑁣𑀟', 'ढनबन𑀟', '𑀤नत𑀢णच', '𑀟ण𑁦𑀳𑁣𑀠', '𑀱𑀢𑀞𑁦𑀕', 'च𑀳चढच𑀪', '𑀠न𑀳𑀞', '𑀫च𑀟𑀟न𑀟ष𑀘च𑀪𑀢𑀟', 'घ𑀰ढ𑀟', 'लब', 'ल𑁦च𑁣𑀦', '𑀫च𑀪𑀪ण', '𑀞च𑀟𑁦𑀦', '𑀠𑀞𑀫𑀢पच𑀪णच𑀟𑀦', '𑀣𑁣नत𑁣न𑀪𑁦', 'प𑁣𑀪𑀪𑁦𑀢𑀪च', 'णच𑀣च', '𑀣चन𑀞𑁦', '𑁦𑀟च𑀢𑀪च𑀕', 'ढच𑀠ढच𑀟पच', '𑁦𑀟च𑀢𑀪च', 'प𑀢𑀟नढन𑀕', 'ढनझचत𑀢', '𑀖𑀧', '𑀳च𑀣च𑀞च𑀪', '𑀭𑀧𑀧', 'चलढच𑀳𑀫𑀢𑀟𑀳च', '𑀞𑀱च𑀟𑀞𑀱च𑀳𑀢णणच', '𑀫न𑀞न𑀟त𑀢𑀟', '𑀞𑁣ल𑀢𑀡', '𑀲𑁦पन𑀪𑀕', 'बन𑀪ढचपचतत𑁦𑀟', '𑀞𑁣नल𑀢ढचलण', '𑀣च𑀲', '𑀟चध𑁣ल𑀢', '𑀞न𑀣न𑀪𑁣𑀪𑀢', 'लच𑀠ढच𑀪', 'प𑀢लच𑀳पच', '𑀟च𑀤च𑀪𑀢𑀟𑀳न', '𑀠च𑀟𑁣𑀠च𑀟', 'पच𑀞𑀢', '𑀢𑀟𑀘𑀢𑀟𑀢णच', 'पन𑀪च𑀱च', '𑀪नढनढ𑀢𑀟𑀳च', 'ढ𑀢𑁣𑀣न𑀟', '𑁣ण𑁦ढच𑀟𑀘𑀢', '𑁦𑀞𑀢प𑀢', '𑁣𑀳न𑀟𑀕', '𑀠न𑀞च', '𑀞𑁣णच', '𑀞चणच𑀪', 'चप𑀢𑀳चण𑁦', 'लचणन𑀞च𑀟', '𑀳चत𑁦', 'ब𑀢𑀣च𑀟', 'पचलचढ𑀢𑀘𑀢𑀟', 'ञ𑀢𑀟', 'प𑀳च𑀞च', 'ढ𑀢ल𑀢णच𑀟', '𑀭𑁢𑀧', '𑀫च𑀢𑀫न𑀱च𑀪', '𑀞च𑀟𑀳च𑀪', '𑀠च𑀲𑀢प𑀳च𑀪च𑀙', '𑀞𑀱चप𑁣', 'णच𑀱च𑀟त𑀢𑀟', '𑀲च𑀟𑀳च𑀪', 'त𑁣ल𑁣𑀟𑀢चल', 'ध𑀢ध𑁦ल𑀢𑀟𑁦', '𑀙प𑀳𑁣𑀪𑁣𑀟', 'बचणणचपच𑀡𑀙', '𑀲च𑀣च𑀣च', '𑁦प𑀢𑀫च𑀣', '𑁢𑀧𑀦𑀧𑀧𑀧', '𑀭𑀭', 'ढ𑀢𑀣𑀢ण𑁣𑀕', '𑀳चनणच𑀱च', '𑀳च𑀞च𑀦', '𑁦𑀪𑀢𑀞𑀳𑁦𑀟𑀦', '𑀟𑁦𑀠च𑀟𑀘च', '𑀠चप𑀢त𑀕', '𑀪𑁣𑀠च', '𑀳𑁦𑀪ढ𑀢च', 'पचललच𑀲च', '𑀳च𑀫𑁦ल', '𑀤चढ𑁦𑀕', '𑀫न𑀞न𑀠𑁣𑀠𑀢', '𑀢ढ𑀪च𑀫𑀢𑀠', 'गबच𑀤च𑀱च𑀪', '𑀞च𑀪ढ𑁣', '𑀲च𑀳𑀢𑀟𑀘𑁣𑀘𑀢𑀟', '𑀞च𑀳च𑀟', 'चढन𑀘चष𑀞च𑀣न𑀟चभ', '𑀞च𑀳𑀳च𑀪च', 'णन𑀟झन𑀪𑀢𑀟', '𑀞𑀢𑀲च𑀪', 'ञचल𑀢ढच𑀟', '𑀞𑀱चल𑁦𑀘𑀢𑀟', '𑀞च𑀣न𑀟च', '𑀟𑀢प𑀣च', '𑀟च𑀞च𑀳च𑀳𑀳न', '𑀳च𑀣च𑀪𑀱च', '𑀢ललच', '𑀠चलच𑀪𑀢च', '𑀤च𑀠च𑀟𑀢𑀟', '𑀳𑀫𑁦𑀞च𑀪न𑀟', 'चल𑀙च𑀣च𑀪', 'चन𑀪𑁦𑀟पच𑀡', '𑀣नप𑀳𑁦𑀟', '𑀟𑀟धध', '𑀱च𑀙च𑀣𑀢𑀟', '𑀤च𑁥न𑀞च𑀟', '𑀳चढन𑀟पच', '𑀢𑁣𑀳', '𑀭र𑀯𑀖', '𑀳प𑁦𑀪ल𑀢𑀟ब', 'चलच𑀠च', 'बच𑀱च𑀪𑀱च𑀞𑀢𑀟', '𑀞च𑀟𑀞च𑀪च', '𑀲च𑀪𑀲च𑀣𑁣', '𑀪चढ𑀢𑀙न', '𑀞𑀱च𑀟𑀞𑀱च𑀳𑁣𑀕', '𑀤च𑀲पच𑀪𑁦', '𑀳𑁦𑀪चध', '𑀟चतच𑀕', '𑀪चबन𑀱च𑀪', '𑀞णल𑀢च𑀟', '𑀠ढचधध𑁦𑀕', 'णच𑀪𑀘𑁦𑀘𑁦𑀟𑀢णच𑀪𑀳च', 'ब𑀱च𑀠𑀟𑁣𑀟𑀢𑀕', 'प𑀳चन𑀪च𑀪च', 'चणणच𑀟च', 'ढचत𑀢', 'ढ𑀢𑀪𑁦𑀤𑀢णच', 'चलचझच', '𑀟𑁣𑀟𑁣𑀡', 'झन𑀣𑀢𑀪𑀢𑀟', '𑀟ण𑀳त', '𑀳𑁣नप𑀫च𑀠धप𑁣𑀟', '𑀞𑁣त𑀢𑀟पच𑀦', 'ध𑀪𑁦𑀠𑀢𑁦𑀪𑀦', '𑀠न𑀣𑀪ण𑀞', '𑀳𑀫𑁦बन𑀟', '𑀳च𑀟𑀢𑀟', '𑀞न𑀪𑀟च', '𑀳चललच𑀠𑀢', 'ढच𑀞𑀱च𑀢𑀦', '𑀟न𑀟𑁦𑀳', 'ल𑀢𑀳ढ𑁣𑀟', '𑀞न𑀪च𑀠𑁦', '𑀣चपप𑀢𑀟', '𑀞न𑀟𑀟𑁦', '𑀙प𑀳च𑀪𑀢𑀟', '𑀞च𑀪𑁥चष𑀞च𑀪𑁥च', '𑀪चध𑀫𑀢𑀟𑀫च𑀦', '𑀪𑀢त𑀫च𑀪ल𑀢𑀳𑁣𑀟𑀦', '𑁦खच𑀟𑀢ल𑀳𑁣𑀟𑀦', '𑀫𑁣𑀘ढ𑁦𑀪ब𑀦', '𑀠तब𑀢𑀟𑀟', 'ढच𑀪𑀞𑁦', '𑀠नपन𑀱च', '𑀞चनण𑁦𑀟', '𑀠चपच𑀞𑀢𑀟', '𑀣चदण𑀢𑀟', '𑀞च𑀠𑀲𑁦', '𑀳चब𑀢𑀪𑀕', '𑀞𑀱चल𑀢', '𑀢𑀳𑀳𑀕', '𑀞𑀢𑀠𑀢णणच', 'झ𑁣ल𑁣लन𑀱च𑀪', 'च𑀘𑀢𑀠𑁣ढ𑀢', '𑀪च𑀳न𑀦', '𑀪𑀢झ𑁣𑀕', '𑀳𑁣𑀞𑁦𑀡', '𑀳प𑁦ख𑁦', 'त𑁣𑁣ध𑁦𑀪', '𑀟𑁣प𑀫𑀢𑀟ब𑀫च𑀠', '𑀲𑁣𑀪𑁦𑀳प𑀦', 'ढचण𑁦𑀪', 'ल𑁦ख𑁦𑀪𑀞न𑀳𑁦𑀟', '𑀩चढ𑀢', '𑁦𑀣𑀣𑀢𑁦', '𑀟𑀞𑁦प𑀢च𑀫𑀕', 'बन𑀟𑀟𑁦𑀪𑀳', '𑀬𑀦𑀧𑀧𑀧', '𑀳𑀢𑀟प𑀢𑀪𑀢', 'ढनलचबन𑀪𑁣', 'चल𑀫𑀢𑀟𑀢', 'च𑀢𑀱चपच𑀪', 'ढनझचपन𑀟', '𑀱𑀢𑀞𑁦', '𑀞च𑀟𑀞न𑀦', 'णच𑀣न𑀱च𑀪पच', '𑀳𑀫च𑀱च𑀪𑀱च𑀪𑀢𑀟', 'ठ𑀗𑀦𑀧𑀧𑀧', '𑀠चपन𑀞च𑀟', '𑀘𑀢𑀪चब𑁦𑀟', '𑀪𑀛𑁣𑀟चल𑀣𑁣', '𑀣च𑀣𑀢𑀟', 'ढ𑁦𑀟त𑀢𑀟', '𑀤𑀢णच𑀪च𑀪', '𑀢𑀠𑁣', '𑀱चणच', 'च𑀛ढन', '𑀣नढन', 'र𑀧𑀧', 'चललन𑀪च𑀪', 'झच𑀪च𑀢𑀪चण𑀢', 'णचञच𑀱च', '𑀞𑁣𑀞च', '𑀞च𑀣च𑀪𑁣𑀪𑀢𑀟', '𑀠च𑀪पच𑀟𑀢𑀟𑀳च', 'रठठ', 'ञचणच𑀦', 'पच𑀞च𑀪𑀣न𑀟', '𑀞च𑀪𑀳𑀫𑁦', '𑀱न𑀪च𑀪𑁦', '𑀱च𑀪𑀢', 'प𑀳च𑀱𑁣𑀟', 'ञचन𑀞च', '𑀱च𑀪𑀞𑁦𑀡', 'त𑀛𑀫𑁦ल𑀳𑁦च', '𑀫चबन', '𑀠𑁣प𑁣त𑀢', '𑁢𑀧', '𑀣च𑀞𑀢', '𑀫च𑀤𑁣', 'ढचणच𑀟ष𑀲चब𑁦', '𑀤नढच𑀪', '𑀫𑁣𑀟𑀣न𑀪च𑀳', 'चनढच𑀠𑁦णच𑀟ब', 'ढच𑀪तच𑀦', '𑀳च𑀪𑀞𑀢', '𑀳च𑀟न𑀳𑀢', 'ढ𑁣न𑀪𑀟𑁦𑀠𑁣नप𑀫', '𑀠𑀛च𑀟', 'नप𑀣', '𑀤च𑀱च𑀪च𑀱च𑀦', 'च𑀪प𑁦पच𑀦', 'प𑀪𑁣𑀳𑀳च𑀪𑀣', '𑀫𑁦धचप𑀢प𑀢𑀳𑀕', '𑀫च𑀳𑀞च', '𑀢𑀛𑀟च', 'झच𑀪च𑀟त𑀢𑀟', 'न𑀟ब𑁣𑀤𑁣𑀠च', '𑀪चणन𑀞च𑀟', '𑀞𑀢𑀟', '𑀱नपच𑀪', 'ब𑀢𑀪𑀞𑀢', 'लच𑀲𑀢णच𑀡', '𑀖𑁢', '𑀫च𑀱च𑀟', '𑀞𑁦𑀞𑁦𑀟', '𑀳𑀢णच', '𑀣चन𑀞च', '𑀳𑀫च𑀱𑁣', '𑀳𑁣𑀞𑁣प𑁣', '𑀞चण𑁦𑀟', '𑀞𑁣𑀪च𑀪', '𑀟नप', '𑀠चलच𑀠च𑀢', '𑀳𑀫च𑀢𑀣च𑀪', '𑀳𑀫नबचढच𑀟पच', 'बचढचपच𑀪', '𑀳च𑀟𑀞च𑀪च𑀪', 'ढच𑀞𑀢𑀟', '𑀠च𑀫च𑀢𑀲च', 'प𑀳𑀢𑀟प𑀳𑀢णच𑀪', '𑀱च𑀪बच𑀘𑁦𑀱च', 'प𑁦𑀞न', '𑀣𑁣𑀪𑁣𑀟', '𑀲च𑀣𑁣', 'प𑁦ढन𑀪𑀢𑀟', '𑀲𑀢𑀲च𑀦', '𑀠च𑀪𑁣𑀞𑁣', '𑀤च𑀪𑀪च', '𑀲चत𑁦ढ𑁣𑁣𑀞𑀕', '𑀪चबन', '𑀭𑀗', '𑀠𑁣न𑀟प𑀦', 'प𑁦𑀪𑀪𑀢𑁦𑀪𑀦', '𑀟𑁦ख𑁦𑀳𑀦', 'लचध𑁣𑀪प𑁦𑀦', '𑀤𑀢𑀟त𑀫𑁦𑀟𑀞𑁣𑀦', 'चबन𑁦𑀪𑀣', 'ब𑁣ण𑁣𑀟', '𑀤च𑀪च𑀲𑀢𑀟', '𑀞च𑀳च𑀪पच', '𑀪𑀢बचष𑀞च𑀲𑀢𑀟', '𑀞𑁣𑀪𑁣𑀟च𑀡', '𑀠𑀢𑀟𑀢𑀳प𑁣त𑀢𑀟', '𑀠न𑀪चढन𑀳', 'प𑀳चणच𑀱च', '𑀲𑀢त𑁦', '𑀣च𑀟ब𑀢𑀟', '𑀲चञ𑁣', '𑀣𑀢णणच', '𑀙ढन𑀞𑀞च𑀙', '𑀘च𑀟𑀟चप𑀢𑀟पच', '𑀫च𑀟ब𑁣', 'णचन𑀳𑀫𑁦', '𑀤𑁣', '𑀣च𑀢𑀣च𑀢𑀡', 'तनपनपपन𑀞च𑀟', '𑀱च𑀪𑀞𑁦', 'चढच𑀣च', '𑀞णचनपचपच', '𑀤चप𑁣𑀟', '𑀙पच', '𑀱च𑀪𑀞𑁦𑀙', '𑀢𑀟𑀳नल𑀢𑀟', 'च𑀲ब𑀫च𑀟𑀢𑀳पच𑀟𑀕', '𑀱च𑀣चपच', 'णचझ𑀢𑀟', '𑀠चपचपन𑀟', '𑀲𑁣𑀪𑁦𑀳प', 'ठ𑀧𑀧', '𑀲चपच𑀟', '𑀣च𑀪च𑀠', '𑀪𑁣ब𑁣', '𑀙𑀠चपच', '𑀫च𑀣च𑀪𑀢𑀟', '𑀲च𑀣च𑀱च', '𑀳𑀫चण𑁦ष𑀳𑀫चण𑁦𑀙', '𑀙𑀣चल𑀢ल𑀢𑀟', '𑀳𑀫नबचढच𑀪', 'ण𑁦𑀠𑀢', '𑀳𑁦त', 'त𑀪णधप𑁣तन𑀪𑀪𑁦𑀟तण', '𑀠𑀢ल𑀢𑀟𑀞𑁣ख𑀢तष𑀳चख𑀢त𑀦', 'ध𑁣बढच𑀦', '𑀤𑀢𑀣च𑀟𑁦𑀦', '𑀞𑁣न𑀟𑀣𑁦𑀦', '𑀘𑁦𑀳न𑀳𑀦', '𑀠च𑀪𑀜न𑀢𑀟𑀫𑁣𑀳', 'चल𑀞च𑀱न𑀪च𑀟', '𑀢णचलच𑀟', 'श𑁢𑀧𑀦𑀧𑀧𑀧', '𑀞च𑀠𑁣𑀠च𑀪', 'ध𑁣ध𑁦𑀦', 'तनतन𑀪𑁦ललच', 'ढच𑀤न𑀟न', '𑀠𑀢णच𑀪', '𑀞न𑀞च', '𑀟𑀢𑀙𑀢𑀠च', '𑀠च𑀤च𑀞नपच', '𑀠𑁣𑀫च𑀠𑀠𑁦𑀣𑀕', 'प𑀳𑁣𑀪𑁣𑀟', 'बचबच𑀪च', 'चबढ𑁣𑁣लच', 'च𑀘चण𑀢𑀕', '𑁣𑀟𑀣𑁣', '𑀘𑀢𑀫𑁣𑀫𑀢', '𑀱च𑀣च𑀟𑀣च', '𑀙𑀳च𑀢', '𑀞𑁣𑀠चषढचणच𑀟', 'च𑀪𑀤𑀢𑀞𑀢𑀙', '𑀠𑀢𑀞𑁦ल', 'च𑀪प𑁦पच', 'ठ𑀧ठरषठ𑀖', '𑀲𑀢𑀪𑀢𑀠𑀢णच', '𑀲चञन𑀱च', '𑀬𑀧𑀡', 'ढच𑀳𑀫𑀢𑀪', 'प𑁣𑀲च𑀕', '𑀠च𑀳च𑀟𑀢𑀟', '𑀞𑀢𑀠𑀢णणच𑀪', '𑀞च𑀣न', 'णचण𑀢𑀟', 'ञ𑀢𑀟𑀳च', '𑀞च𑀲𑁣𑀲𑀢𑀟', 'ठ𑀧𑀭थ', '𑀠च𑀳च𑀪च', '𑀙𑀳न𑀟', '𑀣च𑀣𑀢', '𑀢णच𑀞𑁣𑀞𑀢𑀙', 'ढ𑀛चण𑁦𑀪𑀟', '𑀤च𑀞च𑀪न𑀟', '𑀣च𑀪𑀱𑀢𑀟', '𑀟न𑀟𑁦𑀤𑀕', '𑀞नललच', 'णच𑀪𑀘𑁦𑀘𑁦𑀟𑀢णच', 'ढ𑁦𑀟𑀲𑀢तच', 'न𑀪नबनचण', '𑀱च𑀣च𑀟𑀟𑁦', 'त𑀢𑀞𑀢𑀟𑀳न', '𑀟𑀢ब𑁦𑀪𑀢च𑀡', 'ढन𑀪𑀢𑀟', 'च𑀣ध', '𑀟च𑀤च𑀪𑀢𑀟', '𑀠चभच𑀢𑀞चपच', '𑀪च𑀳𑀫च𑀕', '𑀲च𑀪बचढच𑀪', '𑀠च𑀳च𑀪𑀢𑀕', '𑀳न𑀟च𑀟च', 'तच𑀟तच𑀟पच', 'त𑁦षत𑁦ष𑀞नषत𑁦𑀟', '𑀠न𑀫च𑀱च𑀪च𑀪', '𑀢𑀳𑀪च𑀙𑀢लच', '𑀣𑀢𑀟बच', '𑀠चपच𑀳𑀫𑀢', '𑀠चप𑀫ण𑀳', 'प𑁦ल', '𑀪𑁦𑀟𑀟𑁦𑀳', '𑀠न𑀫च𑀠𑀠च𑀣𑀕', '𑀙𑀤च𑀟', '𑀣न𑀞', '𑀲𑀢प𑁣', '𑀘𑁣𑀟चप𑀫च𑀟𑀙', '𑀠चलच𑀪𑀢च𑀡', 'बच𑀳च', 'ठ𑀧ठ𑀭', 'ढच𑀳च𑀳च𑀪', '𑁦प𑀫𑀢𑁣ध𑀢च𑀕', 'ढच𑀪च𑀪', 'प𑀢ब𑀪चण', '𑀪𑀢𑀞𑀢ञच', '𑀲च𑀪𑀢𑀟', 'ढचझ𑀢𑀟', '𑀫च𑀞𑁣𑀱च', '𑀫च𑀣𑀣च𑀳च', 'पच𑀞𑀢𑀟', 'न', '𑀤𑀢ण𑁦त𑀫', 'ढच𑀪𑀢𑀟दत𑀫𑁦ल𑀳𑁦च', 'च𑀢𑀣𑀳', '𑀣चण𑀕', '𑀫𑀢खटच𑀢𑀣𑀳', '𑀳𑁣𑀟ब𑀫च𑀢𑀕', '𑀙च𑀲𑀢𑀪𑀞च', '𑀳𑀫𑀢बच𑀪', 'पचलचनत𑀢𑀙', 'बचणच', 'बचढच𑀟𑀢𑀟', 'बचणणचत𑀢', '𑀘𑁣𑀪𑀣च𑀟', '𑀫𑁦𑀟𑀣𑁦𑀪𑀳𑁦𑀟', 'ठष𑀰', 'त𑀫𑁦ल𑀳𑁦च𑀕', 'ढ𑀢𑀣𑀢ण𑁣', 'रथ', '𑀣न𑀱चप𑀳न𑀟', '𑁦𑀪𑀢𑀞𑀕', 'ढच𑀣𑀢𑀙', 'प𑁦ल𑁦ब𑀪च𑀠', '𑀢𑀤𑀢𑀟𑀢𑀟𑀳न', 'ढ𑀛च', '𑀢𑀱𑁣ढ𑀢', 'च𑀛ढनढन𑀱च', 'बच𑀘𑀢णच', 'ख𑀢𑀪ब𑀢ल', 'खच𑀟', '𑀣𑀢𑀘𑀞', '𑀞𑁣𑀲न𑀟च', '𑀲च𑀪च𑀟𑀳च𑀦', '𑀲च𑀳𑀢𑀟𑀘च𑀟', 'पन𑀞𑀢', '𑀘𑀢𑀪ब𑀢', '𑀠चपन𑀞𑀢𑀟𑀳च', '𑀳न𑀠च', '𑀣चपपच𑀱च𑀟', '𑀳𑀫नबचढच𑀟त𑀢', '𑀙णच𑀙णच𑀟𑀳च', '𑀤च𑀠ढच𑀪', 'ढ𑀢ल𑀢ण𑁣ण𑀢𑀟', '𑀱𑀢𑀞𑁦𑀡', 'ढ𑀢𑀟त𑀢𑀞𑁦𑀕', 'ढ𑀢𑀘𑀢𑀪𑁦', 'ढच𑀦', '𑀢𑀣𑁣', '𑀫च𑀟ब𑁦𑀟', '𑀟𑁦𑀳च', '𑀤चझनल𑁣', '𑀞𑁦𑁥च𑀟पचपपन𑀟', '𑀘नध𑀢प𑁦𑀪', 'ढचष𑀫चणच', '𑀪च𑀱च𑀪', 'पच𑀞च𑀱च', '𑀢णचण𑁦', '𑀞𑀱च𑀞𑀱चल𑀱च𑀕', 'लचण𑀢𑀟', 'पच𑀢𑀠च𑀞𑁣𑀟', '𑀠चप𑀳च𑀟च𑀟त𑀢णच𑀪', 'बच𑀳𑀞𑀢णच𑀕', '𑀳𑀫च𑀲च𑀪', '𑀞𑀢𑀣च', '𑀞न𑀤च𑀪𑀢', '𑀘𑀢𑀞𑀢𑀡', '𑀲𑁦𑀠𑀢', '𑀲च𑀟𑀢ष𑀞चण𑁣𑀣𑁦𑀕', '𑀟𑀣न𑀠𑁦', '𑀲𑁦𑀪𑀟च𑀟𑀣𑀢𑀟𑀫𑁣', '𑀲च𑀪𑀲चञ𑁣', '𑀳न𑀲न𑀪𑀢𑀟', '𑀠𑁣प𑁣त𑀢𑀟', 'ढच𑀳', 'ग𑀟च', '𑀫𑀢ख𑀦', '𑀞𑁣𑀪𑁣𑀟चभ', '𑀠च𑀪पच𑀟𑀢𑀟', '𑀳𑀫𑁦प𑀢𑀠च', '𑀠𑀛ढचधध𑁦', '𑀱चपच𑀞𑀢लच', 'ल𑀢बन𑁦', '𑀭', 'लच𑀪चढच', '𑁦𑀠𑁦𑀪𑀳𑁣𑀟', 'धचल𑀠𑀢𑁦𑀪𑀢', '𑀟षध𑁣𑀱𑁦𑀪𑀕', 'पच𑀠ढचण𑁣ण𑀢𑀟', '𑀪चञचञ𑀢𑀟', '𑀣चल𑀢ढच𑀟', '𑀘च𑀠𑀢𑀙च𑀪', 'ढचण𑁦𑀪𑁣', 'बच𑀱चण𑀢', '𑀠च𑀪च𑀳', '𑀫चणच𑀞𑀢', '𑀳चझ𑁣𑀟𑀟𑀢𑀟', '𑁥चत𑁦𑀱च', 'ल𑀢𑁣𑀟𑁦ल', 'बच𑀟𑀣न𑀘𑁦𑀕', 'झच𑀪च𑀪𑀳च', 'त𑁦लपच', 'ढचण𑀪𑁦𑀟', 'ख𑀢ललच𑀪𑁦चल𑀕', '𑀠न𑀫च𑀠𑀠च𑀟', 'ढ𑀢णन𑀟', '𑀲च𑀳च𑀫च', 'व𑀞𑀱च𑀠𑀢प𑀢𑀟', 'च𑀪𑀤𑀢𑀞𑀢𑀕', 'ववढन𑀫च𑀪𑀢', '𑀞च𑀪𑀲𑀢𑀟', '𑀢𑀞𑁣', 'ढचववव', '𑀞च𑀱च𑀢', '𑀠च𑀪च', '𑀱चद', '𑀳च𑀟𑀞𑁣𑀡', '𑀫𑁣𑀪च𑀪𑀱च', '𑀠𑁣𑀫च𑀠𑀠𑁦𑀣', '𑀠च𑀠𑀠च𑀟', '𑀣चन𑀪च𑀕', 'बच𑀪𑀤चणच', '𑀠च𑀞न𑀳च𑀟त𑀢𑀟', '𑀢𑀟ब𑀢लच𑀡', '𑀳𑁣त𑀢𑁦𑀣च𑀣', 'ख𑀳', 'ढच𑀪त𑁦ल𑁣𑀟च𑀕', 'ल𑁣𑀟𑀣𑁣𑀟', '𑀞चणच𑀟पच', '𑀠चललच𑀞च', 'पचपपच𑀞𑀢𑀟', 'ढचनपच𑀪', '𑀠न𑀳न', '𑀳न𑀞च𑀪𑀢', 'धच𑀞𑀢𑀳पच𑀟', '𑀘च𑀠च𑀙च', '𑀳𑀫चण𑀢', '𑀞नलल𑁦', 'ब𑀱च𑀪च', 'ब𑀢𑀣च𑀘𑁦𑀟', '𑀳च𑀠च𑀠𑁦𑀟', '𑀲ढ𑀢', 'पन𑀟𑀤न𑀪च', '𑀳𑀫𑀢𑀡', '𑀳𑁣णचणणच', 'बच𑀘𑀢णच𑀪', 'झचलनढचल𑁦𑀟', '𑀞𑀱च𑀠𑀢प𑀢𑀟', '𑀳नल𑀫न', 'चल𑀙चन𑀪च𑀪', 'ढनपन𑀠षढनपन𑀠𑀢𑀟', 'पचपपच𑀪𑁣', '𑀙झचणचपचपपन𑀟𑀙', '𑀳च𑀠𑀲न𑀪च𑀟', '𑀣न𑀱चप𑀳न', 'द', 'लचतच𑀤𑁦पप𑁦𑀦', 'च𑀳𑁦𑀟𑀳𑀢𑁣𑀦', 'लन𑀞च𑀞न𑀦', '𑀠𑁦𑁦', '𑀠चपच𑀕', 'प𑀳च𑀪𑀞𑀢', '𑀳चढनलन', '𑀠चप𑀳चलच', 'णच𑀟', 'ब𑁣𑀪𑀣𑁣𑀟𑀦', '𑀳चलच𑀫𑀦', '𑀣𑁦𑀠ढ𑁦ल𑁦', '𑀫च𑀪𑀞𑁣𑀞𑀢𑀟', 'बनच𑀪𑀣𑀢𑁣लच', '𑀫चञच𑀪𑀢𑀟', '𑀳च𑀞𑀢', '𑀳चत𑀢', '𑀖𑀧𑀯𑀬𑀖', '𑀰𑁢', '𑀣चन𑀪𑁦', '𑀙ढ𑀢𑀘𑀢𑀪𑁦𑀱च', '𑀣𑁣𑀞𑁣𑀞𑀢𑀟पच𑀙', '𑀭𑀬र', '𑀲𑀢ल𑀢𑀟', 'पन𑀪𑀠नप𑀳𑀢प𑀳𑀢', '𑀢𑀟𑀣𑁣𑀟𑁦𑀳𑀢च', '𑀞𑁦ब𑁦ल𑀕', '𑀘𑀢𑀠च𑀙𑀢', '𑀣𑀢ललच𑀟त𑀢𑀟', '𑀘न𑀪ब𑁦𑀟', 'ब𑀱च𑀪𑀤𑁣𑀟', 'पच𑀠चनचलच', '𑀲णच𑀣𑁦', 'प𑀢णचपच𑀪', '𑁣ल𑁦𑀞𑀳च𑀟𑀣𑀪', 'न𑀳ण𑀞', 'च𑀟प𑀫𑁣𑀟ण', '𑀘𑁣𑀳𑀫नच', '𑀞च𑀠ढन𑀟च𑀟𑀳च', 'ढ𑀢पत𑁣𑀢𑀟𑀕', 'च𑀳च𑀪च𑀪', 'थ𑀖', '𑁥च𑀪च𑀪', 'च𑀢𑀞𑀢𑀕', '𑁦लष𑀪न𑀲च𑀙𑀢', '𑀞न𑀟ब𑀢ण𑁣ण𑀢𑀟', '𑀞𑀱च𑀣चब𑁣', '𑀠च𑀙च𑀢𑀞चपच', 'च𑀟𑀟𑁣ढच', '𑀳नबच𑀕', 'तनपच𑀪𑀡', '𑀳𑀞𑀪𑀢𑀟𑀢च𑀪𑀦', '𑀫च𑀣चष𑀫च𑀣च𑀪', '𑀳च𑀟च𑀙च𑀪𑀠न', 'त𑀢𑀞𑀢𑀡', '𑀢णच𑀞𑁣𑀞𑀢𑀟', '𑀞च𑀳च𑀪𑀡', '𑀢ल𑀢𑀠च𑀟पच𑀪', '𑀙णच𑀙णच𑀟पच', '𑀬', 'च𑀤ध𑀢ल𑀢तन𑁦पच𑀦', '𑀟𑁦ण𑀠च𑀪𑀦', '𑀠𑁦𑀳𑀳𑀢𑀦', '𑀙णच𑀞𑀢', '𑀤नत𑀢णच𑀙', '𑀲च𑀙𑀢𑀣च', 'च𑀢𑀞𑀢𑀟पच', '𑀠च𑀞𑀱च𑀟𑀟𑀢', 'णन𑀟𑀞न𑀪𑀢𑀟', '𑀞णचल𑀢च𑀟', '𑀭𑀖𑀧', 'पच𑀢𑀱च𑀟', 'झच𑀳च𑀪पच', '𑀞न𑀣च𑀣𑁦𑀟', 'णच𑀠𑀠चत𑀢𑀟', 'ढच𑀣𑀢', '𑀫चन𑀳च𑀱च', '𑀞च𑀟𑀢𑀞च𑀟त𑀢', 'च𑀳प𑀫𑀠च', 'बन𑀪ढचपच', '𑀠न𑀫चलल𑀢𑀡', 'च𑀛𑀠न𑀪𑀞च', '𑀫𑁣𑀱च𑀪𑀣', '𑀱𑁦ढ', 'चल𑀞चलच𑀟', '𑀘𑀢बचष𑀘𑀢बच𑀟', '𑀳च𑀟च𑀣𑀢णच𑀪', 'च𑀠ढचल𑀢णच𑀪', '𑀞च𑀢𑀞चण𑀢𑀟', '𑀘𑀢ढ𑀢णच', '𑀠चबच𑀠च', '𑀪𑀢𑀘𑀢𑀳पच𑀪', 'पन𑀞𑀱𑀢त𑀢𑀟', 'घ𑀭𑀯𑀖𑀠', '𑁥च𑀪𑀢', 'बन𑀣च', '𑁦ण𑁦', 'प𑀳चढच𑀪', 'पन𑀪च𑀢𑀡', 'त𑀢𑀞𑁦', 'ब𑀢𑁥𑀢𑀟', 'बच𑀳', '𑀣च𑀠𑀲च𑀪च', '𑀘𑀢𑀟ब𑀢𑀟𑁦', 'च𑀣𑁦ल𑁦𑀞𑁦', '𑁣𑀳न𑀟', 'त𑀫𑁦ल𑀳𑁦च𑀦', 'प𑀢प𑀢𑀟च𑀟𑀠न𑀕', '𑀲𑁦𑀟च𑀪𑀢प𑀢', '𑀫चचलच𑀟𑀣', 'तच𑀟तच𑀟त𑀢', 'णचढ𑁣', '𑀢ललच𑀡', 'चलच𑀞च𑀟पच', '𑀠𑀢च𑀠𑀢𑀦', '𑀣चल𑁣प', '𑀤चन𑀟𑁦', '𑀳𑀫𑁦𑀞च𑀪चन𑀕', 'बन𑀣न𑀱च', '𑀣नढच𑀢', 'पच𑀞न𑀟𑀞न𑀠च𑀢', '𑀳चल𑁦', '𑀠च𑀠𑀠च𑀟𑀕', '𑀳चन𑀞𑁦', '𑀠𑀢𑀟𑀢𑀳पच', '𑀭𑀰', '𑀟𑀢णणच𑀪', 'ढन𑀞चपच', '𑀫न𑀟पन𑀪न', '𑀳𑀫𑀢ब𑁣𑀱च𑀡', 'ढनपच𑀪', 'च𑀪ढच𑀙𑀢𑀟', 'पच𑀪च', 'गढच', '𑀘𑀢बच𑀱चभ', '𑀬र𑀖𑀦𑀧𑀧𑀧', 'ढच𑀳𑀫𑀢', '𑀟च𑀘𑁦𑀪𑀢णच𑀪', 'ढ𑀢ढ𑀢णच𑀪', 'खलच𑀫𑁣ख𑀢त𑀦', '𑀞च𑀟𑁣𑀙', '𑀠𑁣न𑀪𑀢𑀟𑀫𑁣', 'चत𑁦𑁣𑀟', '𑁦लष𑀪न𑀲च𑀢', '𑀥𑀪𑁦ख𑁣लनप𑀢𑁣𑀟𑀟𑁣𑀱𑀕', 'ण𑀢𑀡', '𑀪च𑀙चण𑁣ण𑀢𑀟', 'बणच𑀪च𑀟', '𑀞न𑀟𑀣𑀢𑀟', '𑀙ब𑀱चबब𑁣𑀟', '𑀞𑀢𑀳च', '𑀠नपच𑀟𑁦𑀙', 'पन𑀱𑀢पच', '𑀣च𑀪च𑀘च', '𑀲𑀢ण𑁦', '𑀰𑀧𑀧𑀧', '𑀳𑀫च𑀞चपच𑀱च', '𑀳च𑀠च𑀟𑀢णच𑀕', '𑀞𑀢𑀠𑀢णणच𑀦', '𑀲चललच𑀳च𑀦', 'त𑀢𑀪च', 'ण𑀢𑀙', 'पच𑀤च𑀪च', '𑀞न𑀪न𑀪न𑀱च', 'च𑀟𑀟च𑀳𑀫न𑀱च𑀡', 'चलभन𑀠𑀠च𑀪', 'ब𑀢𑀳𑀫𑀢𑀪𑀢', '𑀠च𑀟𑀣च', '𑀪च𑀙चण𑀢𑀟', '𑁥च𑀟बच𑀪𑁦𑀟', '𑀞च𑀪𑁥𑀢', '𑀟चन𑀙न𑀞च𑀟', '𑀠चप𑀳चल𑁣ल𑀢𑀟𑀳च', '𑀲च𑀪𑀢𑀟ष𑀘𑀢𑀟𑀢', '𑀤च𑁥𑁦𑀡', 'ढच𑀢ष𑀣चणच', '𑀟चप𑀫च𑀟', '𑀳चण𑁦𑀟𑀳च', '𑀠𑀛नपन𑀠𑀢𑀟', '𑀳चपच𑀪', 'ञच𑀟ण𑁦𑀟', 'ब𑁣𑁣𑀣लनत𑀞', '𑀲𑁣𑀠', '𑀠𑀢𑀟𑀢𑀳पच𑀟', '𑀘𑀢ब𑀢लच𑀪', 'चढन𑀘चष𑀞च𑀣न𑀟च', 'लच𑀠न𑀟𑀢𑀟', '𑀟𑀢𑀪𑀳चल', '𑀳𑀫च𑀙चढच𑀟', '𑀠𑀢𑀟', '𑀟च𑀳𑀢𑀪न', '𑀞𑁣बन𑀟च', 'पच𑀳𑀞न', '𑀪𑀢ढच𑀳', 'ढ𑀢𑀞𑀢𑀟', 'ढन𑀟𑀣𑁦𑀳ल𑀢बच', '𑀠𑀢𑀘𑀢𑀟', '𑀙𑀪न𑀲𑀢𑀟', 'च𑀳𑀢𑀪𑀢𑀙', 'ञचबच', '𑀠चब𑀢𑀣च𑀟पच', '𑀠न𑀠𑀠न𑀟च𑀟', '𑀪चढ𑀢𑁣प', 'लचनण𑁣ण𑀢', '𑀙𑀪न𑀲पच𑀙', '𑁦𑀢𑀟प𑀪चत𑀫प', '𑀲𑀪च𑀟𑀞𑀲न𑀪प𑀕', '𑀲𑀪च𑀟𑀞𑀲न𑀪प', '𑀟𑁣न', 'खचप𑀕', '𑀤नढच', 'ढचणच𑀙', '𑀣च𑀠न𑀡', '𑀠𑁦पच', 'बचबच𑀪न𑀠𑀢𑀟', 'बच𑀪च𑀟ढच𑀱नल', '𑀳च𑀟𑀞च𑀪च𑀙', 'ण𑁣नप𑀫', '𑀢𑀟ख𑁦𑀳प𑀠𑁦𑀟प', '𑀲न𑀟𑀣𑀕', '𑀟𑀬𑀖ढ𑀟', '𑀞𑀱चलल𑀢णच', '𑀲चञच𑀱च', 'पच𑁥च', 'ब𑁣𑀠𑀠च𑀢', '𑀫𑁣𑀣च𑀪', '𑀢ढ𑀢ल𑀢𑀳', '𑀭थ𑀰', 'लचब𑁣𑀳', '𑀣𑀢𑀪𑁦ढ𑁣ढ𑀢𑀟', 'नढ𑁦𑀪', 'ढ𑁣लप', '𑀠चन𑀣न𑀙𑀢𑀟', '𑀥𑀪𑀢धप𑀱𑀢पप𑁦𑀪', 'च𑀛', 'ञन𑀠च𑀠च𑀪', 'ढचलच𑀙𑀢', '𑀢पच', '𑀠चपच𑀢𑀠च𑀞𑀢णच𑀪', '𑀲च𑀪𑀲च𑀣𑀢णच', '𑀠न𑀪𑀞न𑀳𑀫𑁦', '𑀲च𑀫𑀢𑀠त𑀢', '𑀠𑀢𑀟च𑀠𑀢𑀟𑁣', '𑀠𑁣𑀟चत𑁣', 'प𑀳च𑀪𑁦', 'ब𑀪𑁦𑁦𑀟𑀱𑁣𑁣𑀣', '𑀫च𑀢𑀫न𑀱च𑀪𑀳च', '𑀞चलच𑀠च𑀟𑀳च', 'झ𑁣ल𑀢', '𑀳न𑀟च𑀟𑀳च', '𑀞च𑀠𑀲च𑀟𑀢', '𑀞च𑀳च𑀟त𑁦', '𑀲𑀢𑀪च𑀠𑀢𑀟𑀳पच𑀟', 'त𑀫𑁣ब𑀠', 'थ𑀬', '𑀢ध𑀠च𑀟', '𑀢𑀠च𑀟𑀢𑀟', 'तनपच', '𑀠चबच𑀟त𑁦𑀱च', '𑀠चत𑀢𑀤च𑀢', '𑀳𑀫च𑀣𑀣च𑀪', '𑀳च𑀪𑀢', '𑀞च𑀪ढच𑀪', 'च𑀟प𑁣𑀟ण', '𑀞च𑀪न𑀱च𑀢', '𑀲चञ𑀢𑀟', '𑀟𑀟धत𑀕', '𑀣चपपच𑀱च𑀟दच𑀪𑁦𑀱च', 'ढच𑀫चणच𑀦', '𑀳𑀫च𑀪𑁦𑀱च𑀡', '𑀱चझच', '𑀠च𑀱चझ𑀢𑀟', 'ठ𑀖', '𑀲च', '𑀘𑁦𑀠चबन', '𑀲च𑀟𑀟𑀢𑀟', '𑀟च𑀢𑀪च𑀕', 'प𑀳𑁣𑀞चत𑀢', '𑀲च𑀪𑀲चञ𑁣𑀱च𑀪', '𑀞नञ𑀢𑀟𑀳न', '𑀳𑀫चझ𑁦𑀱च𑀪', 'ब𑀛चख𑀢', 'ठ𑀧ठ𑁢', '𑀠न𑀪च𑀣𑀢𑀟', '𑁦त𑁣𑀡', 'पचलच𑀞च𑀟', '𑀪𑁣ढ𑁦𑀪प', '𑀞𑀱चललचण𑁦', '𑀠चपन𑀞च𑀪', '𑀳𑀪𑀢', 'लच𑀟𑀞च𑀕', '𑀣न𑀪𑀞न𑀳𑀫𑁦𑀱च', 'च𑀠न𑀪𑀞च𑀱च', 'चल𑀢धचण', '𑀞𑀱च𑀳𑀫𑁦', 'ढच𑀫चणच', 'नबच𑀟𑀣च', 'चढचत𑀫च', '𑀳च𑀢', '𑀠चपच𑀲𑀢णच', '𑀠च𑀱नणचत𑀢𑀟', '𑀫चल𑀢', 'ढ𑀛𑀪𑀢ब𑀫प𑁣𑀟', 'तच𑀳𑀞च𑀪च', '𑀤𑀢णच𑀪त𑀢', 'च𑀠𑁦𑀩', 'ध𑁣बढच', 'च𑀳𑀢ढ𑀢प𑁣त𑀢𑀟', '𑀫च𑀪𑀢𑀡', 'ढ𑀛च𑀘𑀢𑀟पच𑀪', 'न𑀠च𑀪त𑀢', 'च𑀳नन𑀦', 'ढचढन𑀪च', '𑀳𑀫च𑀢𑀣च', 'न𑀱च', 'च𑀢𑀞𑁦𑀱च', '𑀣च𑀟ब𑀢𑀟𑀳न', 'ढचणच𑀟𑀢𑀟', 'झच𑀳𑀫𑀢', 'ल𑁦𑀢त𑁦𑀳प𑁦𑀪', '𑀠च𑀱चझच𑀟', '𑀫चञच', 'तच𑀳न', '𑀪च𑀘𑀢𑀳पच𑀪', '𑀟𑀞न𑀟𑀞न𑀦', '𑀘𑁣𑀳𑁦', 'च𑀛लच𑀟', 'धच𑀪𑀣𑁦𑀱', 'च𑀪𑀢𑀳', 'ब𑀢𑀪𑀞च', '𑀙𑀛चढ𑀢𑀟', '𑀞चणच𑀙', '𑀤𑀢𑀟च𑀪𑀢णच', '𑀭𑀗ट𑀧𑀬टठ𑀧ठ𑀧', '𑀙𑀲𑀢ण𑁦', 'लच𑀪न𑀪च𑀙', '𑁣ढच𑀠च', 'पच𑁥न𑀞च', '𑀟𑀟धत', '𑀲च𑀳चल𑀢', '𑀞𑁣लच', 'चढ𑀢𑁣लच', '𑀞च𑀢𑀡', 'चन', '𑀫चढच𑀳𑀫च', 'ढच𑀟𑀞𑀢𑀦', '𑀣चपपच𑀱च', 'च𑀠𑀢𑀟त𑁦𑀱च', '𑀞नञचञ𑁦𑀟', 'च𑀲𑀢𑀪𑀞च𑀕', '𑀣च𑀪𑀢णच', '𑀣च𑀪𑀢ष𑀣च𑀪𑀢', '𑀟चभन𑀪च', 'प𑀳𑁣𑀞च', '𑀲𑁣𑀪ढ𑁦𑀳', '𑀞चपच𑀲च𑀪𑁦𑀟', 'चल𑀲च𑀪𑀠च', '𑀙𑀳नध𑁦𑀪णचत𑀫प𑀳𑀙𑀦', '𑀠च𑀳𑀫च𑀫न𑀪च𑀟', 'चपप𑀢𑀘𑀢𑀪च𑀢', '𑀫नपच𑀱च', 'झच𑀪𑀳𑀫𑁦', 'बन𑀘𑁦', '𑀞न𑀟णच', 'ख𑀢ललच𑀪𑀪𑁦चल', 'लन𑀱च𑀣𑀢', 'पच𑀲𑀞च', 'प𑁣', 'त𑀢𑀟𑀟च𑀱च', 'य𑀠न𑀤बन𑀟च𑀱च𑀪', '𑀠च𑀤च𑁤', '𑀞𑀱च𑀞𑀱च', '𑀞च𑀢𑀲𑀢𑀟', '𑀲चपच', 'णच𑀠न𑀳𑀫𑁦𑀱च', '𑀱च𑀟𑀞𑁦', '𑀳𑀢लच𑀪', 'तनपन𑀞च', 'ढच𑀳न𑀪', '𑀠न𑀞च𑀠च𑀢', 'चढढच', '𑀞णच𑀪𑀢𑀡', 'ढचतत𑀢𑀟', 'च𑀱च', '𑀳𑀫𑀢𑀳𑀫च', '𑀣च𑀟𑀞चल𑀢𑀟', 'चल𑀙च𑀘चढ𑀢', '𑀞च𑀱च𑀪', 'झचढच𑀪', '𑀪𑀢ब𑁦ष𑀪𑀢ब𑁦𑀟', '𑀫न𑀞न𑀟पच', '𑀳𑀠च𑀪प', 'च𑀣𑁦ण𑁦𑀠𑀢𑀕', '𑀪𑀢झच', '𑀫च𑀟त𑀢', '𑀱चत𑁦', '𑀲च𑀣च𑀡', '𑀞चलनढचल𑁦𑀟', '𑀠चप𑀳चणच', '𑀞च𑀪णचपच', '𑁦𑀛ढ𑁣लच', '𑀠च𑀞च𑀪च𑀟पन', '𑀳न𑀟चण𑁦𑀟', 'त𑀢𑀞च𑀡', 'बनढच𑀪', '𑀣चल𑀠च', '𑀣𑀛च', 'त𑁣ख𑀢𑀣𑀕', '𑀠नपन𑀠ष𑀠नपन𑀠𑀢𑀟', '𑀞च𑀪ढ𑁦', '𑀞च𑀪𑀢𑀠', 'ढच𑀪च𑀞च𑀪', '𑀙𑀙च𑀛𑀟', '𑀠च𑀪पचढच', 'बन𑀣न𑀟𑀠न𑀱च', 'त𑀫𑁦ल𑀳𑁦च𑀙𑀙', '𑀳चन𑀣𑀢णणच𑀦', 'चपपच𑀫𑀢𑀪न', '𑀘𑁦बच𑀕', 'ल𑀢𑀳𑀳च𑀲च', '𑀲च𑀳चल𑀢𑀟', '𑀱चललण', '𑀲न𑀟𑀞𑀕', '𑀗ठ', 'त𑀢𑀞च', '𑀱𑀢लल𑀢𑁦', '𑁣ढ𑀢च𑀟𑁣𑀕', '𑀞च𑀪𑀢णच𑀦', '𑁦𑀲तत', '𑀰𑀰', '𑀢𑀟𑀳𑀫𑁣𑀪च𑀪', 'ढलचत𑀞', '𑀲𑀪𑀢𑀣चण𑀕', 'ढनलल𑁣', 'लचण𑀢', '𑀞न𑀣च𑀟त𑀢𑀟', '𑀞चढ𑀢𑀪न', '𑀲च𑀪न𑀱च', '𑀤च𑀲𑀢', 'बच𑀟ण𑁦𑀟', 'पच𑀤च𑀪बच𑀣𑁦', 'ल𑁦𑀱च𑀟𑀣𑁣𑀱𑀳𑀞𑀢𑀦', '𑀞𑁣नल𑀢ढचलण𑀦', 'ल𑀢बप', 'ब𑀬𑀕', 'पच𑀪𑁣𑀟𑀦', 'त𑁣𑀪𑀟𑀱चलल𑀡', '𑀞चणणणच𑀞𑀢𑀟', '𑀳𑁣लन𑀣𑁣', '𑀢𑀞𑀢𑀪च𑀪𑀢𑀟', 'च𑀟च𑀠ढ𑀪च', '𑀳𑀢बच', '𑀞च𑀱न𑀟च𑀟𑀞न𑀡', 'प𑀳च𑀪𑁣𑀟', 'च𑀢𑀞चपच', '𑀣चढच𑀪', '𑀣𑀳𑀳', '𑀫च𑀟𑀟न𑀟ष𑀣च𑀠च𑀟', 'चलच𑀠च𑀪', '𑀟च𑀤𑀢', '𑀲𑁣𑀠𑀡', '𑀤च𑀤𑀤च𑁥𑀢𑀟', '𑀤चढन𑀪च𑀪', '𑀳चढनलन𑀟', '𑀳चन𑀪𑁣', '𑀞च𑀢𑀕', 'त𑀪ण𑀳पचल', 'धचलचत𑁦', '𑀰ष𑀭', '𑀞च𑀪𑁦𑀱च', '𑀠𑁣𑀪𑁣तत𑁣', '𑁥नललच𑀪', 'पचढढचपच𑀪', '𑀳𑀢𑀠𑁣𑀟', 'लचल𑁣𑀟ब', '𑀲𑀢लचप𑁣', 'पच𑀞च𑀪𑀣न𑀟𑀞न𑀕', '𑀲न𑀳𑀞च', 'लचब𑁣𑀳𑀕', '𑀪चब𑁣', 'चलचढच', 'ब𑀱च𑀪𑀢', '𑀠च𑀫चनत𑀢णच', '𑀣न𑀟𑀢णच𑀦', '𑀠𑁦𑁣𑀱पचल𑀞𑀕', '𑀲च𑀳𑀳च𑀪च', '𑀞न𑀞च𑀟', '𑀠चब𑁦', '𑀫न𑀞न𑀠𑁣𑀠𑀢𑀟', '𑀤च𑀪च𑀲𑀢', '𑀟𑀟धध𑀕', '𑀙𑀙णचन𑀣च𑀪𑁦', '𑀳𑀫𑀢𑀙𑀙', 'ढन', 'ध𑁦ल𑁦ष', '𑁣ल𑀢𑀳𑁦𑀫', 'च𑀛धत', '𑀠न𑀳नल𑀠च𑀢', 'ढचढचत𑀫𑀢𑀪', '𑀞चलच𑀟𑀤𑀢𑀪', '𑀳च𑀪𑀳𑀕', 'प𑀳𑁣𑀲𑀲𑀢𑀟', 'बच𑀣𑁣', 'ब𑀢𑀪ब𑀢𑀤च𑀪', 'लच𑀳𑀳च𑀦', '𑀞च𑀪𑀢णच𑀡', 'च𑀛𑀪𑀳𑁦𑀟चल', 'तच𑀳च', '𑀞च𑀪𑀞चपच', 'ध𑁣लच𑀟𑀣', '𑀙चढ𑀢𑀟', '𑀞च𑀣𑀣च𑀪𑁣𑀪𑀢𑀟', 'बचलच𑀣𑀢𑀠च𑀙', '𑀟न𑀞𑀢ल𑀢णच', 'ध𑀢ललच𑀪𑀳', '𑀲𑀢𑀪𑀢𑀠𑀢णच𑀪', '𑀫चललच𑀞च', '𑀘च𑀪𑀢𑀪𑀢𑀟पच', '𑀣चढच𑀪न𑀟', '𑀳चल𑁣', '𑀳चनण𑁦ष𑀳चनण𑁦', 'ग𑀠च𑀘चल𑀢𑀳च𑀪', '𑀣𑁣𑀞𑁣𑀞𑀢', '𑀣𑀢𑀣𑀣𑀢ब𑀢𑀟', 'बचढचपचभ', '𑀪न𑀱च𑀟', '𑀣𑀢च𑀠𑁣𑀟𑀣', 'ध𑀪𑀢𑀟त𑁦𑀳𑀳', '𑀙छच𑀟', '𑀭ठ𑀧', 'तनपन𑀞च𑀙', 'प𑁣𑀤च𑀪पच', 'ढन𑀞चपच𑀡', '𑀘चधच𑀟', 'चललच𑀫ष𑀱च𑀣च𑀢', '𑀠च𑀞च𑀠𑀢', 'ल𑀢𑀟𑀤च𑀠𑀢', 'ख𑀢ख𑁦ल', '𑀱च𑀳च𑀟𑀟𑀢𑀟पच', '𑀣च𑀟𑀢', 'चलख𑁦𑀳', 'लच𑀫च𑀣𑀢', '𑀟चण𑁦𑀲', 'चबन𑁦𑀪𑀣𑀕', 'प𑀛𑁣पप𑁦𑀟𑀫च𑀠', '𑀠च𑀪𑀳𑁦𑀢लल𑁦', 'पच𑀪𑁣𑀟पच', 'बच𑀟𑀣न𑀘𑀢णणच', '𑀠च𑀪पच𑀟𑀢', '𑀠चपचलचनपच𑀟', '𑀳𑀛𑁦𑀟𑁦बचल', '𑀳च𑀣चन𑀞च𑀪', '𑀟च𑀳च𑀪च𑀪पच', '𑀠च𑀪𑀢बचण𑀢', 'धचधच', 'ढ𑁣नढच', '𑀣𑀢𑁣ध', 'ढचपच', 'बन𑀣न', 'ञच𑀟ञच𑀟𑁣𑀟', '𑀢𑀟𑀢ढ𑀢', '𑀠च𑀢𑀠च𑀞𑁣𑀟', 'ढच𑀟𑀤च', '𑀙𑀤चढ𑁦𑀟', '𑀘च𑀠𑀙𑀢णणच𑀪𑀙', '𑀫𑁣प𑀳धन𑀪', '𑀪𑁣𑀠च𑀟', 'चढ𑀪च𑀠𑁣ख𑀢त𑀫', 'ठठ', '𑀪न𑀞न𑀟𑀢𑀟', '𑀫चप𑀳च𑀪𑀢𑀟', '𑀭र𑀦', '𑁦च𑀪ध𑀢𑁦त𑁦', '𑀞न𑀟𑀟𑁦𑀟', 'ढचणच𑀟𑀢', '𑀣च𑀟𑀟चन', '𑀠च𑀫च𑀟बच𑀪', 'च𑀣𑀣𑀢𑀟𑀢', '𑀠चबच𑀟च', '𑀤𑀢𑀠ढचढ𑀱𑁦', '𑀣च𑀱च', 'ब𑁦𑀪𑁣', '𑀞च𑀟प𑀢𑀟', '𑀟𑀰𑀧', 'ढच𑀪च𑀤च𑀟च𑀪', '𑀞च𑀱𑁣𑀱च', 'झच𑀪𑀳𑀫𑁦𑀡', 'बन𑀪बन𑀤न', '𑀫न𑀘𑀘च', '𑀠च𑀟न𑀲𑁣𑀲𑀢𑀟', '𑀲𑀢त𑁦𑀱चपच', '𑀤च𑀟𑁦ष𑀤च𑀟𑁦', '𑀰𑀣', 'पचण𑀢', 'पच𑀟च𑀣𑀢', '𑀞णचलल𑁦𑀟', '𑀞णच𑀲प𑀢𑀟', '𑀠𑀛च𑀟णच𑀟', '𑀞नलच', '𑀣𑁣ल𑁦', 'चलचझच𑀪𑀳न', '𑀱𑁦त𑀫चप', 'बच𑀳𑀕', '𑀘नणच', '𑀲𑀛च𑀪𑀲चञ𑁣𑀱च𑀪', '𑀟च𑀢𑀪च𑀦', '𑀟𑀟धतल𑀦', '𑀪च𑀳𑀫𑀢𑀟𑀳च', '𑀞𑀛𑁣', 'पच𑀤च𑀪च𑀪', 'पचलचपच𑀡', '𑁥चप', '𑀘चधच𑀟𑀕', '𑀙ण𑀢', 'लचणच𑀪', '𑀤च𑀟च𑀙', '𑀪च𑀳𑀫𑀲𑁣𑀪𑀣', '𑀙बच𑀟𑀢णच𑀙', '𑀪𑀢पचणच𑀪', 'तच𑀪खचल𑀫𑁣', '𑀘च𑀱𑁣𑀱च', '𑀠चढ𑀢णच𑀟पच', '𑀞च𑀠च𑀟पच', '𑀞न𑀟ब𑀢णच', '𑀙𑀱𑀛नलचझच𑀟त𑀢𑀟', 'ल𑀢𑀞𑀢पच', 'त𑀢𑀱𑁣𑀟च', '𑀞च𑀪चपन', '𑀪चणन𑀱चपच𑀙', 'बच𑀪ढच𑀕', '𑀟𑀭𑀧𑀧𑀠', 'ढच𑀪च𑀱𑁣', 'लचलन𑀪च𑀪', '𑀲न𑀳𑀞च𑀟पच𑀡', 'च𑀟त𑀫𑁣𑀪', 'ढ𑁣𑀪𑀪𑁣𑀱𑁦𑀪𑀳𑀕', '𑀤चपच', 'चढ𑀢𑀳', '𑀲नलच𑀟𑀢𑀕', 'पच𑀪ढ𑀢णणच', '𑀳च𑀪चन𑀟𑀢णच𑀪', '𑀲𑀢प𑁣𑀟', 'च𑀱𑁣𑀟', '𑀟𑁦प𑀫𑁦𑀪लच𑀟𑀣𑀳', '𑀲चलत𑁣𑀟𑁦प𑀳', 'ढनपन𑀠षढनपन𑀠𑀢', 'ग𑀪चणन𑀱चपच', '𑀳चन𑀪च𑀟', 'च𑀠𑀲च𑀟𑀢भ', '𑀪𑀛𑀢𑀞𑀢त𑀢', 'ध𑁦प𑀪𑁣ल𑁦न𑀠', '𑀢𑀟𑀣न𑀳प𑀪ण', 'ढ𑀢लल𑀕', '𑀪न𑀳च', 'ब𑁣𑀣𑀱𑀢𑀟', 'ब𑀱चबब𑀱𑁣𑀟', '𑀞𑀢ञच', '𑀳चझ𑁣', 'णच𑀫𑁣𑁣', 'च𑀢𑀞𑀢𑀟𑀳च', '𑀳च𑀪𑀞च𑀞𑀢णच', 'पचपपच𑀪𑁦', '𑀣च𑀳𑀫𑁦𑀟', '𑀤नत𑀢णच𑀪', 'चलच𑀣𑁦', '𑀳च𑀞𑁣𑀟𑀟𑀢', '𑀣𑁦ढ𑁦', '𑀞𑁦𑀱च', 'ल𑀢𑀞𑀢पच𑀪', '𑀞चल𑀢𑀣𑁣न', '𑀞𑁣नल𑀢ढचलण𑀕', '𑀙𑀞𑀛च𑀳च𑀪', '𑀜चपच𑀪𑀙', '𑀱चप𑀳च', 'च𑀳𑀢𑀣', '𑀫च𑀪𑀞𑁣𑀞𑀢𑀟पच', 'प𑀳च𑀟ब𑀱च𑀠च', 'चलढच𑀳𑀫𑀢', '𑀞न𑀟त𑀢', '𑀟लत', 'प𑀳च𑀟ब𑀱च𑀠च𑀪', 'त𑀛च𑀪खच𑀘चल', '𑀳𑀢𑀲च𑀟𑀢णच', '𑀫च𑀳च𑀳𑀫𑁦𑀟', 'ढन𑀟झच𑀳च𑀪', 'प𑀱𑀢पप𑁦𑀪𑀕', '𑀫𑁦𑀣𑀢𑀞𑀱चपच𑀪', '𑀣चत𑁦𑀱च𑀪', 'प𑀳𑁣𑀲च𑀲𑀲𑀢𑀟', 'प𑀳च𑀱𑁣', '𑀞णचन', 'वत𑁣𑀪𑁣𑀟चख𑀢𑀪न𑀳', '𑀖ब𑀕', 'वव𑀳𑀫𑀢𑀪𑀠𑁦', '𑀟𑁦𑀙व', 'चनपच𑀟', 'बन𑀪ढचपचतत𑀢णच𑀪', '𑀢𑀳𑀞च', '𑀞च𑀟𑀞च𑀟त𑁦𑀱च𑀪', 'चलभचन𑀪च𑀪', '𑀠च𑀟न𑀲च', 'पच𑀠ढचणच', 'च𑀳𑀫𑀢𑀪न', 'ढन𑀫च𑀪𑀢𑀙', '𑀫च𑀞न𑀪च', '𑀠चलच', '𑀪𑀢झ𑁣', '𑀘च𑀘𑁦𑀪𑁦', 'ब𑁣ढच𑀪च', '𑀫च𑀪च𑀠पचतत𑀢णच𑀪', '𑀠चपचपच𑀪', '𑀲न𑀳चपच', 'ञचल𑀢ढच𑀟पच', '𑀞चप𑀢𑀟', 'बचणणचपच𑀪', '𑁦च𑀪प𑀫', 'त𑁣धठ𑀬', '𑀞च𑀟प𑀢', '𑁦𑀞𑀱𑁦𑀪च𑀠च𑀣न𑀕', '𑀲च𑀪चनपच𑀪', '𑀢ध𑁣ढ', 'ध𑀢𑀟𑁣𑀦', 'ध𑁦लल𑁦ब𑀪𑀢𑀟𑀢𑀦', 'च𑀞𑁦𑀦', '𑀘नपबलच𑀦', '𑀤च𑀞च𑀪𑀢च', 'त𑁣𑀟प𑁦', 'झ𑀱चलल𑁣', 'ब𑀢𑀣चषब𑀢𑀣च', '𑀘𑀢𑀞𑀢𑀕', 'त𑁣ख𑀢𑀣', '𑀭थ', '𑀪चब𑁣𑀟त𑀢𑀡', '𑀠च𑀳चललचत𑀢𑀟', '𑀞च𑀙चढच', '𑀠च𑀞𑀞च𑀫𑀕', 'ब𑀢𑀟𑀢', '𑀣𑀢𑁦𑀤च𑀟𑀢', 'ब𑀱च𑀟𑀘𑁣𑀟𑀳न', '𑀠च𑀤च𑁥च', 'खचललच𑀣𑁣ल𑀢𑀣', 'च𑀟च𑀠ढ𑀪च𑀕', '𑀞च𑀳𑁣', '𑀖', '𑀢𑀢', 'ध𑀪ध', '𑀠च𑀪𑁣𑀞𑁣𑀦', '𑀳च𑀟च𑀙𑁣𑀙𑀢', '𑀞नलल𑁦𑀟', '𑀳𑀫च𑀲च', 'ध𑀢ढ', '𑀱च𑀫चलच𑀡', 'ब𑀱च𑀣च', '𑀞𑁣𑀣च𑀪', '𑀞𑀢𑀳𑀫𑀢𑀟', '𑀳चढच𑀟𑀢𑀟', '𑀠चबन𑀣𑀢', '𑁦𑀟ण𑀢𑀠ढच', 'ठष𑀭', '𑀪च𑀟ब𑁦𑀪𑀳𑀕', 'चढच', '𑀪च𑀟ब𑁦𑀪𑀳', '𑀫च𑀠चणणच', '𑀣𑀢𑀠𑁣𑀞न𑀪च𑀣𑀢णणच', 'चढचढ𑁦𑀟', '𑀠𑁣𑀪𑁦', '𑀳𑁣𑀡', 'ध𑀣ध𑀡', 'तच𑀟च𑀣च', '𑀞चप𑀳𑁦', '𑀳𑀫𑀢𑀪ण𑁦', 'झचलनढचलच𑀟त𑀢', 'प𑁦𑀣𑀪𑁣𑀳', 'च𑀣𑀫च𑀟𑁣𑀠', 'ब𑀫𑁦ढ𑀪𑁦ण𑁦𑀳न𑀳𑀕', '𑀘चब𑁣𑀪च𑀟पच𑀪', '𑀠𑀢𑀟𑀢𑀳प𑁣त𑀢𑀟च', '𑀣च𑀪𑁦', 'णख𑁦𑀳', 'ढ𑀢𑀳𑀳𑁣न𑀠च𑀕', '𑀠चल𑀢', '𑀪न𑀠च𑀡', '𑀠चलच𑀠𑀢𑀟', '𑀫𑀛चन𑀫च𑀱च𑀪', '𑀠चप𑀳च𑀟च𑀟त𑀢𑀟', 'लच𑀳𑀳च', 'र𑀭', 'झ𑀢𑀪झ𑀢𑀪𑁣', '𑀳𑀫न𑀞च', 'ढनझचपच𑀪', '𑀳𑀫चणच𑀪', '𑀟𑁣𑀟𑁣𑀟', 'ढन𑀞चपन𑀟', 'त𑁣𑀪𑁣𑀟चख𑀢𑀪न𑀳𑀙', '𑀰ष𑀰', 'ढ𑁦𑀟𑀲𑀢तच𑀕', 'बचलप𑀢𑁦𑀪', '𑀞𑁣त𑀢णच𑀟पच', '𑀭𑀬', 'लच𑀢𑀲𑀢𑀟', '𑀤𑁣लचणच', 'प𑀳𑁣𑀪चपच', 'ध𑁣ल𑀢𑁣', '𑀞च𑀪𑀳𑀫𑁦𑀟पच', 'ढनपनपच𑀟', '𑀳𑀫𑀢𑀠𑀲𑀢𑀣च𑀱च', 'च𑀘च𑁣𑀞नपच', '𑀞न𑀞𑁦', '𑀙च', 'तनपच𑀪𑀙', '𑀣च𑀞𑀢ल𑁦', 'बच𑀠न', 'ल𑀢𑀞𑀢पच𑀟त𑁦', '𑁦ल𑀢𑀤चढ𑁦प𑀫', '𑀠नझच𑀠𑀢𑀟पच', 'ब𑀱च𑀠𑀟चप𑀢𑀟𑀳न', 'णच𑀣न𑀱च', '𑀠न𑀠𑀠न𑀟च𑀪', '𑀞𑀢𑀟च', 'पच𑀠𑁣𑀱च', '𑀳𑀫च𑀪𑀢𑀙च', '𑀠चलच𑀠𑀢', '𑀟𑁦𑀡', 'ब𑀫च𑀟च𑀕', 'पचललचपच', 'झचढ𑀢लच𑀟त𑀢', 'पचपपचन𑀟𑀱च', '𑀲च𑀪𑁣न𑀞', '𑀞𑁣𑀲𑀢𑀟पच', 'ढ𑁣𑀞𑁣', '𑀫च𑀪च𑀠', '𑀱चललच𑀲च', 'प𑀳च𑀞𑀢णच𑀪', '𑀣च𑀘𑀢𑀡', 'ञचन𑀪𑁦', '𑀞चप𑀢', '𑀳𑁦𑀪𑀢𑁦', 'ध𑀣ध𑀦', '𑀳𑀣ध', '𑀞𑁣ब𑀢', '𑀳च𑀞च𑀠च𑀞𑁣', '𑀣न𑀟𑀢ण𑁣ण𑀢', 'झनबन𑀟', 'पच𑀟बच𑀪𑀣च', '𑀫न𑀫न', 'झच𑀪𑁦', '𑀪𑁣𑀟चल𑀣𑁣𑀡', '𑁦𑀠𑁦𑀲𑀢𑁦ल𑁦', 'ल𑀢𑀳𑀳च𑀲𑀢', '𑀞चल𑀞नल𑁦पच', '𑀞च𑀤च𑀠𑀢𑀟', 'बच𑀪𑀞न𑀱च𑀟', 'त𑀢𑀟𑀣𑁣', 'ढन𑀟𑀤च', 'ठ𑀧ठ𑀰टठर', 'लच𑀪चढच𑀱च', '𑁣ल𑀣', 'प𑀪च𑀲𑀲𑁣𑀪𑀣𑀦', '𑀳च𑀙च', 'ध𑁣ल𑀢𑁣𑀕', '𑀪चढन𑀱च', 'पचपपचन𑀟च𑀱च', '𑀳धन𑀪𑀳', 'न𑀣𑁣ब𑀢𑁦', '𑀘च𑀱चढ𑀢𑀟', '𑀱चनपच𑀪', 'प𑀳𑀢𑀪च𑀪न', '𑀫चलच𑀞च𑀪', 'झच𑀟च𑀟च𑀟', '𑀱च𑀪𑀢𑀟', 'ब𑀢𑀣च𑀘𑁦𑀟𑀳न', 'णच𑀟𑀞न𑀟च', '𑀣𑁦𑀠𑁦𑀟प𑀢च𑀕', '𑀠च𑀟पन𑀱च', '𑀣न𑀟𑀢णचभ', 'पच𑀪चणणच', 'झच𑀪च𑀠𑀢𑀟', 'झच𑀪𑀲𑀢', '𑀞𑀢ललचत𑁦𑀱च', 'प𑀳च𑀟𑀢', '𑀪𑀢बचष𑀞च𑀲𑀢', '𑀣च𑀟च', '𑀢𑀟𑀟च𑀙', '𑀙𑀫च𑀪𑀢', '𑀘𑀢𑀟𑀢𑀕', '𑀞च𑀪न𑀱च', '𑀟च𑀘𑁦𑀪𑀢णच𑀯', 'च𑀠𑀠च', 'ढच𑀟बच𑀪𑁦𑀟', '𑀧ष𑀧', 'त𑀢पण𑀕', 'प𑀢ध𑀳𑀕', '𑀞च𑀟𑀞न', '𑀠च𑀟𑁦𑀦', '𑁦𑀞𑀢प𑀢𑀞𑁦𑀦', '𑀞𑁦𑀢पच𑀦', 'धचल𑀫𑀢𑀟𑀫च', '𑁦𑀛ल𑁣𑀟', '𑀪च𑀠चलच𑀟', 'ण𑁦𑀪𑁣𑀕', '𑀟च𑀳𑀢𑀪', '𑀱चल𑀱चलच𑀪', 'च𑀢𑀪', '𑀠च𑀪𑀳𑀫चल', '𑀳च𑀣𑀢𑀜', 'ब𑁣𑀪𑁣𑀟', '𑀠च𑀙च𑀢𑀞चत𑀢𑀟', 'चल𑀫𑁦𑀪𑀢𑀦', '𑀪चढन', 'ध𑀢𑀜न𑁦', '𑀠च𑀞न𑀳च𑀟पच𑀟', 'ढ𑀢𑀟𑀳च', 'च𑀳चल𑀢𑀟', '𑀠𑀛𑁦', '𑀫चन𑀫च𑀱च𑀡', '𑀣𑀪', '𑀪च𑀠चपन', '𑀫च𑀳𑀳च𑀟', 'बच𑀪च𑀟ब', '𑀞न𑁣ल', 'चन𑀳प𑀪चल𑀢च', 'चल𑀞चलन𑀠च', 'च𑀣च𑀱च𑀪', 'चन𑀣न𑀟', 'पन𑀟बच', '𑀠च𑀪चढच', '𑀠च𑀪ढन𑀪ब', '𑀤चबचण𑁦𑀟', 'ल𑀢प𑀢𑀟𑀢𑀟', '𑀱चल𑀳𑀫', '𑀤𑁣𑁣', '𑀱च𑀪𑁦', 'पन𑀪𑀞चषपन𑀪𑀞च', '𑀙प𑀳𑁣𑀲च𑀲𑀲𑀢𑀟', '𑀞𑁣𑀪च𑀲𑁦ष𑀞𑁣𑀪च𑀲𑁦𑀟', 'च𑀣𑁣', 'बन𑀪चबन', '𑀙𑀣च', '𑀟च𑀞𑁦', 'त𑀢णच𑀪', '𑀪चणन𑀱च𑀙', '𑀙𑀠च𑀤च𑀟', '𑀫च𑀢𑀫न𑀱च𑀙', '𑀫𑁦तप𑁣𑀪', 'ढ𑁦लल𑁦𑀪𑀢𑀟', '𑀞𑀢𑀪𑀞𑀢𑀪𑁣', '𑀲𑀢𑀟चष𑀲𑀢𑀟च', 'त𑀫च𑀠ढ𑁦𑀪लच𑀢𑀟', 'ल𑀢ख𑁦𑀪ध𑁣𑁣ल𑀦', 'च𑀪𑁣𑀟', 'ध𑀢ल𑀢𑀳𑀢त', '𑀫च𑀪𑁦ष𑀫च𑀪𑁦', '𑀙प𑀳च𑀞च', '𑀱नणच𑀙', '𑀤चबचणच', '𑀠नलप𑀢त𑀫𑁣𑀢त𑁦𑀕', '𑀣𑀳पख', 'ब𑁣पख', 'झ𑀢𑀟', '𑀞चण𑁦', '𑁦𑀠च𑀢ल', '𑀞𑁣त𑀢', '𑀱𑀛𑁣लख𑁦𑀪𑀫च𑀠धप𑁣𑀟', '𑀣𑀢𑁦ब𑁣', '𑁦लष𑀤च𑀞𑀤च𑀞ण', '𑀞न𑀟णचपच', '𑀢𑀣𑁣𑀟', '𑀣𑀛𑁦𑀟𑀠च𑀪𑀞', 'पन𑀟𑀢𑀳𑀢च', '𑀞न𑀪𑀠च𑀟', '𑀣न𑀪𑁣', '𑀩𑀢', '𑀘𑀢𑀟ध𑀢𑀟ब', '𑀲चललच𑀳च', '𑀪𑀢ढच𑀪', '𑀫चलच𑀪पच', 'णच𑀪न𑀞च', 'ठर', '𑀲च𑀳𑀳च𑀪च𑀪𑀳च', '𑀣नढढच𑀟', '𑀞𑀢𑀲चण𑁦', 'पच𑀲𑀞𑀢', '𑀪चबन𑀱च', '𑀫च𑀪ढ𑀢𑀟', '𑀤न𑀠च', '𑀫चल𑀢पपच𑀪', '𑀠च𑀠च𑀙', '𑀗𑀯ठ', '𑀤न𑀱च𑀟च', 'षतच𑀳𑁦𑀠𑀢𑀪𑁣', 'ढच𑀠', 'च𑀠च𑀢', 'बन𑀣च𑀱च', 'ठ𑀬ट𑀧𑀰टठ𑀧ठ𑀭', '𑀠च𑀟𑀟𑁦', '𑀳𑀫च𑀲न𑀞च', '𑀭𑀗𑀧', '𑀞च𑀪𑁦𑀟𑀳न', 'ढचढढच𑀞च', '𑀣𑀢𑀠𑁣𑀞न𑀪चञ𑀢णणच', '𑀟न𑀟𑁦𑀤𑀦', 'ल𑁦𑀟𑁣', '𑀘न𑀠च𑀙च', 'च𑀲𑀢𑀪𑀢लन', 'लचन𑀪𑁦पपच', '𑁣𑀟𑁣त𑀫𑀢𑁦𑀕', '𑀞𑀱च𑀠𑀢𑀳𑀫𑀢𑀟च𑀪', 'त𑁣धठ𑁢𑀕', '𑀞च𑀪च𑀢𑀪चण𑀢𑀟', 'णच𑀣च𑀱च', 'ढ𑀢𑀳𑀫𑀢णच', '𑀫च𑀣𑀣च𑀳च𑀱च', 'ल𑁦बच𑀳', 'प𑀳चललच𑀞च', 'ब𑀢𑀱चण𑁦', '𑀱च𑀞𑀢ल𑀢𑀟', '𑀤चढच', '𑀪न𑀠𑀲च𑀪', '𑀫चल𑀢पपच', 'ढनब𑁦', '𑀣𑀢चढ𑁦प𑁦𑀳𑀕', 'त𑀢𑀱𑁣𑀟𑀦', 'चलच𑀠𑁣𑀠𑀢𑀟𑀳च', '𑀳न𑀞𑁦𑀡', 'तचखच𑀟𑀢𑀦', 'त𑀫𑀢𑁦लल𑀢𑀟𑀢𑀦', '𑀫नत𑀢णच𑀪', '𑀤च𑀤𑀤च𑁥𑀢𑀡', '𑀳चन𑀞च', '𑀪न𑀳𑀳𑀢च', 'च𑀪𑀤𑀢𑀞𑀢𑀟पच𑀡', '𑀳𑀫नञ𑀢𑀟', '𑀫च𑀪ढ𑁣', '𑀠न𑀫नण𑀢', '𑀠चबच𑀘𑀢𑀕', '𑀣च𑀞चपच𑀪𑀡', '𑁣लण𑀠ध𑀢त', '𑀳पच𑀣𑀢न𑀠', 'ठ𑀧ठ𑀰षठर', '𑀪चध𑀫𑀢𑀟𑀫च𑀦च', '𑀳ध𑁦𑀟त𑁦𑀦', '𑁣ध𑁦त𑀕', '𑀟च𑀳च𑀪𑁣𑀪𑀢𑀟पच', 'र𑀰', 'प𑀳च𑀞च𑀟𑀢𑀟𑀳न', 'ढचल𑁦𑀦', 'पच𑀪𑀞𑁣𑀱𑀳𑀞𑀢𑀦', 'ख𑀢प𑀢𑀟𑀫च𑀦', '𑀘च𑀠𑀢भच𑀟', 'ग𑀞च𑀠चभ', '𑀫च𑀞न𑀪𑀢', '𑀳𑁣𑀘𑁣𑀘𑀢𑀟', '𑀟च𑀫𑀢णच𑀪', '𑀫च𑀞च', 'ढच𑀞च𑀪पच', 'च𑀠न𑀪𑀞च𑀡', '𑀢तधत', '𑀳न𑀪न𑀞𑀢𑀟', 'झ𑀱चप𑁣', 'घ𑀭𑀖𑀰', 'ञचणच𑀡', '𑀞𑀱च𑀠𑀲नपच', '𑀞𑀱च𑀪च𑀪𑀪न𑀟', '𑀘च𑀪𑀢𑀣च𑀪', 'प𑀫𑀢𑀳𑀣चण', 'ढच𑀣च𑀪न', '𑀫च𑀪न𑀟च', '𑀟𑀢𑀟ब𑀢𑀕', '𑀟च𑀣च𑀠च𑀪', '𑀱च𑀞च', 'झचन𑀪चत𑁦𑀱च', '𑀞च𑀠𑀲च𑀟𑀢𑀟𑀡', 'णच𑀟𑀞𑀢', '𑀠𑁦𑀟𑀣ण', '𑀳𑁣𑀳𑁣', 'पन𑀫न𑀠च𑀪', 'चढ𑀢𑀟त𑀢𑀕', 'ञच𑀟ञच𑀟च', '𑀠च𑀞𑁣', '𑀱चपचझ𑀢लच', '𑀱च𑀪𑀞𑁦𑀱च', '𑀫𑀢ख𑀡', '𑀞𑁣𑀠𑁣', '𑀣न𑀟𑀢णच𑀪𑀠न', '𑀪𑀢बच', '𑁥च𑀪𑀟च𑀪', 'बच𑀟𑀢णच𑀪𑀳च', '𑀣च𑀠ढच𑀪𑀱च𑀪', 'ढच𑀪च𑀦', 'चबच𑀘𑀢𑀟', '𑀱च𑀫चलच', 'च𑀣त', '𑀘चलल𑁣', '𑀠चप𑀳चणच𑀪', 'चन𑀪𑁦ल𑀢𑁦𑀟', 'पत𑀫𑁣नच𑀠𑁦𑀟𑀢', '𑀞𑀪𑁣𑁣𑀳', '𑀭ष𑀭', 'ब𑀢𑀪𑁣𑀟च', '𑀱च𑀳𑀢णणच', 'पन𑀟𑀣न𑀪𑀠𑀢', '𑀞चपनपन', 'लचलचपचपपन𑀟', '𑀳𑀫𑀢𑀪𑀢𑀟पच', 'ठ𑀧ठठटठ𑀰', '𑀞𑁣𑀠च𑀡', '𑀳प𑁦ध𑀫च𑀟𑀢𑁦', '𑀲𑀪चधधच𑀪प', '𑀫न𑀪च', 'त𑁦लप𑀢त', '𑀲च𑀲नपन𑀞च𑀪', '𑀫च𑀞𑀞𑀢𑀟', '𑀳𑁣𑀠चल𑀢णच', '𑀪च𑀙चण𑀢𑀟पच', '𑀙ढचढचत𑀫𑀢𑀪', '𑀳न𑀞च𑀪', 'प𑀢𑀟नढन𑀙', 'न𑀟𑀕', 'झच𑀪न𑀱च', '𑀳चन𑀪𑀢', '𑀰ठ', '𑀘न𑀠नललच', '𑁣𑀲𑀢𑀳𑁣𑀳𑀫𑀢𑀟𑀳न', '𑀤च𑀪ब𑁦', '𑀞𑁣𑀱च𑀟𑀟𑁦', '𑀞णच𑀱न', '𑀣चञ𑀢', '𑀞𑀱चण𑁣ण𑀢', '𑀫च𑀢𑀫न𑀱च𑀡', '𑀳𑁣नप𑀫बचप𑁦', '𑀠च𑀞चढच𑀪पन𑀟', '𑀫चझझ𑀢𑀟𑀠न', 'र𑀖', '𑀠च𑀪प𑀢𑀟𑁦𑀤𑀦', '𑁦ष𑀟च𑀢𑀪च𑀕', '𑀳प𑁣𑀪𑁦', 'चधध', 'न𑀱च𑀟𑀳च', '𑀠च𑀤चन𑀟च', '𑀘च𑀟ण𑁦𑀱च𑀪', '𑀳𑀫𑁣ध𑀪𑀢प𑁦', '𑀠च𑀣𑀢ब𑁣', '𑀪चणन𑀱च𑀡', '𑀠च𑀞𑁣𑀠च𑀪𑀳च', 'पच𑀞चल𑀠𑀢𑀟', '𑀤𑀢𑀟च𑀪𑁦', '𑀫𑁦न𑀟बष𑀠𑀢𑀟', '𑀲𑀢𑀪च𑀢', '𑀞𑀱चलल𑁣षढ𑁦𑀟𑀤𑁦𑀠च', '𑀫चढच𑀞च', '𑀱𑀢लढन𑀪', '𑀪𑁣𑀳𑀳', '𑀣चल𑀢ल𑀢', '𑀠𑁣𑀪𑀢णच𑀪', '𑀠च𑀟पन𑀕', '𑀣चपप𑀢𑀘च𑀟', 'च𑀣च𑀟च', 'बन𑀠च𑀞च𑀟', '𑀢𑀟प𑁦𑀟𑁦प', '𑀣𑀛च𑀟', '𑁣𑀲𑀢𑀳𑁣𑀳𑀫𑀢𑀟𑀠न', 'प𑀢𑀠', 'त𑁣𑁣𑀞', 'थथ', 'चलच𑀠न', 'पचलच𑀞च𑀱च', '𑀢𑀟𑁦त𑀕', '𑁣𑀲𑀢𑀳𑁣𑀳𑀫𑀢𑀟', '𑀞𑁣𑀟𑁦', '𑀙च𑀘चल𑀢𑀟', '𑀳नल𑁦𑀢𑀠च𑀟', 'चत𑀫𑀢𑀠नबन𑀙', 'च𑀳𑀫𑁦', 'लच𑀪न𑀪च', 'त𑁦𑀡', 'ढ𑁦𑀪ब𑀱𑀢𑀘𑀟𑀦', '𑀞𑁦𑀟𑀟ण𑀦', '𑀳ल𑁣𑀟𑀢𑀟च𑀦', 'तनपन𑀞च𑀟', '𑀫चञच𑀪𑀢', '𑀳च𑀞चत𑀢', 'च𑀫𑀠च𑀣𑀕', '𑀠𑀢त𑀪𑁣𑀳𑁣𑀲प', '𑁥नलल𑁣', '𑁥चत𑁦𑀱च𑀪', '𑀲चत𑁦चधध𑀡', 'प𑀛चलचनत𑀢', 'चढ𑀣नल𑀳चलच𑀠𑀢', '𑀤च𑀤𑀤चढ𑀢𑀟', '𑀞च𑀠च𑀪न', '𑀪𑀢𑀘𑀢𑀳पच', 'त𑀛𑀪𑁣चप𑀢च', '𑀜चपच𑀪𑀡', 'बच𑀳𑀫𑀢𑀟च', 'चढ𑀢𑀟त𑀢𑀙', '𑀙च𑀞𑀱च𑀢', '𑀲न𑀪𑀳न𑀟𑁣𑀟𑀢', '𑀙𑀠नपच𑀟𑁦𑀟', '𑀟च𑀪𑀞च', '𑀞𑀢ढच', '𑀞च𑀱न𑀟च𑀟', '𑀪चढन𑀦', 'ढनलन𑀳', '𑀞च𑀟𑁦', '𑀞चलनढचल𑁦', '𑀙ढ𑀢ल𑀢त𑀢𑀟', 'णच𑀪𑀢𑀙', '𑀙𑀞चलच𑀠च𑀢𑀟च', 'प𑀳𑀢णचषप𑀳𑀢णच𑀙', '𑀪𑀢𑀞𑀢त𑀢', '𑀳च𑀟𑀞च𑀪च', 'न𑁦𑀲च', '𑀳नध𑁦𑀪', '𑀠च', 'प𑀢पन𑀟च𑀟', '𑀣चन𑀪च', '𑀠च𑀳च𑀪𑀢', '𑀙𑀙ण𑀛च', '𑀞𑁦पच𑀙𑀙', '𑀞𑁣त𑀢णच𑀟', '𑀤च𑀞𑀢', '𑀣च𑀘𑀢𑀙', '𑀱𑁦𑀠ढल𑁦ण', 'लचढच𑀪𑀢𑀟', '𑀠चपनझ𑀢𑀟', 'प𑁦लच', '𑀤च𑀱च𑀪च𑀱च𑀟', 'ढचणच𑀦', 'त𑁦𑀲च𑀟𑁦', '𑀫𑀛चचलच𑀟𑀣', '𑀟𑁣𑀪𑀱चण', 'त𑀢बचढच', '𑀳𑁣𑀱𑁣𑀪𑁦', '𑀣न𑀟𑀢ण𑁣ण𑀢𑀟', '𑀠𑀢𑀟𑀢𑀳प𑁣त𑀢𑀟𑀳च', '𑁥च𑀪𑁣ष𑁥च𑀪𑁣𑀟', '𑀠चत𑀪𑁣𑀟', 'चलच𑀞च𑀪', '𑀤च𑀠च𑀟च𑀟पच𑀪', '𑀠च𑀞च𑀪णचपच', '𑀙𑀣न𑀞', '𑀪𑀢𑀟प𑀳𑀢', '𑀞च𑀪', '𑀢ढच𑀣च𑀙', '𑀳𑀢𑀲𑀲𑁣𑀲𑀢𑀟', '𑀞न𑀪𑀢𑀙च𑀪𑀠न', 'त𑁦𑀙', '𑁣𑀫च𑀟𑁦𑀤𑁦', '𑀢𑀟बच𑀟पचतत𑁦𑀟', 'णच𑀟𑀤न𑀡', '𑀘च𑀟च𑀢𑀪न', '𑀞चतचल', 'चलढच𑀳𑀫𑀢𑀟च', '𑀙चढ𑀢𑀟त𑀢', 'ढचतत𑀢', 'लच𑀠𑀢𑀣𑁣𑀕', '𑀳𑁣णचणणचपच', 'च𑀣𑀣न𑀙च', 'प𑀢𑀟𑀞𑁦', '𑀳𑁦𑀪ब𑀢𑁣', 'ब𑁣𑀠𑁦𑀤', 'च𑀟𑀣𑁦𑀪ल𑁦त𑀫प', 'त𑁣धठ𑀬𑀕', '𑀞𑀱चल', '𑀘𑁦𑀪न𑀱च𑀪', '𑀞𑁣णच𑀪𑀱च', '𑀫च𑀪𑀳न𑀟च𑀟', '𑀲𑀢𑀪च𑀠च𑀪𑁦', '𑀢𑀪च𑀟षन𑀳𑀕', '𑀟न𑀞𑀢ल𑀢णच𑀙', '𑀫च𑀠𑀳𑀫च𑀞𑀢𑀟', 'चपपच𑀘𑀢𑀪𑀢', '𑀪च𑀞च', '𑀱𑁣ल𑁦', '𑀳𑁣ण𑀢𑀟𑀞च', '𑀠न𑀳चणच𑀪', 'णच𑀱न', '𑀞चपन𑀱च𑀪', '𑀫न𑀣च', '𑀘𑁦𑀠चबन𑀟', '𑀳𑀫च𑀪च𑀣च', '𑀲𑁣𑀲च𑀟च𑀦', 'ल𑀢𑀟बच𑀪𑀣𑀦', '𑀘𑁦𑀳न𑀳', '𑀠च𑀫चलच𑀪पच', 'पच𑀪𑁣', '𑀞𑁦𑀞𑁦', '𑀙𑀪नञच𑀟𑀢𑀙', '𑀘चब𑁣𑀪च𑀟त𑀢', '𑀳𑀢𑀞𑀢लच𑀕', 'चढ𑁣𑀞𑀢𑀟', 'ठ𑀧ठ𑀧𑀕', 'बन𑀣न𑀟', '𑀙𑀙पच𑁥𑀢𑀟', '𑀫च𑀟𑀞चल𑀢𑀙𑀙', 'प𑀢𑀪𑀞चषप𑀢𑀪𑀞च𑀪', 'च𑀣𑀣𑀢𑀟च𑀟', '𑀠नपन𑀠ष𑀠नपन𑀠𑀢', '𑀱च𑀙च𑀤𑀢', 'ल𑀛𑁣𑀞नपच', '𑀠𑁣𑀣न', '𑀳𑀫𑁦𑀪𑀢𑀲𑀲', '𑀙𑀳चढ𑁣𑀣च', 'बच𑀘𑁦']\n"
          ]
        }
      ]
    },
    {
      "cell_type": "code",
      "source": [
        "# load the pre-trained tokenizer and use it to process the data\n",
        "\n",
        "from transformers import AutoTokenizer\n",
        "from transformers import DataCollatorWithPadding\n",
        "\n",
        "tokenizer = AutoTokenizer.from_pretrained(\"google-bert/bert-base-multilingual-uncased\")\n",
        "tokenizer.add_tokens(unique_list)\n",
        "\n",
        "def preprocess_function(examples):\n",
        "    return tokenizer(examples[\"text\"], truncation=True)\n",
        "\n",
        "tokenized_data = classification_dataset.map(preprocess_function, batched=True)\n",
        "\n",
        "data_collator = DataCollatorWithPadding(tokenizer=tokenizer)"
      ],
      "metadata": {
        "id": "tSOWNJRKNoWM",
        "outputId": "8fe09eb0-6d6a-4b49-a6d5-9f2d9a9ac540",
        "colab": {
          "base_uri": "https://localhost:8080/",
          "height": 81,
          "referenced_widgets": [
            "89b4cb4398f144378991abea2da775ff",
            "87e19db05dce48b9be8aa66605cae5c3",
            "b80b847487104fcc84e71831407f402a",
            "7e1db200a07d43beb81c8c5d4dc3a688",
            "d204083ebb2c4bb58126a8e9e442b3e8",
            "20c69ba8d45e44cbadb2f42159829c5b",
            "b8498a8dabb149569fc6e5a7bd0c602d",
            "bf989de6a9aa4c83af406a6beb2680bf",
            "de1d2a7cca054ef68a18f68d9b51eeb9",
            "098492a813a04fe3b57daa0a9f2124d6",
            "8d19abec4290483e8f357f3562c100cd",
            "5dab8884544a4c0b8ea87518bb425703",
            "630f79a6b3f44bc981284210c9ff4755",
            "8762326ab383476ebea1b6d7bbc1ae3d",
            "538b83ba7fac490eb5e186d70ac91791",
            "dd5cb32ac06b4596a5fd51df49ad0809",
            "74a331112c0540718a9acf65ecbd1540",
            "ba07e3c674334b30a267c91747967843",
            "dd780ae92d394f09bbb44e1a093262f4",
            "133e1043ca904e7eb948e0af2d473fcd",
            "9e9b95469b06475db862ee6235185ae8",
            "d8b1b420306f47ebbda3373baa08f60e"
          ]
        }
      },
      "execution_count": null,
      "outputs": [
        {
          "output_type": "display_data",
          "data": {
            "text/plain": [
              "Map:   0%|          | 0/1524 [00:00<?, ? examples/s]"
            ],
            "application/vnd.jupyter.widget-view+json": {
              "version_major": 2,
              "version_minor": 0,
              "model_id": "89b4cb4398f144378991abea2da775ff"
            }
          },
          "metadata": {}
        },
        {
          "output_type": "display_data",
          "data": {
            "text/plain": [
              "Map:   0%|          | 0/218 [00:00<?, ? examples/s]"
            ],
            "application/vnd.jupyter.widget-view+json": {
              "version_major": 2,
              "version_minor": 0,
              "model_id": "5dab8884544a4c0b8ea87518bb425703"
            }
          },
          "metadata": {}
        }
      ]
    },
    {
      "cell_type": "code",
      "source": [
        "# define the evaluation metric\n",
        "\n",
        "import evaluate\n",
        "import numpy as np\n",
        "\n",
        "f1 = evaluate.load(\"f1\")\n",
        "def compute_metrics(eval_pred):\n",
        "    predictions, labels = eval_pred\n",
        "    predictions = np.argmax(predictions, axis=1)\n",
        "    return f1.compute(predictions=predictions, references=labels, average='macro')"
      ],
      "metadata": {
        "id": "nN64VrhSNuYA"
      },
      "execution_count": null,
      "outputs": []
    },
    {
      "cell_type": "code",
      "source": [
        "# define the evaluation metric\n",
        "\n",
        "import evaluate\n",
        "import numpy as np\n",
        "\n",
        "f1 = evaluate.load(\"f1\")\n",
        "# def compute_metrics(eval_pred):\n",
        "#     predictions, labels = eval_pred\n",
        "#     predictions = np.argmax(predictions, axis=1)\n",
        "#     return f1.compute(predictions=predictions, references=labels, average='macro')\n",
        "\n",
        "accuracy = evaluate.load('accuracy', trust_remote_code=True)\n",
        "\n",
        "def compute_metrics(eval_pred):\n",
        "    predictions, labels = eval_pred\n",
        "    predictions = np.argmax(predictions, axis=1)\n",
        "    accuracy_score = accuracy.compute(predictions=predictions, references=labels)\n",
        "    f1_score = f1.compute(predictions=predictions, references=labels, average='macro')\n",
        "    return {\"accuracy\": accuracy_score['accuracy'], \"f1\": f1_score['f1']}"
      ],
      "metadata": {
        "id": "eMyZhTOsW8eV"
      },
      "execution_count": null,
      "outputs": []
    },
    {
      "cell_type": "code",
      "source": [
        "# define the model and the training configuration\n",
        "\n",
        "from transformers import AutoModelForSequenceClassification, TrainingArguments, Trainer\n",
        "\n",
        "model = AutoModelForSequenceClassification.from_pretrained(\n",
        "    \"google-bert/bert-base-multilingual-uncased\", num_labels=5\n",
        ")\n",
        "model.resize_token_embeddings(len(tokenizer))\n",
        "\n",
        "training_args = TrainingArguments(\n",
        "    output_dir=\"basiline_bobai\",\n",
        "    learning_rate=1e-5,\n",
        "    per_device_train_batch_size=64,\n",
        "    per_device_eval_batch_size=64,\n",
        "    num_train_epochs=20,\n",
        "    weight_decay=0.01,\n",
        "    eval_strategy=\"epoch\",\n",
        "    save_strategy=\"epoch\",\n",
        "    save_total_limit=5,\n",
        "    metric_for_best_model='f1',\n",
        "    load_best_model_at_end=True,\n",
        "    push_to_hub=True,\n",
        "    hub_strategy=\"checkpoint\",\n",
        "    hub_token=write_access_token,\n",
        "    hub_private_repo=True,\n",
        "    hub_model_id='baseline_bobai'\n",
        "\n",
        ")\n",
        "\n",
        "trainer = Trainer(\n",
        "    model=model,\n",
        "    args=training_args,\n",
        "    train_dataset=tokenized_data[\"train\"],\n",
        "    eval_dataset=tokenized_data[\"dev\"],\n",
        "    tokenizer=tokenizer,\n",
        "    data_collator=data_collator,\n",
        "    compute_metrics=compute_metrics,\n",
        ")"
      ],
      "metadata": {
        "id": "hCojWe8hOgRv",
        "outputId": "7a5314cc-09cb-43f6-e489-45f15ce67b53",
        "colab": {
          "base_uri": "https://localhost:8080/"
        }
      },
      "execution_count": null,
      "outputs": [
        {
          "output_type": "stream",
          "name": "stderr",
          "text": [
            "Some weights of BertForSequenceClassification were not initialized from the model checkpoint at google-bert/bert-base-multilingual-uncased and are newly initialized: ['classifier.bias', 'classifier.weight']\n",
            "You should probably TRAIN this model on a down-stream task to be able to use it for predictions and inference.\n"
          ]
        }
      ]
    },
    {
      "cell_type": "code",
      "source": [
        "# execute the model training\n",
        "trainer.train()"
      ],
      "metadata": {
        "id": "VTJ-w6BnosYy",
        "outputId": "4cc25683-6a2d-4592-c971-e84447357b68",
        "colab": {
          "base_uri": "https://localhost:8080/",
          "height": 737
        }
      },
      "execution_count": null,
      "outputs": [
        {
          "output_type": "display_data",
          "data": {
            "text/plain": [
              "<IPython.core.display.HTML object>"
            ],
            "text/html": [
              "\n",
              "    <div>\n",
              "      \n",
              "      <progress value='480' max='480' style='width:300px; height:20px; vertical-align: middle;'></progress>\n",
              "      [480/480 03:17, Epoch 20/20]\n",
              "    </div>\n",
              "    <table border=\"1\" class=\"dataframe\">\n",
              "  <thead>\n",
              " <tr style=\"text-align: left;\">\n",
              "      <th>Epoch</th>\n",
              "      <th>Training Loss</th>\n",
              "      <th>Validation Loss</th>\n",
              "      <th>Accuracy</th>\n",
              "      <th>F1</th>\n",
              "    </tr>\n",
              "  </thead>\n",
              "  <tbody>\n",
              "    <tr>\n",
              "      <td>1</td>\n",
              "      <td>No log</td>\n",
              "      <td>1.586494</td>\n",
              "      <td>0.238532</td>\n",
              "      <td>0.101375</td>\n",
              "    </tr>\n",
              "    <tr>\n",
              "      <td>2</td>\n",
              "      <td>No log</td>\n",
              "      <td>1.573860</td>\n",
              "      <td>0.348624</td>\n",
              "      <td>0.252223</td>\n",
              "    </tr>\n",
              "    <tr>\n",
              "      <td>3</td>\n",
              "      <td>No log</td>\n",
              "      <td>1.543689</td>\n",
              "      <td>0.330275</td>\n",
              "      <td>0.227792</td>\n",
              "    </tr>\n",
              "    <tr>\n",
              "      <td>4</td>\n",
              "      <td>No log</td>\n",
              "      <td>1.467001</td>\n",
              "      <td>0.380734</td>\n",
              "      <td>0.312445</td>\n",
              "    </tr>\n",
              "    <tr>\n",
              "      <td>5</td>\n",
              "      <td>No log</td>\n",
              "      <td>1.371762</td>\n",
              "      <td>0.444954</td>\n",
              "      <td>0.345731</td>\n",
              "    </tr>\n",
              "    <tr>\n",
              "      <td>6</td>\n",
              "      <td>No log</td>\n",
              "      <td>1.329822</td>\n",
              "      <td>0.449541</td>\n",
              "      <td>0.364761</td>\n",
              "    </tr>\n",
              "    <tr>\n",
              "      <td>7</td>\n",
              "      <td>No log</td>\n",
              "      <td>1.222147</td>\n",
              "      <td>0.509174</td>\n",
              "      <td>0.469311</td>\n",
              "    </tr>\n",
              "    <tr>\n",
              "      <td>8</td>\n",
              "      <td>No log</td>\n",
              "      <td>1.161659</td>\n",
              "      <td>0.555046</td>\n",
              "      <td>0.510818</td>\n",
              "    </tr>\n",
              "    <tr>\n",
              "      <td>9</td>\n",
              "      <td>No log</td>\n",
              "      <td>1.074510</td>\n",
              "      <td>0.591743</td>\n",
              "      <td>0.546226</td>\n",
              "    </tr>\n",
              "    <tr>\n",
              "      <td>10</td>\n",
              "      <td>No log</td>\n",
              "      <td>1.066668</td>\n",
              "      <td>0.600917</td>\n",
              "      <td>0.559937</td>\n",
              "    </tr>\n",
              "    <tr>\n",
              "      <td>11</td>\n",
              "      <td>No log</td>\n",
              "      <td>1.038984</td>\n",
              "      <td>0.619266</td>\n",
              "      <td>0.576091</td>\n",
              "    </tr>\n",
              "    <tr>\n",
              "      <td>12</td>\n",
              "      <td>No log</td>\n",
              "      <td>1.065443</td>\n",
              "      <td>0.605505</td>\n",
              "      <td>0.570112</td>\n",
              "    </tr>\n",
              "    <tr>\n",
              "      <td>13</td>\n",
              "      <td>No log</td>\n",
              "      <td>1.024736</td>\n",
              "      <td>0.610092</td>\n",
              "      <td>0.558517</td>\n",
              "    </tr>\n",
              "    <tr>\n",
              "      <td>14</td>\n",
              "      <td>No log</td>\n",
              "      <td>1.029679</td>\n",
              "      <td>0.637615</td>\n",
              "      <td>0.598998</td>\n",
              "    </tr>\n",
              "    <tr>\n",
              "      <td>15</td>\n",
              "      <td>No log</td>\n",
              "      <td>0.975024</td>\n",
              "      <td>0.642202</td>\n",
              "      <td>0.615937</td>\n",
              "    </tr>\n",
              "    <tr>\n",
              "      <td>16</td>\n",
              "      <td>No log</td>\n",
              "      <td>1.001622</td>\n",
              "      <td>0.637615</td>\n",
              "      <td>0.610561</td>\n",
              "    </tr>\n",
              "    <tr>\n",
              "      <td>17</td>\n",
              "      <td>No log</td>\n",
              "      <td>0.999956</td>\n",
              "      <td>0.655963</td>\n",
              "      <td>0.623262</td>\n",
              "    </tr>\n",
              "    <tr>\n",
              "      <td>18</td>\n",
              "      <td>No log</td>\n",
              "      <td>0.997889</td>\n",
              "      <td>0.637615</td>\n",
              "      <td>0.608710</td>\n",
              "    </tr>\n",
              "    <tr>\n",
              "      <td>19</td>\n",
              "      <td>No log</td>\n",
              "      <td>0.963155</td>\n",
              "      <td>0.628440</td>\n",
              "      <td>0.596389</td>\n",
              "    </tr>\n",
              "    <tr>\n",
              "      <td>20</td>\n",
              "      <td>No log</td>\n",
              "      <td>0.982686</td>\n",
              "      <td>0.637615</td>\n",
              "      <td>0.608524</td>\n",
              "    </tr>\n",
              "  </tbody>\n",
              "</table><p>"
            ]
          },
          "metadata": {}
        },
        {
          "output_type": "execute_result",
          "data": {
            "text/plain": [
              "TrainOutput(global_step=480, training_loss=0.9687404632568359, metrics={'train_runtime': 198.2851, 'train_samples_per_second': 153.718, 'train_steps_per_second': 2.421, 'total_flos': 323279694616296.0, 'train_loss': 0.9687404632568359, 'epoch': 20.0})"
            ]
          },
          "metadata": {},
          "execution_count": 9
        }
      ]
    },
    {
      "cell_type": "code",
      "source": [
        "print(tokenized_data[\"train\"][0])\n",
        "print(tokenizer.decode(tokenized_data[\"train\"][0]['input_ids']))"
      ],
      "metadata": {
        "id": "FVBgEBHyDvvj",
        "outputId": "ed4cbd0e-1548-40ba-d32d-ef67a861039c",
        "colab": {
          "base_uri": "https://localhost:8080/"
        }
      },
      "execution_count": null,
      "outputs": [
        {
          "output_type": "stream",
          "name": "stdout",
          "text": [
            "{'text': 'झ𑁣झच𑀪𑀢𑀟 𑀣च 𑀠न𑀞𑁦 ण𑀢 𑀟च 𑀫चझ𑁣 𑀠च𑀟 𑀲𑁦पन𑀪 च ब𑁣𑀠ढ𑁦 𑀣च ढचनत𑀫𑀢 ष ब𑀱च𑀠𑀟च 𑀢𑀟न𑀱च णच𑀫चणच', 'label': 0, 'input_ids': [101, 105879, 105880, 105881, 105882, 105883, 105884, 105885, 105886, 552, 105887, 105880, 105888, 578, 105889, 105890, 105891, 102], 'token_type_ids': [0, 0, 0, 0, 0, 0, 0, 0, 0, 0, 0, 0, 0, 0, 0, 0, 0, 0], 'attention_mask': [1, 1, 1, 1, 1, 1, 1, 1, 1, 1, 1, 1, 1, 1, 1, 1, 1, 1]}\n",
            "[CLS] झ𑁣झच𑀪𑀢𑀟 𑀣च 𑀠न𑀞𑁦 ण𑀢 𑀟च 𑀫चझ𑁣 𑀠च𑀟 𑀲𑁦पन𑀪 च ब𑁣𑀠ढ𑁦 𑀣च ढचनत𑀫𑀢 ष ब𑀱च𑀠𑀟च 𑀢𑀟न𑀱च णच𑀫चणच [SEP]\n"
          ]
        }
      ]
    },
    {
      "cell_type": "code",
      "source": [
        "text = \"झ𑁣झच𑀪𑀢𑀟 𑀣च 𑀠न𑀞𑁦\"\n",
        "tokens = list(text)  # Character-level tokenization\n",
        "token_ids = tokenizer.convert_tokens_to_ids(tokens)\n",
        "\n",
        "print(token_ids)\n",
        "print(tokenizer.decode(token_ids))"
      ],
      "metadata": {
        "id": "jTORG25_MKLl",
        "outputId": "5a0262e5-bb67-4335-dbd7-a74b66c0ca32",
        "colab": {
          "base_uri": "https://localhost:8080/"
        }
      },
      "execution_count": null,
      "outputs": [
        {
          "output_type": "stream",
          "name": "stdout",
          "text": [
            "[555, 100, 555, 552, 100, 100, 100, 100, 100, 552, 100, 100, 566, 100, 100]\n",
            "झ [UNK] झ च [UNK] [UNK] [UNK] [UNK] [UNK] च [UNK] [UNK] न [UNK] [UNK]\n"
          ]
        }
      ]
    },
    {
      "cell_type": "markdown",
      "source": [
        "# Inference"
      ],
      "metadata": {
        "id": "oSYydzx9NAGU"
      }
    },
    {
      "cell_type": "code",
      "source": [
        "# run the trained model on a dev/test split\n",
        "data_split = \"dev\"\n",
        "eval_out = trainer.predict(tokenized_data[data_split])\n",
        "predictions = eval_out.predictions.argmax(1)\n",
        "labels = eval_out.label_ids\n",
        "dev_f1 = f1.compute(predictions=predictions, references=labels, average='macro')"
      ],
      "metadata": {
        "id": "jaa80VhiNBG_",
        "outputId": "7b9de13f-1653-4db5-d35b-b2883230e276",
        "colab": {
          "base_uri": "https://localhost:8080/",
          "height": 17
        }
      },
      "execution_count": null,
      "outputs": [
        {
          "output_type": "display_data",
          "data": {
            "text/plain": [
              "<IPython.core.display.HTML object>"
            ],
            "text/html": []
          },
          "metadata": {}
        }
      ]
    },
    {
      "cell_type": "code",
      "source": [
        "# write the predictions to a file\n",
        "with open('{}_predictions.txt'.format(data_split), 'w') as outfile:\n",
        "  outfile.write('\\n'.join([str(p) for p in predictions.tolist()]))"
      ],
      "metadata": {
        "id": "ERSnemwvKz5v"
      },
      "execution_count": null,
      "outputs": []
    }
  ]
}